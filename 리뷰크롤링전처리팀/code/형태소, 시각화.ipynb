{
 "cells": [
  {
   "cell_type": "code",
   "execution_count": 313,
   "metadata": {},
   "outputs": [],
   "source": [
    "import pandas as pd\n",
    "import numpy as np\n",
    "from pandas import DataFrame\n",
    "from pandas import Series\n",
    "import os\n",
    "import matplotlib.pyplot as plt\n",
    "import seaborn as sns\n",
    "from sklearn.tree import export_graphviz\n",
    "import matplotlib.font_manager as fm\n",
    "from pylab import plot, show\n",
    "\n",
    "import re"
   ]
  },
  {
   "cell_type": "code",
   "execution_count": 451,
   "metadata": {},
   "outputs": [],
   "source": [
    "galac = pd.read_csv(\"C:\\L1K4\\리뷰크롤링전처리팀\\형태소처리전데이터\\\\galac.csv\", header=0, index_col=0)\n",
    "hyalu = pd.read_csv(\"C:\\L1K4\\리뷰크롤링전처리팀\\형태소처리전데이터\\\\hyalu.csv\", header=0, index_col=0)\n",
    "mugwart = pd.read_csv(\"C:\\L1K4\\리뷰크롤링전처리팀\\형태소처리전데이터\\\\mugwart.csv\", header=0, index_col=0)\n",
    "niasin = pd.read_csv(\"C:\\L1K4\\리뷰크롤링전처리팀\\형태소처리전데이터\\\\niasin.csv\", header=0, index_col=0)\n",
    "propol = pd.read_csv(\"C:\\L1K4\\리뷰크롤링전처리팀\\형태소처리전데이터\\\\propol.csv\", header=0, index_col=0)"
   ]
  },
  {
   "cell_type": "code",
   "execution_count": null,
   "metadata": {},
   "outputs": [],
   "source": []
  },
  {
   "cell_type": "markdown",
   "metadata": {},
   "source": [
    "# 불용어 제거"
   ]
  },
  {
   "cell_type": "markdown",
   "metadata": {},
   "source": [
    "---\n",
    "### 갈락토미세스"
   ]
  },
  {
   "cell_type": "code",
   "execution_count": 3,
   "metadata": {
    "collapsed": true
   },
   "outputs": [
    {
     "data": {
      "text/plain": [
       "0        #사전체험단 일단 새롭게 바뀐 씨드세럼 너무 좋습니다!! 기존 씨드세럼하고 확실히 ...\n",
       "1        #사전체험단 업그레이드 되어 돌아왔음. 1. 뚜껑의 변화 대만족!!! 플라스틱 뚜껑...\n",
       "2        최근 속당김도 심하고 코 주변 살이 자주 터서 유분기 많은 크림을 발라야만 얼굴이 ...\n",
       "3        #사전체험단 체험단 신청해서 사용해보게됐어요^^ 받아왔는데 샘플 크기가 꽤 커서 놀...\n",
       "4        #사전체험단 그린티 씨드 세럼이 새로 리뉴얼 됐다는 소식 듣고 얼른 신청해보았습니다...\n",
       "                               ...                        \n",
       "10177    #사전체험단 그린티 씨드 세럼 정말 7년째 써오고 있는 사람입니다. 일단 항상 세안...\n",
       "10178    #사전체험단 초초 지성이고 볼은 언제나 홍조낀 붉은녀자입니다.ㅋㅋ 신제품 그린티씨드...\n",
       "10179    #사전체험단 일단 속당김이 없고 피부에 잘 맞아서 좋아요! 씨드세럼 세통 정도 썼었...\n",
       "10180    #사전체험단 1. 향 : 기존대비 산뜻하고 맑아진 느낌이에요! 비온 뒤 맑은 날, ...\n",
       "10181    #사전체험단 - 향 : ★★★★☆ : 구)형 비교 산뜻해졌고 무향도 좋을 것 같음 ...\n",
       "Name: review, Length: 10182, dtype: object"
      ]
     },
     "execution_count": 3,
     "metadata": {},
     "output_type": "execute_result"
    }
   ],
   "source": [
    "galac[\"review\"]"
   ]
  },
  {
   "cell_type": "code",
   "execution_count": 4,
   "metadata": {},
   "outputs": [],
   "source": [
    "text=''\n",
    "review_nomal=[]\n",
    "for each_line in galac[\"review\"]:\n",
    "    review_nomal.append(each_line)"
   ]
  },
  {
   "cell_type": "code",
   "execution_count": 7,
   "metadata": {},
   "outputs": [
    {
     "data": {
      "text/plain": [
       "'#사전체험단 업그레이드 되어 돌아왔음. 1. 뚜껑의 변화 대만족!!! 플라스틱 뚜껑이 사라지고, 펌프를 직접 돌려쓸 수 있게 되어 환경에도 착하고, 굉장히 편해졌다. 기존 플러스틱 뚜껑은 한번 잃어버리면 손깃만 스쳐도 세럼이 눌러질까 불편했었다. 2. 촉촉함하면 그린티 씨드 세럼이다. 한번만 써본 사람은 없을 것이다. 재구매율이 굉장히 높을 듯. 나역시 몇통을 썼는지 세본적은 없지만, 내 구매 수치를 캡쳐할 수 있다면 꼭 첨부하고 싶을 정도. 속건조에 촉촉함을 더해줌. 3. 진정효과! 마스크 쓰는 시국에 진정이 제일 중요한 법'"
      ]
     },
     "execution_count": 7,
     "metadata": {},
     "output_type": "execute_result"
    }
   ],
   "source": [
    "review_nomal[1]"
   ]
  },
  {
   "cell_type": "code",
   "execution_count": 9,
   "metadata": {},
   "outputs": [],
   "source": [
    "def clean_str(text):\n",
    "    pattern = '([ㄱ-ㅎ-ㅏ-ㅣ]+)'\n",
    "    text = re.sub(pattern=pattern, repl='', string=text)\n",
    "    pattern = \"[^\\w\\s]\"\n",
    "    text = re.sub(pattern=pattern, repl='', string=text)\n",
    "    pattern = \"[사전체험단]\"\n",
    "    text = re.sub(pattern=pattern, repl='', string=text)\n",
    "    pattern = \"[a-zA-Z]\"\n",
    "    text = re.sub(pattern=pattern, repl='', string=text)\n",
    "    pattern = \"[0-9.]\"\n",
    "    text = re.sub(pattern=pattern, repl='', string=text)\n",
    "    pattern = \"'[-=+,#/\\?:^$.@*\\\"※~&%ㆍ·!』\\\\‘’|\\(\\)\\[\\]\\<\\>`\\'…》]\"\n",
    "    text = re.sub(pattern=pattern, repl='', string=text)\n",
    "    \n",
    "    return text\n",
    "\n",
    "review_galac=[]\n",
    "for i in review_nomal:\n",
    "    a=clean_str(i)\n",
    "    review_galac.append(a)"
   ]
  },
  {
   "cell_type": "code",
   "execution_count": 12,
   "metadata": {},
   "outputs": [
    {
     "data": {
      "text/plain": [
       "'#사전체험단 일단 새롭게 바뀐 씨드세럼 너무 좋습니다!! 기존 씨드세럼하고 확실히 차이가 있어요. 기존 씨드세럼이 조금 더 묽은느낌이 있고 새로 나온 세럼이 좀더 쫀쫀한 젤에 가까운 제형이에요. 향도 다릅니다. 기존 세럼이 그린티의 정석향이라면 바뀐 세럼은 그린티향이 확 줄고 스킨케어에서 날 법한 은은한 향이 나서 향에 민감한 사람도 잘 사용할 수 있을 것 같아요. 기존 세럼도 흡수력이 좋았지만 브포세럼이나 자연발효에센스만큼은 아니였거든요. 그런데 바뀐 세럼은 흡수력이 더 좋아져서 놀랐어요. 다만 기존세럼이 레이어링이 쉬웠다면 바뀐세럼은 조금은 텀을 주고 레이어링하는게 더 나은 것 같아요.'"
      ]
     },
     "execution_count": 12,
     "metadata": {},
     "output_type": "execute_result"
    }
   ],
   "source": [
    "review_nomal[0]"
   ]
  },
  {
   "cell_type": "code",
   "execution_count": 11,
   "metadata": {},
   "outputs": [
    {
     "data": {
      "text/plain": [
       "' 일 새롭게 바뀐 씨드세럼 너무 좋습니다 기존 씨드세럼하고 확실히 차이가 있어요 기존 씨드세럼이 조금 더 묽은느낌이 있고 새로 나온 세럼이 좀더 쫀쫀한 젤에 가까운 제형이에요 향도 다릅니다 기존 세럼이 그린티의 정석향이라면 바뀐 세럼은 그린티향이 확 줄고 스킨케어에서 날 법한 은은한 향이 나서 향에 민감한 람도 잘 용할 수 있을 것 같아요 기존 세럼도 흡수력이 좋았지만 브포세럼이나 자연발효에센스만큼은 아니였거든요 그런데 바뀐 세럼은 흡수력이 더 좋아져서 놀랐어요 다만 기존세럼이 레이어링이 쉬웠다면 바뀐세럼은 조금은 텀을 주고 레이어링하는게 더 나은 것 같아요'"
      ]
     },
     "execution_count": 11,
     "metadata": {},
     "output_type": "execute_result"
    }
   ],
   "source": [
    "review_galac[0]"
   ]
  },
  {
   "cell_type": "code",
   "execution_count": 173,
   "metadata": {},
   "outputs": [],
   "source": [
    "import nltk\n",
    "from konlpy.tag import Okt\n",
    "Okt=Okt()"
   ]
  },
  {
   "cell_type": "code",
   "execution_count": 14,
   "metadata": {},
   "outputs": [],
   "source": [
    "a=len(review_galac)\n",
    "token_review_galac_list = []\n",
    "\n",
    "for i in range(0, a):\n",
    "    token_review = Okt.morphs(review_galac[i]) #Okt= 형태소 분석기, morphs형태소 추출, review_galac= 전처리한 리뷰\n",
    "    token_review_galac_list.append(token_review)"
   ]
  },
  {
   "cell_type": "code",
   "execution_count": 61,
   "metadata": {},
   "outputs": [],
   "source": [
    "galac[\"token_review\"] = token_review_galac_list"
   ]
  },
  {
   "cell_type": "code",
   "execution_count": 62,
   "metadata": {},
   "outputs": [],
   "source": [
    "galac.to_csv(\"galac_token.csv\", encoding=\"utf-8-sig\")"
   ]
  },
  {
   "cell_type": "code",
   "execution_count": 63,
   "metadata": {
    "collapsed": true
   },
   "outputs": [
    {
     "data": {
      "text/html": [
       "<div>\n",
       "<style scoped>\n",
       "    .dataframe tbody tr th:only-of-type {\n",
       "        vertical-align: middle;\n",
       "    }\n",
       "\n",
       "    .dataframe tbody tr th {\n",
       "        vertical-align: top;\n",
       "    }\n",
       "\n",
       "    .dataframe thead th {\n",
       "        text-align: right;\n",
       "    }\n",
       "</style>\n",
       "<table border=\"1\" class=\"dataframe\">\n",
       "  <thead>\n",
       "    <tr style=\"text-align: right;\">\n",
       "      <th></th>\n",
       "      <th>review</th>\n",
       "      <th>point</th>\n",
       "      <th>date</th>\n",
       "      <th>ingre</th>\n",
       "      <th>token_review</th>\n",
       "    </tr>\n",
       "  </thead>\n",
       "  <tbody>\n",
       "    <tr>\n",
       "      <th>0</th>\n",
       "      <td>#사전체험단 일단 새롭게 바뀐 씨드세럼 너무 좋습니다!! 기존 씨드세럼하고 확실히 ...</td>\n",
       "      <td>5</td>\n",
       "      <td>2021-03-02 00:00:00</td>\n",
       "      <td>갈락토미세스</td>\n",
       "      <td>[일, 새롭게, 바뀐, 씨드, 세럼, 너무, 좋습니다, 기존, 씨드, 세럼, 하고,...</td>\n",
       "    </tr>\n",
       "    <tr>\n",
       "      <th>1</th>\n",
       "      <td>#사전체험단 업그레이드 되어 돌아왔음. 1. 뚜껑의 변화 대만족!!! 플라스틱 뚜껑...</td>\n",
       "      <td>5</td>\n",
       "      <td>2021-03-02 00:00:00</td>\n",
       "      <td>갈락토미세스</td>\n",
       "      <td>[업그레이드, 되어, 돌아왔음, 뚜껑, 의, 변화, 대, 만족, 플라스틱, 뚜껑, ...</td>\n",
       "    </tr>\n",
       "    <tr>\n",
       "      <th>2</th>\n",
       "      <td>최근 속당김도 심하고 코 주변 살이 자주 터서 유분기 많은 크림을 발라야만 얼굴이 ...</td>\n",
       "      <td>5</td>\n",
       "      <td>2021-03-02 00:00:00</td>\n",
       "      <td>갈락토미세스</td>\n",
       "      <td>[최근, 속, 당, 김, 도, 심하고, 코, 주변, 살이, 자주, 터, 서, 유, ...</td>\n",
       "    </tr>\n",
       "    <tr>\n",
       "      <th>3</th>\n",
       "      <td>#사전체험단 체험단 신청해서 사용해보게됐어요^^ 받아왔는데 샘플 크기가 꽤 커서 놀...</td>\n",
       "      <td>5</td>\n",
       "      <td>2021-03-02 00:00:00</td>\n",
       "      <td>갈락토미세스</td>\n",
       "      <td>[신청, 해서, 용, 해보게, 됐어요, 받아, 왔는데, 샘플, 크기, 가, 꽤, 커...</td>\n",
       "    </tr>\n",
       "    <tr>\n",
       "      <th>4</th>\n",
       "      <td>#사전체험단 그린티 씨드 세럼이 새로 리뉴얼 됐다는 소식 듣고 얼른 신청해보았습니다...</td>\n",
       "      <td>5</td>\n",
       "      <td>2021-03-02 00:00:00</td>\n",
       "      <td>갈락토미세스</td>\n",
       "      <td>[그린티, 씨드, 세, 럼, 이, 새로, 리뉴얼, 됐다는, 소식, 듣고, 얼른, 신...</td>\n",
       "    </tr>\n",
       "    <tr>\n",
       "      <th>...</th>\n",
       "      <td>...</td>\n",
       "      <td>...</td>\n",
       "      <td>...</td>\n",
       "      <td>...</td>\n",
       "      <td>...</td>\n",
       "    </tr>\n",
       "    <tr>\n",
       "      <th>10177</th>\n",
       "      <td>#사전체험단 그린티 씨드 세럼 정말 7년째 써오고 있는 사람입니다. 일단 항상 세안...</td>\n",
       "      <td>5</td>\n",
       "      <td>2021-02-18 00:00:00</td>\n",
       "      <td>갈락토미세스</td>\n",
       "      <td>[그린티, 씨드, 세, 럼, 정말, 년, 째, 써오고, 있는, 람, 입니다, 일, ...</td>\n",
       "    </tr>\n",
       "    <tr>\n",
       "      <th>10178</th>\n",
       "      <td>#사전체험단 초초 지성이고 볼은 언제나 홍조낀 붉은녀자입니다.ㅋㅋ 신제품 그린티씨드...</td>\n",
       "      <td>5</td>\n",
       "      <td>2021-02-18 00:00:00</td>\n",
       "      <td>갈락토미세스</td>\n",
       "      <td>[초초, 지성, 이고, 볼, 은, 언제나, 홍조, 낀, 붉은, 녀자, 입니다, 신제...</td>\n",
       "    </tr>\n",
       "    <tr>\n",
       "      <th>10179</th>\n",
       "      <td>#사전체험단 일단 속당김이 없고 피부에 잘 맞아서 좋아요! 씨드세럼 세통 정도 썼었...</td>\n",
       "      <td>5</td>\n",
       "      <td>2021-02-18 00:00:00</td>\n",
       "      <td>갈락토미세스</td>\n",
       "      <td>[일, 속, 당, 김, 이, 없고, 피부, 에, 잘, 맞아서, 좋아요, 씨드, 세럼...</td>\n",
       "    </tr>\n",
       "    <tr>\n",
       "      <th>10180</th>\n",
       "      <td>#사전체험단 1. 향 : 기존대비 산뜻하고 맑아진 느낌이에요! 비온 뒤 맑은 날, ...</td>\n",
       "      <td>5</td>\n",
       "      <td>2021-02-18 00:00:00</td>\n",
       "      <td>갈락토미세스</td>\n",
       "      <td>[향, 기존, 대비, 산뜻하고, 맑아진, 느낌, 이에요, 비온, 뒤, 맑은, 날, ...</td>\n",
       "    </tr>\n",
       "    <tr>\n",
       "      <th>10181</th>\n",
       "      <td>#사전체험단 - 향 : ★★★★☆ : 구)형 비교 산뜻해졌고 무향도 좋을 것 같음 ...</td>\n",
       "      <td>5</td>\n",
       "      <td>2021-02-17 00:00:00</td>\n",
       "      <td>갈락토미세스</td>\n",
       "      <td>[향, 구형, 비교, 산뜻해졌고, 무향, 도, 좋을, 것, 같음, 제, 형, 크리미...</td>\n",
       "    </tr>\n",
       "  </tbody>\n",
       "</table>\n",
       "<p>10182 rows × 5 columns</p>\n",
       "</div>"
      ],
      "text/plain": [
       "                                                  review  point  \\\n",
       "0      #사전체험단 일단 새롭게 바뀐 씨드세럼 너무 좋습니다!! 기존 씨드세럼하고 확실히 ...      5   \n",
       "1      #사전체험단 업그레이드 되어 돌아왔음. 1. 뚜껑의 변화 대만족!!! 플라스틱 뚜껑...      5   \n",
       "2      최근 속당김도 심하고 코 주변 살이 자주 터서 유분기 많은 크림을 발라야만 얼굴이 ...      5   \n",
       "3      #사전체험단 체험단 신청해서 사용해보게됐어요^^ 받아왔는데 샘플 크기가 꽤 커서 놀...      5   \n",
       "4      #사전체험단 그린티 씨드 세럼이 새로 리뉴얼 됐다는 소식 듣고 얼른 신청해보았습니다...      5   \n",
       "...                                                  ...    ...   \n",
       "10177  #사전체험단 그린티 씨드 세럼 정말 7년째 써오고 있는 사람입니다. 일단 항상 세안...      5   \n",
       "10178  #사전체험단 초초 지성이고 볼은 언제나 홍조낀 붉은녀자입니다.ㅋㅋ 신제품 그린티씨드...      5   \n",
       "10179  #사전체험단 일단 속당김이 없고 피부에 잘 맞아서 좋아요! 씨드세럼 세통 정도 썼었...      5   \n",
       "10180  #사전체험단 1. 향 : 기존대비 산뜻하고 맑아진 느낌이에요! 비온 뒤 맑은 날, ...      5   \n",
       "10181  #사전체험단 - 향 : ★★★★☆ : 구)형 비교 산뜻해졌고 무향도 좋을 것 같음 ...      5   \n",
       "\n",
       "                      date   ingre  \\\n",
       "0      2021-03-02 00:00:00  갈락토미세스   \n",
       "1      2021-03-02 00:00:00  갈락토미세스   \n",
       "2      2021-03-02 00:00:00  갈락토미세스   \n",
       "3      2021-03-02 00:00:00  갈락토미세스   \n",
       "4      2021-03-02 00:00:00  갈락토미세스   \n",
       "...                    ...     ...   \n",
       "10177  2021-02-18 00:00:00  갈락토미세스   \n",
       "10178  2021-02-18 00:00:00  갈락토미세스   \n",
       "10179  2021-02-18 00:00:00  갈락토미세스   \n",
       "10180  2021-02-18 00:00:00  갈락토미세스   \n",
       "10181  2021-02-17 00:00:00  갈락토미세스   \n",
       "\n",
       "                                            token_review  \n",
       "0      [일, 새롭게, 바뀐, 씨드, 세럼, 너무, 좋습니다, 기존, 씨드, 세럼, 하고,...  \n",
       "1      [업그레이드, 되어, 돌아왔음, 뚜껑, 의, 변화, 대, 만족, 플라스틱, 뚜껑, ...  \n",
       "2      [최근, 속, 당, 김, 도, 심하고, 코, 주변, 살이, 자주, 터, 서, 유, ...  \n",
       "3      [신청, 해서, 용, 해보게, 됐어요, 받아, 왔는데, 샘플, 크기, 가, 꽤, 커...  \n",
       "4      [그린티, 씨드, 세, 럼, 이, 새로, 리뉴얼, 됐다는, 소식, 듣고, 얼른, 신...  \n",
       "...                                                  ...  \n",
       "10177  [그린티, 씨드, 세, 럼, 정말, 년, 째, 써오고, 있는, 람, 입니다, 일, ...  \n",
       "10178  [초초, 지성, 이고, 볼, 은, 언제나, 홍조, 낀, 붉은, 녀자, 입니다, 신제...  \n",
       "10179  [일, 속, 당, 김, 이, 없고, 피부, 에, 잘, 맞아서, 좋아요, 씨드, 세럼...  \n",
       "10180  [향, 기존, 대비, 산뜻하고, 맑아진, 느낌, 이에요, 비온, 뒤, 맑은, 날, ...  \n",
       "10181  [향, 구형, 비교, 산뜻해졌고, 무향, 도, 좋을, 것, 같음, 제, 형, 크리미...  \n",
       "\n",
       "[10182 rows x 5 columns]"
      ]
     },
     "execution_count": 63,
     "metadata": {},
     "output_type": "execute_result"
    }
   ],
   "source": [
    "galac"
   ]
  },
  {
   "cell_type": "markdown",
   "metadata": {},
   "source": [
    "---\n",
    "### 히알루론산"
   ]
  },
  {
   "cell_type": "code",
   "execution_count": 121,
   "metadata": {},
   "outputs": [
    {
     "name": "stdout",
     "output_type": "stream",
     "text": [
      "<class 'pandas.core.frame.DataFrame'>\n",
      "Int64Index: 14254 entries, 0 to 14253\n",
      "Data columns (total 5 columns):\n",
      " #   Column        Non-Null Count  Dtype \n",
      "---  ------        --------------  ----- \n",
      " 0   review        14254 non-null  object\n",
      " 1   point         14254 non-null  int64 \n",
      " 2   date          14254 non-null  object\n",
      " 3   ingre         14254 non-null  object\n",
      " 4   token_review  14254 non-null  object\n",
      "dtypes: int64(1), object(4)\n",
      "memory usage: 668.2+ KB\n"
     ]
    }
   ],
   "source": [
    "hyalu.info()"
   ]
  },
  {
   "cell_type": "code",
   "execution_count": 95,
   "metadata": {},
   "outputs": [],
   "source": [
    "text=''\n",
    "review_hyal_nomal=[]\n",
    "for each_line in hyalu[\"review\"]:\n",
    "    review_hyal_nomal.append(each_line)"
   ]
  },
  {
   "cell_type": "code",
   "execution_count": 96,
   "metadata": {},
   "outputs": [
    {
     "data": {
      "text/plain": [
       "'트루케어 에이씨 진정 앰플 일단 트루케어 비타민 씨 20 앰플 쓰면서 따끔하고 약간 얼굴에 자극이 되어서 비타민 바르고 진정용으로 바르긴 하는데요... 너무 물 재질이라 그런지 ㅜㅜ 몇번쓰면 순삭입니다 아주아주 가볍습니다'"
      ]
     },
     "execution_count": 96,
     "metadata": {},
     "output_type": "execute_result"
    }
   ],
   "source": [
    "review_hyal_nomal[0]"
   ]
  },
  {
   "cell_type": "code",
   "execution_count": 101,
   "metadata": {},
   "outputs": [],
   "source": [
    "def clean_str(text):\n",
    "    pattern = '([ㄱ-ㅎ-ㅏ-ㅣ]+)'\n",
    "    text = re.sub(pattern=pattern, repl='', string=text)\n",
    "    pattern = \"[^\\w\\s]\"\n",
    "    text = re.sub(pattern=pattern, repl='', string=text)\n",
    "    pattern = \"[사전체험단]\"\n",
    "    text = re.sub(pattern=pattern, repl='', string=text)\n",
    "    pattern = \"[a-zA-Z]\"\n",
    "    text = re.sub(pattern=pattern, repl='', string=text)\n",
    "    pattern = \"[0-9.]\"\n",
    "    text = re.sub(pattern=pattern, repl='', string=text)\n",
    "    pattern = \"'[-=+,#/\\?:^$.@*\\\"※~&%ㆍ·!』\\\\‘’|\\(\\)\\[\\]\\<\\>`\\'…》]\"\n",
    "    text = re.sub(pattern=pattern, repl='', string=text)\n",
    "    \n",
    "    return text\n",
    "\n",
    "review_hyal=[]\n",
    "for i in review_hyal_nomal:\n",
    "    a=clean_str(i)\n",
    "    review_hyal.append(a)"
   ]
  },
  {
   "cell_type": "code",
   "execution_count": 102,
   "metadata": {},
   "outputs": [],
   "source": [
    "a=len(review_hyal)\n",
    "token_review_hyal_list = []\n",
    "\n",
    "for i in range(0, a):\n",
    "    token_review = Okt.morphs(review_hyal[i]) #Okt= 형태소 분석기, morphs형태소 추출, review_*= 전처리한 리뷰\n",
    "    token_review_hyal_list.append(token_review)"
   ]
  },
  {
   "cell_type": "code",
   "execution_count": 103,
   "metadata": {},
   "outputs": [
    {
     "data": {
      "text/plain": [
       "'트루케어 에이씨 진정 앰플 일단 트루케어 비타민 씨 20 앰플 쓰면서 따끔하고 약간 얼굴에 자극이 되어서 비타민 바르고 진정용으로 바르긴 하는데요... 너무 물 재질이라 그런지 ㅜㅜ 몇번쓰면 순삭입니다 아주아주 가볍습니다'"
      ]
     },
     "execution_count": 103,
     "metadata": {},
     "output_type": "execute_result"
    }
   ],
   "source": [
    "review_hyal_nomal[0]"
   ]
  },
  {
   "cell_type": "code",
   "execution_count": 108,
   "metadata": {},
   "outputs": [
    {
     "data": {
      "text/plain": [
       "'트러블 생겼을때 투루케어 진정앰플 바르고 자면 다음날 좀 진정이 돼는것같아요 저한테 잘맞는거같아 요즘은 아침 저녁 계속 용중이에요 자주 써서 금방 줄어드네요 대용량으로 나왔음 좋겠습니다'"
      ]
     },
     "execution_count": 108,
     "metadata": {},
     "output_type": "execute_result"
    }
   ],
   "source": []
  },
  {
   "cell_type": "code",
   "execution_count": 105,
   "metadata": {},
   "outputs": [],
   "source": [
    "hyalu[\"token_review\"] = token_review_hyal_list"
   ]
  },
  {
   "cell_type": "code",
   "execution_count": 106,
   "metadata": {},
   "outputs": [
    {
     "data": {
      "text/html": [
       "<div>\n",
       "<style scoped>\n",
       "    .dataframe tbody tr th:only-of-type {\n",
       "        vertical-align: middle;\n",
       "    }\n",
       "\n",
       "    .dataframe tbody tr th {\n",
       "        vertical-align: top;\n",
       "    }\n",
       "\n",
       "    .dataframe thead th {\n",
       "        text-align: right;\n",
       "    }\n",
       "</style>\n",
       "<table border=\"1\" class=\"dataframe\">\n",
       "  <thead>\n",
       "    <tr style=\"text-align: right;\">\n",
       "      <th></th>\n",
       "      <th>review</th>\n",
       "      <th>point</th>\n",
       "      <th>date</th>\n",
       "      <th>ingre</th>\n",
       "      <th>token_review</th>\n",
       "    </tr>\n",
       "  </thead>\n",
       "  <tbody>\n",
       "    <tr>\n",
       "      <th>0</th>\n",
       "      <td>트루케어 에이씨 진정 앰플 일단 트루케어 비타민 씨 20 앰플 쓰면서 따끔하고 약간...</td>\n",
       "      <td>4</td>\n",
       "      <td>2021-03-01</td>\n",
       "      <td>히알루론산</td>\n",
       "      <td>[트루, 케어, 에이, 씨, 진정, 앰플, 일, 트루, 케어, 비타민, 씨, 앰플,...</td>\n",
       "    </tr>\n",
       "    <tr>\n",
       "      <th>1</th>\n",
       "      <td>여드름은 진정시키고 피부를 윤기있게 해준다</td>\n",
       "      <td>5</td>\n",
       "      <td>2021-02-28</td>\n",
       "      <td>히알루론산</td>\n",
       "      <td>[여드름, 은, 진정, 시키고, 피부, 를, 윤기, 있게, 해준다]</td>\n",
       "    </tr>\n",
       "    <tr>\n",
       "      <th>2</th>\n",
       "      <td>트러블 생겼을때 투루케어 진정앰플 바르고 자면 다음날 좀 진정이 돼는것같아요. 저한...</td>\n",
       "      <td>5</td>\n",
       "      <td>2021-02-27</td>\n",
       "      <td>히알루론산</td>\n",
       "      <td>[트러블, 생겼을, 때, 투루, 케어, 진정, 앰플, 바르고, 자면, 다음, 날, ...</td>\n",
       "    </tr>\n",
       "    <tr>\n",
       "      <th>3</th>\n",
       "      <td>갑자기 눈가에 주름이 잘 생기고 건조함을 느끼기 시작해서 샘플 받은거 써보고 괜찮아...</td>\n",
       "      <td>4</td>\n",
       "      <td>2021-02-27</td>\n",
       "      <td>히알루론산</td>\n",
       "      <td>[갑자기, 눈가, 에, 주름, 이, 잘, 생기, 고, 건조함을, 느끼기, 시작, 해...</td>\n",
       "    </tr>\n",
       "    <tr>\n",
       "      <th>4</th>\n",
       "      <td>좋아요 트러블도 들어가는것같고 액체도 수분이 팡팡해서 흡수도잘되구 촉촉하고 맨들맨들...</td>\n",
       "      <td>5</td>\n",
       "      <td>2021-02-26</td>\n",
       "      <td>히알루론산</td>\n",
       "      <td>[좋아요, 트러블, 도, 들어가는것, 같고, 액, 도, 수분, 이, 팡팡, 해서, ...</td>\n",
       "    </tr>\n",
       "  </tbody>\n",
       "</table>\n",
       "</div>"
      ],
      "text/plain": [
       "                                              review  point        date  \\\n",
       "0  트루케어 에이씨 진정 앰플 일단 트루케어 비타민 씨 20 앰플 쓰면서 따끔하고 약간...      4  2021-03-01   \n",
       "1                            여드름은 진정시키고 피부를 윤기있게 해준다      5  2021-02-28   \n",
       "2  트러블 생겼을때 투루케어 진정앰플 바르고 자면 다음날 좀 진정이 돼는것같아요. 저한...      5  2021-02-27   \n",
       "3  갑자기 눈가에 주름이 잘 생기고 건조함을 느끼기 시작해서 샘플 받은거 써보고 괜찮아...      4  2021-02-27   \n",
       "4  좋아요 트러블도 들어가는것같고 액체도 수분이 팡팡해서 흡수도잘되구 촉촉하고 맨들맨들...      5  2021-02-26   \n",
       "\n",
       "   ingre                                       token_review  \n",
       "0  히알루론산  [트루, 케어, 에이, 씨, 진정, 앰플, 일, 트루, 케어, 비타민, 씨, 앰플,...  \n",
       "1  히알루론산              [여드름, 은, 진정, 시키고, 피부, 를, 윤기, 있게, 해준다]  \n",
       "2  히알루론산  [트러블, 생겼을, 때, 투루, 케어, 진정, 앰플, 바르고, 자면, 다음, 날, ...  \n",
       "3  히알루론산  [갑자기, 눈가, 에, 주름, 이, 잘, 생기, 고, 건조함을, 느끼기, 시작, 해...  \n",
       "4  히알루론산  [좋아요, 트러블, 도, 들어가는것, 같고, 액, 도, 수분, 이, 팡팡, 해서, ...  "
      ]
     },
     "execution_count": 106,
     "metadata": {},
     "output_type": "execute_result"
    }
   ],
   "source": [
    "hyalu.head()"
   ]
  },
  {
   "cell_type": "code",
   "execution_count": 109,
   "metadata": {},
   "outputs": [],
   "source": [
    "hyalu.to_csv(\"hyalu_token.csv\", encoding=\"utf-8-sig\")"
   ]
  },
  {
   "cell_type": "markdown",
   "metadata": {},
   "source": [
    "---\n",
    "### 머그워트"
   ]
  },
  {
   "cell_type": "code",
   "execution_count": 25,
   "metadata": {},
   "outputs": [],
   "source": [
    "mugwart = pd.read_csv(\"C:\\L1K4\\리뷰크롤링전처리팀\\mugwart.csv\", header=0, index_col=0)"
   ]
  },
  {
   "cell_type": "code",
   "execution_count": 26,
   "metadata": {},
   "outputs": [
    {
     "data": {
      "text/html": [
       "<div>\n",
       "<style scoped>\n",
       "    .dataframe tbody tr th:only-of-type {\n",
       "        vertical-align: middle;\n",
       "    }\n",
       "\n",
       "    .dataframe tbody tr th {\n",
       "        vertical-align: top;\n",
       "    }\n",
       "\n",
       "    .dataframe thead th {\n",
       "        text-align: right;\n",
       "    }\n",
       "</style>\n",
       "<table border=\"1\" class=\"dataframe\">\n",
       "  <thead>\n",
       "    <tr style=\"text-align: right;\">\n",
       "      <th></th>\n",
       "      <th>review</th>\n",
       "      <th>point</th>\n",
       "      <th>date</th>\n",
       "      <th>ingre</th>\n",
       "    </tr>\n",
       "  </thead>\n",
       "  <tbody>\n",
       "    <tr>\n",
       "      <th>0</th>\n",
       "      <td>3통째 재구매입니다\\r\\n✨진정\\r\\n이 제품의 진정력은 무엇보다 스킨팩을 할 때 ...</td>\n",
       "      <td>5</td>\n",
       "      <td>2021-03-04</td>\n",
       "      <td>머그워트</td>\n",
       "    </tr>\n",
       "    <tr>\n",
       "      <th>1</th>\n",
       "      <td>진정템을 찾다가 베스트셀러이길래 주문해 보았어요</td>\n",
       "      <td>5</td>\n",
       "      <td>2021-03-04</td>\n",
       "      <td>머그워트</td>\n",
       "    </tr>\n",
       "    <tr>\n",
       "      <th>2</th>\n",
       "      <td>예전부터 사고 싶었던 제품인데.. 이번에 세일 기간에 거의 40% 할인 들어가서 샀...</td>\n",
       "      <td>5</td>\n",
       "      <td>2021-03-04</td>\n",
       "      <td>머그워트</td>\n",
       "    </tr>\n",
       "    <tr>\n",
       "      <th>3</th>\n",
       "      <td>제가 매일매일 쓰고있는제품이예요\\r\\n항상 토너처럼 화장솜에 묻혀서 사용하고있는데 ...</td>\n",
       "      <td>5</td>\n",
       "      <td>2021-03-03</td>\n",
       "      <td>머그워트</td>\n",
       "    </tr>\n",
       "    <tr>\n",
       "      <th>4</th>\n",
       "      <td>몇번째 재구매인지 모를정도로 계속 구매하고 있는 제품이에요. 솜에 적셔서 팩처럼 사...</td>\n",
       "      <td>5</td>\n",
       "      <td>2021-03-03</td>\n",
       "      <td>머그워트</td>\n",
       "    </tr>\n",
       "    <tr>\n",
       "      <th>...</th>\n",
       "      <td>...</td>\n",
       "      <td>...</td>\n",
       "      <td>...</td>\n",
       "      <td>...</td>\n",
       "    </tr>\n",
       "    <tr>\n",
       "      <th>9853</th>\n",
       "      <td>임블리 에센스사려다 이거샀어요! 좋은효과가 있었음 좋겠네요??</td>\n",
       "      <td>4</td>\n",
       "      <td>2018-07-25</td>\n",
       "      <td>머그워트</td>\n",
       "    </tr>\n",
       "    <tr>\n",
       "      <th>9854</th>\n",
       "      <td>Great experience as always</td>\n",
       "      <td>5</td>\n",
       "      <td>2018-07-24</td>\n",
       "      <td>머그워트</td>\n",
       "    </tr>\n",
       "    <tr>\n",
       "      <th>9855</th>\n",
       "      <td>구매해봤어요 쑥100%이니 여자한테 좋을 것 같아용~</td>\n",
       "      <td>5</td>\n",
       "      <td>2018-07-16</td>\n",
       "      <td>머그워트</td>\n",
       "    </tr>\n",
       "    <tr>\n",
       "      <th>9856</th>\n",
       "      <td>트러블 진정\\n상품은 마음에 드는데 배송이 너무 느려요ㅠ\\n트러블 진정에 효과가 좋...</td>\n",
       "      <td>3</td>\n",
       "      <td>2018-07-15</td>\n",
       "      <td>머그워트</td>\n",
       "    </tr>\n",
       "    <tr>\n",
       "      <th>9857</th>\n",
       "      <td>너무 좋아서 세일기간에 쟁이려고 구입했어요!</td>\n",
       "      <td>4</td>\n",
       "      <td>2018-07-11</td>\n",
       "      <td>머그워트</td>\n",
       "    </tr>\n",
       "  </tbody>\n",
       "</table>\n",
       "<p>9858 rows × 4 columns</p>\n",
       "</div>"
      ],
      "text/plain": [
       "                                                 review  point        date  \\\n",
       "0     3통째 재구매입니다\\r\\n✨진정\\r\\n이 제품의 진정력은 무엇보다 스킨팩을 할 때 ...      5  2021-03-04   \n",
       "1                            진정템을 찾다가 베스트셀러이길래 주문해 보았어요      5  2021-03-04   \n",
       "2     예전부터 사고 싶었던 제품인데.. 이번에 세일 기간에 거의 40% 할인 들어가서 샀...      5  2021-03-04   \n",
       "3     제가 매일매일 쓰고있는제품이예요\\r\\n항상 토너처럼 화장솜에 묻혀서 사용하고있는데 ...      5  2021-03-03   \n",
       "4     몇번째 재구매인지 모를정도로 계속 구매하고 있는 제품이에요. 솜에 적셔서 팩처럼 사...      5  2021-03-03   \n",
       "...                                                 ...    ...         ...   \n",
       "9853                 임블리 에센스사려다 이거샀어요! 좋은효과가 있었음 좋겠네요??      4  2018-07-25   \n",
       "9854                         Great experience as always      5  2018-07-24   \n",
       "9855                      구매해봤어요 쑥100%이니 여자한테 좋을 것 같아용~      5  2018-07-16   \n",
       "9856  트러블 진정\\n상품은 마음에 드는데 배송이 너무 느려요ㅠ\\n트러블 진정에 효과가 좋...      3  2018-07-15   \n",
       "9857                           너무 좋아서 세일기간에 쟁이려고 구입했어요!      4  2018-07-11   \n",
       "\n",
       "     ingre  \n",
       "0     머그워트  \n",
       "1     머그워트  \n",
       "2     머그워트  \n",
       "3     머그워트  \n",
       "4     머그워트  \n",
       "...    ...  \n",
       "9853  머그워트  \n",
       "9854  머그워트  \n",
       "9855  머그워트  \n",
       "9856  머그워트  \n",
       "9857  머그워트  \n",
       "\n",
       "[9858 rows x 4 columns]"
      ]
     },
     "execution_count": 26,
     "metadata": {},
     "output_type": "execute_result"
    }
   ],
   "source": [
    "mugwart"
   ]
  },
  {
   "cell_type": "code",
   "execution_count": 27,
   "metadata": {},
   "outputs": [],
   "source": [
    "def rmEmoji(inputData):\n",
    "    return inputData.encode(['utf-8', 'ascii'], 'ignore').decode(['utf-8', 'ascii'])"
   ]
  },
  {
   "cell_type": "code",
   "execution_count": 28,
   "metadata": {},
   "outputs": [
    {
     "name": "stdout",
     "output_type": "stream",
     "text": [
      "<class 'pandas.core.frame.DataFrame'>\n",
      "Int64Index: 9858 entries, 0 to 9857\n",
      "Data columns (total 4 columns):\n",
      " #   Column  Non-Null Count  Dtype \n",
      "---  ------  --------------  ----- \n",
      " 0   review  9671 non-null   object\n",
      " 1   point   9858 non-null   int64 \n",
      " 2   date    9858 non-null   object\n",
      " 3   ingre   9858 non-null   object\n",
      "dtypes: int64(1), object(3)\n",
      "memory usage: 385.1+ KB\n"
     ]
    }
   ],
   "source": [
    "mugwart.info()"
   ]
  },
  {
   "cell_type": "code",
   "execution_count": 33,
   "metadata": {},
   "outputs": [],
   "source": [
    "mugwart = mugwart.astype(str).apply(lambda x: x.str.encode('utf-8', 'ignore').str.decode('utf-8'))"
   ]
  },
  {
   "cell_type": "code",
   "execution_count": 34,
   "metadata": {},
   "outputs": [],
   "source": [
    "text=''\n",
    "review_mug_nomal=[]\n",
    "for each_line in mugwart[\"review\"]:\n",
    "    review_mug_nomal.append(each_line)"
   ]
  },
  {
   "cell_type": "code",
   "execution_count": 35,
   "metadata": {},
   "outputs": [
    {
     "data": {
      "text/plain": [
       "list"
      ]
     },
     "execution_count": 35,
     "metadata": {},
     "output_type": "execute_result"
    }
   ],
   "source": [
    "type(review_mug_nomal)"
   ]
  },
  {
   "cell_type": "code",
   "execution_count": 36,
   "metadata": {
    "scrolled": false
   },
   "outputs": [],
   "source": [
    "def clean_str(text):\n",
    "    pattern = '[\\U00010000-\\U0010ffff]'\n",
    "    text = re.sub(pattern=pattern,repl='', string=text)\n",
    "    pattern = '([ㄱ-ㅎ-ㅏ-ㅣ]+)'\n",
    "    text = re.sub(pattern=pattern, repl='', string=text)\n",
    "    pattern = \"[^\\w\\s]\"\n",
    "    text = re.sub(pattern=pattern, repl='', string=text) \n",
    "    pattern = \"[사전체험단]\"\n",
    "    text = re.sub(pattern=pattern, repl='', string=text)\n",
    "    pattern = \"[a-zA-Z]\"\n",
    "    text = re.sub(pattern=pattern, repl='', string=text)\n",
    "    pattern = \"[0-9.]\"\n",
    "    text = re.sub(pattern=pattern, repl='', string=text)\n",
    "    pattern = \"[-=+,#/\\?:^$.@*\\\"※~&%ㆍ·!』\\\\‘’|\\(\\)\\[\\]\\<\\>`\\'…》]\"\n",
    "    text = re.sub(pattern=pattern, repl='', string=text)\n",
    "    pattern = '[^ ㄱ-ㅣ가-힣]+'\n",
    "    text = re.sub(pattern=pattern, repl='', string=text)\n",
    "    \n",
    "    #print(type(pattern))\n",
    "    #print(type(text))\n",
    "    \n",
    "    return text\n",
    "\n",
    "review_mug=[]\n",
    "for i in review_mug_nomal:\n",
    "    a=clean_str(i)\n",
    "    review_mug.append(a)"
   ]
  },
  {
   "cell_type": "code",
   "execution_count": 39,
   "metadata": {},
   "outputs": [],
   "source": [
    "a=len(review_mug)\n",
    "token_review_mug_list = []\n",
    "\n",
    "for i in range(0, a):\n",
    "    token_review = Okt.morphs(review_mug[i]) #Okt= 형태소 분석기, morphs형태소 추출,sk review_*= 전처리한 리뷰\n",
    "    token_review_mug_list.append(token_review)"
   ]
  },
  {
   "cell_type": "code",
   "execution_count": 40,
   "metadata": {},
   "outputs": [],
   "source": [
    "mugwart[\"token_review\"] = token_review_mug_list"
   ]
  },
  {
   "cell_type": "code",
   "execution_count": 41,
   "metadata": {},
   "outputs": [
    {
     "data": {
      "text/html": [
       "<div>\n",
       "<style scoped>\n",
       "    .dataframe tbody tr th:only-of-type {\n",
       "        vertical-align: middle;\n",
       "    }\n",
       "\n",
       "    .dataframe tbody tr th {\n",
       "        vertical-align: top;\n",
       "    }\n",
       "\n",
       "    .dataframe thead th {\n",
       "        text-align: right;\n",
       "    }\n",
       "</style>\n",
       "<table border=\"1\" class=\"dataframe\">\n",
       "  <thead>\n",
       "    <tr style=\"text-align: right;\">\n",
       "      <th></th>\n",
       "      <th>review</th>\n",
       "      <th>point</th>\n",
       "      <th>date</th>\n",
       "      <th>ingre</th>\n",
       "      <th>token_review</th>\n",
       "    </tr>\n",
       "  </thead>\n",
       "  <tbody>\n",
       "    <tr>\n",
       "      <th>0</th>\n",
       "      <td>3통째 재구매입니다\\r\\n✨진정\\r\\n이 제품의 진정력은 무엇보다 스킨팩을 할 때 ...</td>\n",
       "      <td>5</td>\n",
       "      <td>2021-03-04</td>\n",
       "      <td>머그워트</td>\n",
       "      <td>[통째, 재구매, 입니다진, 정이, 제품, 의, 진정, 력, 은, 무엇, 보다, 스...</td>\n",
       "    </tr>\n",
       "    <tr>\n",
       "      <th>1</th>\n",
       "      <td>진정템을 찾다가 베스트셀러이길래 주문해 보았어요</td>\n",
       "      <td>5</td>\n",
       "      <td>2021-03-04</td>\n",
       "      <td>머그워트</td>\n",
       "      <td>[진정, 템, 을, 찾다가, 베스트셀러, 이길래, 주문, 해, 보았어요]</td>\n",
       "    </tr>\n",
       "    <tr>\n",
       "      <th>2</th>\n",
       "      <td>예전부터 사고 싶었던 제품인데.. 이번에 세일 기간에 거의 40% 할인 들어가서 샀...</td>\n",
       "      <td>5</td>\n",
       "      <td>2021-03-04</td>\n",
       "      <td>머그워트</td>\n",
       "      <td>[예, 부터, 고, 싶었던, 제품, 인데, 이번, 에, 세, 일, 기간, 에, 거의...</td>\n",
       "    </tr>\n",
       "    <tr>\n",
       "      <th>3</th>\n",
       "      <td>제가 매일매일 쓰고있는제품이예요\\r\\n항상 토너처럼 화장솜에 묻혀서 사용하고있는데 ...</td>\n",
       "      <td>5</td>\n",
       "      <td>2021-03-03</td>\n",
       "      <td>머그워트</td>\n",
       "      <td>[제, 가, 매, 일, 매일, 쓰고있는, 제품, 이, 예요, 항상, 토너, 처럼, ...</td>\n",
       "    </tr>\n",
       "    <tr>\n",
       "      <th>4</th>\n",
       "      <td>몇번째 재구매인지 모를정도로 계속 구매하고 있는 제품이에요. 솜에 적셔서 팩처럼 사...</td>\n",
       "      <td>5</td>\n",
       "      <td>2021-03-03</td>\n",
       "      <td>머그워트</td>\n",
       "      <td>[몇번, 째, 재, 구매, 인지, 모를, 정도, 로, 계속, 구매, 하고, 있는, ...</td>\n",
       "    </tr>\n",
       "    <tr>\n",
       "      <th>...</th>\n",
       "      <td>...</td>\n",
       "      <td>...</td>\n",
       "      <td>...</td>\n",
       "      <td>...</td>\n",
       "      <td>...</td>\n",
       "    </tr>\n",
       "    <tr>\n",
       "      <th>9853</th>\n",
       "      <td>임블리 에센스사려다 이거샀어요! 좋은효과가 있었음 좋겠네요??</td>\n",
       "      <td>4</td>\n",
       "      <td>2018-07-25</td>\n",
       "      <td>머그워트</td>\n",
       "      <td>[임블리, 에센스, 려, 다, 이, 거, 샀어요, 좋은, 효과, 가, 있었음, 좋겠네요]</td>\n",
       "    </tr>\n",
       "    <tr>\n",
       "      <th>9854</th>\n",
       "      <td>Great experience as always</td>\n",
       "      <td>5</td>\n",
       "      <td>2018-07-24</td>\n",
       "      <td>머그워트</td>\n",
       "      <td>[]</td>\n",
       "    </tr>\n",
       "    <tr>\n",
       "      <th>9855</th>\n",
       "      <td>구매해봤어요 쑥100%이니 여자한테 좋을 것 같아용~</td>\n",
       "      <td>5</td>\n",
       "      <td>2018-07-16</td>\n",
       "      <td>머그워트</td>\n",
       "      <td>[구매, 해봤어요, 쑥, 이니, 여자, 한테, 좋을, 것, 같아용]</td>\n",
       "    </tr>\n",
       "    <tr>\n",
       "      <th>9856</th>\n",
       "      <td>트러블 진정\\n상품은 마음에 드는데 배송이 너무 느려요ㅠ\\n트러블 진정에 효과가 좋...</td>\n",
       "      <td>3</td>\n",
       "      <td>2018-07-15</td>\n",
       "      <td>머그워트</td>\n",
       "      <td>[트러블, 진정, 상품, 은, 마음, 에, 드는데, 배송, 이, 너무, 느려요, 트...</td>\n",
       "    </tr>\n",
       "    <tr>\n",
       "      <th>9857</th>\n",
       "      <td>너무 좋아서 세일기간에 쟁이려고 구입했어요!</td>\n",
       "      <td>4</td>\n",
       "      <td>2018-07-11</td>\n",
       "      <td>머그워트</td>\n",
       "      <td>[너무, 좋아서, 세, 일, 기간, 에, 쟁이려, 고, 구입, 했어요]</td>\n",
       "    </tr>\n",
       "  </tbody>\n",
       "</table>\n",
       "<p>9858 rows × 5 columns</p>\n",
       "</div>"
      ],
      "text/plain": [
       "                                                 review point        date  \\\n",
       "0     3통째 재구매입니다\\r\\n✨진정\\r\\n이 제품의 진정력은 무엇보다 스킨팩을 할 때 ...     5  2021-03-04   \n",
       "1                            진정템을 찾다가 베스트셀러이길래 주문해 보았어요     5  2021-03-04   \n",
       "2     예전부터 사고 싶었던 제품인데.. 이번에 세일 기간에 거의 40% 할인 들어가서 샀...     5  2021-03-04   \n",
       "3     제가 매일매일 쓰고있는제품이예요\\r\\n항상 토너처럼 화장솜에 묻혀서 사용하고있는데 ...     5  2021-03-03   \n",
       "4     몇번째 재구매인지 모를정도로 계속 구매하고 있는 제품이에요. 솜에 적셔서 팩처럼 사...     5  2021-03-03   \n",
       "...                                                 ...   ...         ...   \n",
       "9853                 임블리 에센스사려다 이거샀어요! 좋은효과가 있었음 좋겠네요??     4  2018-07-25   \n",
       "9854                         Great experience as always     5  2018-07-24   \n",
       "9855                      구매해봤어요 쑥100%이니 여자한테 좋을 것 같아용~     5  2018-07-16   \n",
       "9856  트러블 진정\\n상품은 마음에 드는데 배송이 너무 느려요ㅠ\\n트러블 진정에 효과가 좋...     3  2018-07-15   \n",
       "9857                           너무 좋아서 세일기간에 쟁이려고 구입했어요!     4  2018-07-11   \n",
       "\n",
       "     ingre                                       token_review  \n",
       "0     머그워트  [통째, 재구매, 입니다진, 정이, 제품, 의, 진정, 력, 은, 무엇, 보다, 스...  \n",
       "1     머그워트           [진정, 템, 을, 찾다가, 베스트셀러, 이길래, 주문, 해, 보았어요]  \n",
       "2     머그워트  [예, 부터, 고, 싶었던, 제품, 인데, 이번, 에, 세, 일, 기간, 에, 거의...  \n",
       "3     머그워트  [제, 가, 매, 일, 매일, 쓰고있는, 제품, 이, 예요, 항상, 토너, 처럼, ...  \n",
       "4     머그워트  [몇번, 째, 재, 구매, 인지, 모를, 정도, 로, 계속, 구매, 하고, 있는, ...  \n",
       "...    ...                                                ...  \n",
       "9853  머그워트  [임블리, 에센스, 려, 다, 이, 거, 샀어요, 좋은, 효과, 가, 있었음, 좋겠네요]  \n",
       "9854  머그워트                                                 []  \n",
       "9855  머그워트              [구매, 해봤어요, 쑥, 이니, 여자, 한테, 좋을, 것, 같아용]  \n",
       "9856  머그워트  [트러블, 진정, 상품, 은, 마음, 에, 드는데, 배송, 이, 너무, 느려요, 트...  \n",
       "9857  머그워트            [너무, 좋아서, 세, 일, 기간, 에, 쟁이려, 고, 구입, 했어요]  \n",
       "\n",
       "[9858 rows x 5 columns]"
      ]
     },
     "execution_count": 41,
     "metadata": {},
     "output_type": "execute_result"
    }
   ],
   "source": [
    "mugwart"
   ]
  },
  {
   "cell_type": "code",
   "execution_count": 42,
   "metadata": {
    "scrolled": false
   },
   "outputs": [],
   "source": [
    "mugwart.to_csv(\"mugwart_token.csv\", encoding=\"utf-8-sig\")"
   ]
  },
  {
   "cell_type": "code",
   "execution_count": null,
   "metadata": {},
   "outputs": [],
   "source": []
  },
  {
   "cell_type": "markdown",
   "metadata": {},
   "source": [
    "---\n",
    "### 나이아신아마이드"
   ]
  },
  {
   "cell_type": "code",
   "execution_count": 77,
   "metadata": {},
   "outputs": [
    {
     "data": {
      "text/html": [
       "<div>\n",
       "<style scoped>\n",
       "    .dataframe tbody tr th:only-of-type {\n",
       "        vertical-align: middle;\n",
       "    }\n",
       "\n",
       "    .dataframe tbody tr th {\n",
       "        vertical-align: top;\n",
       "    }\n",
       "\n",
       "    .dataframe thead th {\n",
       "        text-align: right;\n",
       "    }\n",
       "</style>\n",
       "<table border=\"1\" class=\"dataframe\">\n",
       "  <thead>\n",
       "    <tr style=\"text-align: right;\">\n",
       "      <th></th>\n",
       "      <th>review</th>\n",
       "      <th>point</th>\n",
       "      <th>date</th>\n",
       "      <th>ingre</th>\n",
       "    </tr>\n",
       "  </thead>\n",
       "  <tbody>\n",
       "    <tr>\n",
       "      <th>0</th>\n",
       "      <td>광고가 많이 나오길래 혹해서 주문했습니다. 추가로 샘플도 많이 들어있어서 좋구요. ...</td>\n",
       "      <td>4</td>\n",
       "      <td>2021-03-03</td>\n",
       "      <td>나이아신아마이드</td>\n",
       "    </tr>\n",
       "    <tr>\n",
       "      <th>1</th>\n",
       "      <td>그린티 세럼 사용해보니 너무 좋더라구요. 이번에 블랙티 앰플 새로 업그레이드 된 제...</td>\n",
       "      <td>5</td>\n",
       "      <td>2021-03-03</td>\n",
       "      <td>나이아신아마이드</td>\n",
       "    </tr>\n",
       "    <tr>\n",
       "      <th>2</th>\n",
       "      <td>부드럽게 발리고 마무리가 산뜻해서 좋았어요! 가벼운데 촉촉한 느낌이에요. 그리고 향...</td>\n",
       "      <td>5</td>\n",
       "      <td>2021-03-03</td>\n",
       "      <td>나이아신아마이드</td>\n",
       "    </tr>\n",
       "    <tr>\n",
       "      <th>3</th>\n",
       "      <td>새로나온 제품이고 세일도 하고 있길래 구매해보았습니다~ 마침 에센스 사야되는 타이밍...</td>\n",
       "      <td>5</td>\n",
       "      <td>2021-03-03</td>\n",
       "      <td>나이아신아마이드</td>\n",
       "    </tr>\n",
       "    <tr>\n",
       "      <th>4</th>\n",
       "      <td>쫀득하니 흡수도 빠르고 좋아요~~~~</td>\n",
       "      <td>5</td>\n",
       "      <td>2021-03-02</td>\n",
       "      <td>나이아신아마이드</td>\n",
       "    </tr>\n",
       "    <tr>\n",
       "      <th>...</th>\n",
       "      <td>...</td>\n",
       "      <td>...</td>\n",
       "      <td>...</td>\n",
       "      <td>...</td>\n",
       "    </tr>\n",
       "    <tr>\n",
       "      <th>7346</th>\n",
       "      <td>용기가 맘에 들어요 써보고 효과있으몀 더 구입하려구요</td>\n",
       "      <td>5</td>\n",
       "      <td>2020-01-31</td>\n",
       "      <td>나이아산아마이드</td>\n",
       "    </tr>\n",
       "    <tr>\n",
       "      <th>7347</th>\n",
       "      <td>젤보다는 묽은 제형인데 아주 옅은 핑크색이 돌아 넘 예쁘네요. 아~주 촉촉해요. 트...</td>\n",
       "      <td>5</td>\n",
       "      <td>2020-01-16</td>\n",
       "      <td>나이아산아마이드</td>\n",
       "    </tr>\n",
       "    <tr>\n",
       "      <th>7348</th>\n",
       "      <td>화이트태닝할때 부스터로쓰는데 확실히좋아요\\n민감성이라 자극감이있지만 잘조절하면 트러...</td>\n",
       "      <td>5</td>\n",
       "      <td>2020-01-12</td>\n",
       "      <td>나이아산아마이드</td>\n",
       "    </tr>\n",
       "    <tr>\n",
       "      <th>7349</th>\n",
       "      <td>정말 최고의 화장품입니다. 제품 소개란에 있는 말에 공감하며 의심반 기대 반으로 샀...</td>\n",
       "      <td>5</td>\n",
       "      <td>2019-11-19</td>\n",
       "      <td>나이아산아마이드</td>\n",
       "    </tr>\n",
       "    <tr>\n",
       "      <th>7350</th>\n",
       "      <td>나이아신 앰플은 시중에서 어렵지 않게 찾아볼 수 있는 편이지만 튜브랑 스포이드를 결...</td>\n",
       "      <td>5</td>\n",
       "      <td>2019-10-26</td>\n",
       "      <td>나이아산아마이드</td>\n",
       "    </tr>\n",
       "  </tbody>\n",
       "</table>\n",
       "<p>7351 rows × 4 columns</p>\n",
       "</div>"
      ],
      "text/plain": [
       "                                                 review  point        date  \\\n",
       "0     광고가 많이 나오길래 혹해서 주문했습니다. 추가로 샘플도 많이 들어있어서 좋구요. ...      4  2021-03-03   \n",
       "1     그린티 세럼 사용해보니 너무 좋더라구요. 이번에 블랙티 앰플 새로 업그레이드 된 제...      5  2021-03-03   \n",
       "2     부드럽게 발리고 마무리가 산뜻해서 좋았어요! 가벼운데 촉촉한 느낌이에요. 그리고 향...      5  2021-03-03   \n",
       "3     새로나온 제품이고 세일도 하고 있길래 구매해보았습니다~ 마침 에센스 사야되는 타이밍...      5  2021-03-03   \n",
       "4                                  쫀득하니 흡수도 빠르고 좋아요~~~~      5  2021-03-02   \n",
       "...                                                 ...    ...         ...   \n",
       "7346                      용기가 맘에 들어요 써보고 효과있으몀 더 구입하려구요      5  2020-01-31   \n",
       "7347  젤보다는 묽은 제형인데 아주 옅은 핑크색이 돌아 넘 예쁘네요. 아~주 촉촉해요. 트...      5  2020-01-16   \n",
       "7348  화이트태닝할때 부스터로쓰는데 확실히좋아요\\n민감성이라 자극감이있지만 잘조절하면 트러...      5  2020-01-12   \n",
       "7349  정말 최고의 화장품입니다. 제품 소개란에 있는 말에 공감하며 의심반 기대 반으로 샀...      5  2019-11-19   \n",
       "7350  나이아신 앰플은 시중에서 어렵지 않게 찾아볼 수 있는 편이지만 튜브랑 스포이드를 결...      5  2019-10-26   \n",
       "\n",
       "         ingre  \n",
       "0     나이아신아마이드  \n",
       "1     나이아신아마이드  \n",
       "2     나이아신아마이드  \n",
       "3     나이아신아마이드  \n",
       "4     나이아신아마이드  \n",
       "...        ...  \n",
       "7346  나이아산아마이드  \n",
       "7347  나이아산아마이드  \n",
       "7348  나이아산아마이드  \n",
       "7349  나이아산아마이드  \n",
       "7350  나이아산아마이드  \n",
       "\n",
       "[7351 rows x 4 columns]"
      ]
     },
     "execution_count": 77,
     "metadata": {},
     "output_type": "execute_result"
    }
   ],
   "source": [
    "niasin"
   ]
  },
  {
   "cell_type": "code",
   "execution_count": 98,
   "metadata": {},
   "outputs": [],
   "source": [
    "niasin = niasin.astype(str).apply(lambda x: x.str.encode('utf-8', 'ignore').str.decode('utf-8'))"
   ]
  },
  {
   "cell_type": "code",
   "execution_count": 99,
   "metadata": {},
   "outputs": [],
   "source": [
    "text=''\n",
    "review_niasin_nomal=[]\n",
    "for each_line in niasin[\"review\"]:\n",
    "    review_niasin_nomal.append(each_line)"
   ]
  },
  {
   "cell_type": "code",
   "execution_count": 100,
   "metadata": {},
   "outputs": [
    {
     "data": {
      "text/plain": [
       "7351"
      ]
     },
     "execution_count": 100,
     "metadata": {},
     "output_type": "execute_result"
    }
   ],
   "source": [
    "len(review_niasin_nomal)"
   ]
  },
  {
   "cell_type": "code",
   "execution_count": 101,
   "metadata": {},
   "outputs": [],
   "source": [
    "def clean_str(text):\n",
    "    pattern = '[\\U00010000-\\U0010ffff]'\n",
    "    text = re.sub(pattern=pattern,repl='', string=text)\n",
    "    \n",
    "    pattern = '([ㄱ-ㅎ-ㅏ-ㅣ]+)'\n",
    "    text = re.sub(pattern=pattern, repl='', string=text)\n",
    "    \n",
    "    pattern = \"[^\\w\\s]\"\n",
    "    text = re.sub(pattern=pattern, repl='', string=text) \n",
    "    \n",
    "    pattern = \"[사전체험단]\"\n",
    "    text = re.sub(pattern=pattern, repl='', string=text)\n",
    "    \n",
    "    pattern = \"[a-zA-Z]\"\n",
    "    text = re.sub(pattern=pattern, repl='', string=text)\n",
    "    \n",
    "    pattern = \"[0-9.]\"\n",
    "    text = re.sub(pattern=pattern, repl='', string=text)\n",
    "    pattern = \"[-=+,#/\\?:^$.@*\\\"※~&%ㆍ·!』\\\\‘’|\\(\\)\\[\\]\\<\\>`\\'…》]\"\n",
    "    \n",
    "    text = re.sub(pattern=pattern, repl='', string=text)\n",
    "    pattern = '[^ ㄱ-ㅣ가-힣]+'\n",
    "    text = re.sub(pattern=pattern, repl='', string=text)\n",
    "    \n",
    "    #print(type(pattern))\n",
    "    #print(type(text))\n",
    "    \n",
    "    return text\n",
    "\n",
    "review_niasin=[]\n",
    "for i in review_niasin_nomal:\n",
    "    a=clean_str(i)\n",
    "    review_niasin.append(a)"
   ]
  },
  {
   "cell_type": "code",
   "execution_count": 103,
   "metadata": {},
   "outputs": [],
   "source": [
    "def clean_str(text):\n",
    "    pattern = '([ㄱ-ㅎ-ㅏ-ㅣ]+)'\n",
    "    text = re.sub(pattern=pattern, repl='', string=text)\n",
    "    pattern = \"[^\\w\\s]\"\n",
    "    text = re.sub(pattern=pattern, repl='', string=text) \n",
    "    pattern = \"[사전체험단]\"\n",
    "    text = re.sub(pattern=pattern, repl='', string=text)\n",
    "    pattern = \"[a-zA-Z]\"\n",
    "    text = re.sub(pattern=pattern, repl='', string=text)\n",
    "    pattern = \"[0-9.]\"\n",
    "    text = re.sub(pattern=pattern, repl='', string=text)\n",
    "    pattern = \"[-=+,#/\\?:^$.@*\\\"※~&%ㆍ·!』\\\\‘’|\\(\\)\\[\\]\\<\\>`\\'…》]\"\n",
    "    text = re.sub(pattern=pattern, repl='', string=text)\n",
    "    \n",
    "    #print(type(pattern))\n",
    "    #print(type(text))\n",
    "    \n",
    "    return text\n",
    "\n",
    "review_niasin=[]\n",
    "for i in review_niasin_nomal:\n",
    "    a=clean_str(i)\n",
    "    review_niasin.append(a)"
   ]
  },
  {
   "cell_type": "code",
   "execution_count": 104,
   "metadata": {},
   "outputs": [],
   "source": [
    "a=len(review_niasin)\n",
    "token_review_niasin_list = []\n",
    "\n",
    "for i in range(0, a):\n",
    "    token_review = Okt.morphs(review_niasin[i]) #Okt= 형태소 분석기, morphs형태소 추출,sk review_*= 전처리한 리뷰\n",
    "    token_review_niasin_list.append(token_review)"
   ]
  },
  {
   "cell_type": "code",
   "execution_count": 105,
   "metadata": {},
   "outputs": [],
   "source": [
    "niasin[\"token_review\"] = token_review_niasin_list"
   ]
  },
  {
   "cell_type": "code",
   "execution_count": 106,
   "metadata": {
    "collapsed": true
   },
   "outputs": [
    {
     "data": {
      "text/html": [
       "<div>\n",
       "<style scoped>\n",
       "    .dataframe tbody tr th:only-of-type {\n",
       "        vertical-align: middle;\n",
       "    }\n",
       "\n",
       "    .dataframe tbody tr th {\n",
       "        vertical-align: top;\n",
       "    }\n",
       "\n",
       "    .dataframe thead th {\n",
       "        text-align: right;\n",
       "    }\n",
       "</style>\n",
       "<table border=\"1\" class=\"dataframe\">\n",
       "  <thead>\n",
       "    <tr style=\"text-align: right;\">\n",
       "      <th></th>\n",
       "      <th>review</th>\n",
       "      <th>point</th>\n",
       "      <th>date</th>\n",
       "      <th>ingre</th>\n",
       "      <th>token_review</th>\n",
       "    </tr>\n",
       "  </thead>\n",
       "  <tbody>\n",
       "    <tr>\n",
       "      <th>0</th>\n",
       "      <td>광고가 많이 나오길래 혹해서 주문했습니다. 추가로 샘플도 많이 들어있어서 좋구요. ...</td>\n",
       "      <td>4</td>\n",
       "      <td>2021-03-03</td>\n",
       "      <td>나이아신아마이드</td>\n",
       "      <td>[광고, 가, 많이, 나오길래, 혹, 해서, 주문, 했습니다, 추가, 로, 샘플, ...</td>\n",
       "    </tr>\n",
       "    <tr>\n",
       "      <th>1</th>\n",
       "      <td>그린티 세럼 사용해보니 너무 좋더라구요. 이번에 블랙티 앰플 새로 업그레이드 된 제...</td>\n",
       "      <td>5</td>\n",
       "      <td>2021-03-03</td>\n",
       "      <td>나이아신아마이드</td>\n",
       "      <td>[그린티, 세, 럼, 용, 해보니, 너무, 좋더라구요, 이번, 에, 블랙, 티, 앰...</td>\n",
       "    </tr>\n",
       "    <tr>\n",
       "      <th>2</th>\n",
       "      <td>부드럽게 발리고 마무리가 산뜻해서 좋았어요! 가벼운데 촉촉한 느낌이에요. 그리고 향...</td>\n",
       "      <td>5</td>\n",
       "      <td>2021-03-03</td>\n",
       "      <td>나이아신아마이드</td>\n",
       "      <td>[부드럽게, 발리, 고, 마무리, 가, 산뜻해서, 좋았어요, 가벼운데, 촉촉한, 느...</td>\n",
       "    </tr>\n",
       "    <tr>\n",
       "      <th>3</th>\n",
       "      <td>새로나온 제품이고 세일도 하고 있길래 구매해보았습니다~ 마침 에센스 사야되는 타이밍...</td>\n",
       "      <td>5</td>\n",
       "      <td>2021-03-03</td>\n",
       "      <td>나이아신아마이드</td>\n",
       "      <td>[새로, 나온, 제품, 이고, 세, 일도, 하고, 있길래, 구매, 해보았습니다, 마...</td>\n",
       "    </tr>\n",
       "    <tr>\n",
       "      <th>4</th>\n",
       "      <td>쫀득하니 흡수도 빠르고 좋아요~~~~</td>\n",
       "      <td>5</td>\n",
       "      <td>2021-03-02</td>\n",
       "      <td>나이아신아마이드</td>\n",
       "      <td>[쫀득하, 니, 흡수, 도, 빠르고, 좋아요]</td>\n",
       "    </tr>\n",
       "    <tr>\n",
       "      <th>...</th>\n",
       "      <td>...</td>\n",
       "      <td>...</td>\n",
       "      <td>...</td>\n",
       "      <td>...</td>\n",
       "      <td>...</td>\n",
       "    </tr>\n",
       "    <tr>\n",
       "      <th>7346</th>\n",
       "      <td>용기가 맘에 들어요 써보고 효과있으몀 더 구입하려구요</td>\n",
       "      <td>5</td>\n",
       "      <td>2020-01-31</td>\n",
       "      <td>나이아산아마이드</td>\n",
       "      <td>[용기, 가, 맘, 에, 들어요, 써, 보고, 효과, 있으, 몀, 더, 구입, 하려구요]</td>\n",
       "    </tr>\n",
       "    <tr>\n",
       "      <th>7347</th>\n",
       "      <td>젤보다는 묽은 제형인데 아주 옅은 핑크색이 돌아 넘 예쁘네요. 아~주 촉촉해요. 트...</td>\n",
       "      <td>5</td>\n",
       "      <td>2020-01-16</td>\n",
       "      <td>나이아산아마이드</td>\n",
       "      <td>[젤, 보다는, 묽은, 제, 형, 인데, 아주, 옅은, 핑크색, 이, 돌아, 넘, ...</td>\n",
       "    </tr>\n",
       "    <tr>\n",
       "      <th>7348</th>\n",
       "      <td>화이트태닝할때 부스터로쓰는데 확실히좋아요\\n민감성이라 자극감이있지만 잘조절하면 트러...</td>\n",
       "      <td>5</td>\n",
       "      <td>2020-01-12</td>\n",
       "      <td>나이아산아마이드</td>\n",
       "      <td>[화이트, 태, 닝할, 때, 부스터, 로, 쓰는데, 확실히, 좋아요, \\n, 민감,...</td>\n",
       "    </tr>\n",
       "    <tr>\n",
       "      <th>7349</th>\n",
       "      <td>정말 최고의 화장품입니다. 제품 소개란에 있는 말에 공감하며 의심반 기대 반으로 샀...</td>\n",
       "      <td>5</td>\n",
       "      <td>2019-11-19</td>\n",
       "      <td>나이아산아마이드</td>\n",
       "      <td>[정말, 최고, 의, 화장품, 입니다, 제품, 소개, 란, 에, 있는, 말, 에, ...</td>\n",
       "    </tr>\n",
       "    <tr>\n",
       "      <th>7350</th>\n",
       "      <td>나이아신 앰플은 시중에서 어렵지 않게 찾아볼 수 있는 편이지만 튜브랑 스포이드를 결...</td>\n",
       "      <td>5</td>\n",
       "      <td>2019-10-26</td>\n",
       "      <td>나이아산아마이드</td>\n",
       "      <td>[나이아신, 앰플, 은, 시중, 에서, 어렵지, 않게, 찾아볼, 수, 있는, 편이,...</td>\n",
       "    </tr>\n",
       "  </tbody>\n",
       "</table>\n",
       "<p>7351 rows × 5 columns</p>\n",
       "</div>"
      ],
      "text/plain": [
       "                                                 review point        date  \\\n",
       "0     광고가 많이 나오길래 혹해서 주문했습니다. 추가로 샘플도 많이 들어있어서 좋구요. ...     4  2021-03-03   \n",
       "1     그린티 세럼 사용해보니 너무 좋더라구요. 이번에 블랙티 앰플 새로 업그레이드 된 제...     5  2021-03-03   \n",
       "2     부드럽게 발리고 마무리가 산뜻해서 좋았어요! 가벼운데 촉촉한 느낌이에요. 그리고 향...     5  2021-03-03   \n",
       "3     새로나온 제품이고 세일도 하고 있길래 구매해보았습니다~ 마침 에센스 사야되는 타이밍...     5  2021-03-03   \n",
       "4                                  쫀득하니 흡수도 빠르고 좋아요~~~~     5  2021-03-02   \n",
       "...                                                 ...   ...         ...   \n",
       "7346                      용기가 맘에 들어요 써보고 효과있으몀 더 구입하려구요     5  2020-01-31   \n",
       "7347  젤보다는 묽은 제형인데 아주 옅은 핑크색이 돌아 넘 예쁘네요. 아~주 촉촉해요. 트...     5  2020-01-16   \n",
       "7348  화이트태닝할때 부스터로쓰는데 확실히좋아요\\n민감성이라 자극감이있지만 잘조절하면 트러...     5  2020-01-12   \n",
       "7349  정말 최고의 화장품입니다. 제품 소개란에 있는 말에 공감하며 의심반 기대 반으로 샀...     5  2019-11-19   \n",
       "7350  나이아신 앰플은 시중에서 어렵지 않게 찾아볼 수 있는 편이지만 튜브랑 스포이드를 결...     5  2019-10-26   \n",
       "\n",
       "         ingre                                       token_review  \n",
       "0     나이아신아마이드  [광고, 가, 많이, 나오길래, 혹, 해서, 주문, 했습니다, 추가, 로, 샘플, ...  \n",
       "1     나이아신아마이드  [그린티, 세, 럼, 용, 해보니, 너무, 좋더라구요, 이번, 에, 블랙, 티, 앰...  \n",
       "2     나이아신아마이드  [부드럽게, 발리, 고, 마무리, 가, 산뜻해서, 좋았어요, 가벼운데, 촉촉한, 느...  \n",
       "3     나이아신아마이드  [새로, 나온, 제품, 이고, 세, 일도, 하고, 있길래, 구매, 해보았습니다, 마...  \n",
       "4     나이아신아마이드                          [쫀득하, 니, 흡수, 도, 빠르고, 좋아요]  \n",
       "...        ...                                                ...  \n",
       "7346  나이아산아마이드  [용기, 가, 맘, 에, 들어요, 써, 보고, 효과, 있으, 몀, 더, 구입, 하려구요]  \n",
       "7347  나이아산아마이드  [젤, 보다는, 묽은, 제, 형, 인데, 아주, 옅은, 핑크색, 이, 돌아, 넘, ...  \n",
       "7348  나이아산아마이드  [화이트, 태, 닝할, 때, 부스터, 로, 쓰는데, 확실히, 좋아요, \\n, 민감,...  \n",
       "7349  나이아산아마이드  [정말, 최고, 의, 화장품, 입니다, 제품, 소개, 란, 에, 있는, 말, 에, ...  \n",
       "7350  나이아산아마이드  [나이아신, 앰플, 은, 시중, 에서, 어렵지, 않게, 찾아볼, 수, 있는, 편이,...  \n",
       "\n",
       "[7351 rows x 5 columns]"
      ]
     },
     "execution_count": 106,
     "metadata": {},
     "output_type": "execute_result"
    }
   ],
   "source": [
    "niasin"
   ]
  },
  {
   "cell_type": "code",
   "execution_count": 108,
   "metadata": {},
   "outputs": [],
   "source": [
    "niasin.to_csv(\"niasin_token.csv\", encoding=\"utf-8-sig\")"
   ]
  },
  {
   "cell_type": "markdown",
   "metadata": {},
   "source": [
    "---\n",
    "\n",
    "## 다나와 리뷰와 나머지 리뷰 합치기"
   ]
  },
  {
   "cell_type": "code",
   "execution_count": 5,
   "metadata": {},
   "outputs": [],
   "source": [
    "os.chdir(r'C:\\L1K4\\리뷰크롤링전처리팀\\전처리')\n"
   ]
  },
  {
   "cell_type": "code",
   "execution_count": 45,
   "metadata": {},
   "outputs": [],
   "source": [
    "def concat_file_save(name1, name2, ingre):\n",
    "    df1 = pd.read_csv(\"{}\".format(name1), header=0, index_col=0)\n",
    "    df2 = pd.read_csv(\"{}\".format(name2), header=0, index_col=0)\n",
    "    df = pd.concat([df1, df2], ignore_index=True)\n",
    "    \n",
    "    return df.to_csv(\"{}.csv\".format(ingre), encoding=\"utf-8-sig\")"
   ]
  },
  {
   "cell_type": "markdown",
   "metadata": {},
   "source": [
    "#### 갈락토미세드"
   ]
  },
  {
   "cell_type": "code",
   "execution_count": 49,
   "metadata": {},
   "outputs": [],
   "source": [
    "concat_file_save(\"galac_token.csv\", \"galactomyces_token.csv\", \"final_galac\")"
   ]
  },
  {
   "cell_type": "markdown",
   "metadata": {},
   "source": [
    "#### 히알루론산"
   ]
  },
  {
   "cell_type": "code",
   "execution_count": 50,
   "metadata": {},
   "outputs": [],
   "source": [
    "concat_file_save(\"hyalu_token.csv\", \"hyaluroniacid_token.csv\", \"final_hyalu\")"
   ]
  },
  {
   "cell_type": "markdown",
   "metadata": {},
   "source": [
    "#### 머그워트"
   ]
  },
  {
   "cell_type": "code",
   "execution_count": 51,
   "metadata": {},
   "outputs": [],
   "source": [
    "concat_file_save(\"mugwart_token.csv\", \"Mugwart_token1.csv\", \"final_mug\")"
   ]
  },
  {
   "cell_type": "markdown",
   "metadata": {},
   "source": [
    "#### 나이아신아마이드"
   ]
  },
  {
   "cell_type": "code",
   "execution_count": 47,
   "metadata": {},
   "outputs": [],
   "source": [
    "concat_file_save(\"niasin_token.csv\", \"niacinamide_token.csv\", \"final_niasin\")"
   ]
  },
  {
   "cell_type": "markdown",
   "metadata": {},
   "source": [
    "#### 프로폴리스"
   ]
  },
  {
   "cell_type": "code",
   "execution_count": 48,
   "metadata": {},
   "outputs": [],
   "source": [
    "concat_file_save(\"propolis_token.csv\", \"propolis_token1.csv\", \"final_propol\")"
   ]
  },
  {
   "cell_type": "markdown",
   "metadata": {},
   "source": [
    "#### 성분 별 중복값 제거"
   ]
  },
  {
   "cell_type": "code",
   "execution_count": 95,
   "metadata": {},
   "outputs": [],
   "source": [
    "def duplicates(name1, name2):\n",
    "    df = pd.read_csv(\"{}\".format(name1), header=0, index_col=0)\n",
    "    df2 = pd.DataFrame.drop_duplicates(df, subset=[\"review\"], keep=\"first\")\n",
    "    df2.reset_index(drop=True, inplace=True)\n",
    "    df2.to_csv(\"{}\".format(name2), encoding=\"utf-8-sig\")"
   ]
  },
  {
   "cell_type": "code",
   "execution_count": 96,
   "metadata": {},
   "outputs": [],
   "source": [
    "duplicates(\"final_galac.csv\", \"del_galac.csv\")"
   ]
  },
  {
   "cell_type": "code",
   "execution_count": 98,
   "metadata": {},
   "outputs": [],
   "source": [
    "duplicates(\"final_hyalu.csv\", \"del_hyalu.csv\")"
   ]
  },
  {
   "cell_type": "markdown",
   "metadata": {},
   "source": [
    "## 화장품 성분 별 시각화"
   ]
  },
  {
   "cell_type": "code",
   "execution_count": 175,
   "metadata": {},
   "outputs": [],
   "source": [
    "import matplotlib as mpl\n",
    "import matplotlib.pyplot as plt\n",
    "%matplotlib inline\n",
    "from subprocess import check_output\n",
    "from wordcloud import WordCloud, STOPWORDS\n",
    "from collections import Counter\n",
    "from matplotlib import font_manager, rc\n",
    "import nltk\n",
    "from konlpy.tag import Twitter\n",
    "import nltk\n",
    "from konlpy.tag import Okt\n",
    "Okt=Okt()"
   ]
  },
  {
   "cell_type": "markdown",
   "metadata": {},
   "source": [
    "#### 갈락토미세드"
   ]
  },
  {
   "cell_type": "code",
   "execution_count": 184,
   "metadata": {},
   "outputs": [],
   "source": [
    "# load_file\n",
    "del_galac = pd.read_csv(\"del_galac.csv\", index_col=0)"
   ]
  },
  {
   "cell_type": "code",
   "execution_count": 185,
   "metadata": {},
   "outputs": [],
   "source": [
    "# 별점기준으로 정렬\n",
    "del_galac_sort_by_point = del_galac.sort_values(by=\"point\", ascending=False)"
   ]
  },
  {
   "cell_type": "code",
   "execution_count": 186,
   "metadata": {},
   "outputs": [],
   "source": [
    "del_galac_sort_by_point.fillna(\"갈락토미세스\", inplace=True)"
   ]
  },
  {
   "cell_type": "code",
   "execution_count": 191,
   "metadata": {},
   "outputs": [],
   "source": [
    "del_galac_sort_by_point[\"tagging\"] =  del_galac_sort_by_point[\"review\"].apply(Okt.pos)\n",
    "del_galac_sort_by_point[\"noun\"] = del_galac_sort_by_point[\"review\"].apply(Okt.nouns)"
   ]
  },
  {
   "cell_type": "code",
   "execution_count": 254,
   "metadata": {},
   "outputs": [],
   "source": [
    "filter_point_galac = del_galac_sort_by_point[ (del_galac_sort_by_point['point'] <=3)].index\n",
    "del_galac_sort_by_point.drop(filter_point_galac , inplace=True)"
   ]
  },
  {
   "cell_type": "code",
   "execution_count": 256,
   "metadata": {
    "collapsed": true
   },
   "outputs": [
    {
     "data": {
      "text/html": [
       "<div>\n",
       "<style scoped>\n",
       "    .dataframe tbody tr th:only-of-type {\n",
       "        vertical-align: middle;\n",
       "    }\n",
       "\n",
       "    .dataframe tbody tr th {\n",
       "        vertical-align: top;\n",
       "    }\n",
       "\n",
       "    .dataframe thead th {\n",
       "        text-align: right;\n",
       "    }\n",
       "</style>\n",
       "<table border=\"1\" class=\"dataframe\">\n",
       "  <thead>\n",
       "    <tr style=\"text-align: right;\">\n",
       "      <th></th>\n",
       "      <th>review</th>\n",
       "      <th>point</th>\n",
       "      <th>ingre</th>\n",
       "      <th>token_review</th>\n",
       "      <th>tagging</th>\n",
       "      <th>noun</th>\n",
       "    </tr>\n",
       "  </thead>\n",
       "  <tbody>\n",
       "    <tr>\n",
       "      <th>0</th>\n",
       "      <td>#사전체험단 일단 새롭게 바뀐 씨드세럼 너무 좋습니다!! 기존 씨드세럼하고 확실히 ...</td>\n",
       "      <td>5</td>\n",
       "      <td>갈락토미세스</td>\n",
       "      <td>[#사전체험단, 일단, 새롭게, 바뀐, 씨드, 세럼, 너무, 좋습니다, !!, 기존...</td>\n",
       "      <td>[(#사전체험단, Hashtag), (일단, Noun), (새롭게, Adjectiv...</td>\n",
       "      <td>[일단, 씨드, 세럼, 기존, 씨드, 세럼, 차이, 기존, 씨드, 세럼, 조금, 더...</td>\n",
       "    </tr>\n",
       "    <tr>\n",
       "      <th>1</th>\n",
       "      <td>배송을 이틀정도 걸렸는데 결제되고 배송되기까지 다 알려주고 메일로 결제 확인에서부터...</td>\n",
       "      <td>5</td>\n",
       "      <td>갈락토미세스</td>\n",
       "      <td>[배송, 을, 이틀, 정도, 걸렸는데, 결제, 되고, 배송, 되기까지, 다, 알려주...</td>\n",
       "      <td>[(배송, Noun), (을, Josa), (이틀, Noun), (정도, Noun)...</td>\n",
       "      <td>[배송, 이틀, 정도, 결제, 배송, 메일, 결제, 확인, 배송, 조회, 성분, 표...</td>\n",
       "    </tr>\n",
       "    <tr>\n",
       "      <th>2</th>\n",
       "      <td>많이 파세요.</td>\n",
       "      <td>5</td>\n",
       "      <td>갈락토미세스</td>\n",
       "      <td>[많이, 파세요, .]</td>\n",
       "      <td>[(많이, Adverb), (파세요, Verb), (., Punctuation)]</td>\n",
       "      <td>[]</td>\n",
       "    </tr>\n",
       "    <tr>\n",
       "      <th>3</th>\n",
       "      <td>피부에 잘 맞았으면 좋겠어요</td>\n",
       "      <td>5</td>\n",
       "      <td>갈락토미세스</td>\n",
       "      <td>[피부, 에, 잘, 맞았으면, 좋겠어요]</td>\n",
       "      <td>[(피부, Noun), (에, Josa), (잘, Verb), (맞았으면, Verb...</td>\n",
       "      <td>[피부]</td>\n",
       "    </tr>\n",
       "    <tr>\n",
       "      <th>4</th>\n",
       "      <td>빠른배송 고맙습니다.</td>\n",
       "      <td>5</td>\n",
       "      <td>갈락토미세스</td>\n",
       "      <td>[빠른, 배송, 고맙습니다, .]</td>\n",
       "      <td>[(빠른, Adjective), (배송, Noun), (고맙습니다, Adjectiv...</td>\n",
       "      <td>[배송]</td>\n",
       "    </tr>\n",
       "    <tr>\n",
       "      <th>...</th>\n",
       "      <td>...</td>\n",
       "      <td>...</td>\n",
       "      <td>...</td>\n",
       "      <td>...</td>\n",
       "      <td>...</td>\n",
       "      <td>...</td>\n",
       "    </tr>\n",
       "    <tr>\n",
       "      <th>8301</th>\n",
       "      <td>좋아요 가격이 저렴해서 반신반의 하며 구매 했는데 생각보다 괜찮네요 가격 생각하면 ...</td>\n",
       "      <td>4</td>\n",
       "      <td>갈락토미세스</td>\n",
       "      <td>[좋아요, 가격, 이, 저렴해서, 반신반의, 하며, 구매, 했는데, 생각, 보다, ...</td>\n",
       "      <td>[(좋아요, Adjective), (가격, Noun), (이, Josa), (저렴해...</td>\n",
       "      <td>[가격, 반신반의, 구매, 생각, 가격, 생각, 꽤, 거]</td>\n",
       "    </tr>\n",
       "    <tr>\n",
       "      <th>8302</th>\n",
       "      <td>일단포장꼼꼼하게예쁜봉투에뽁뽁이까지감사합니다 샘플도감사하구여 에센스는한번썼는데트러블없...</td>\n",
       "      <td>4</td>\n",
       "      <td>갈락토미세스</td>\n",
       "      <td>[일단, 포장, 꼼꼼하게, 예쁜, 봉투, 에, 뽁뽁, 이, 까지, 감사합니다, 샘플...</td>\n",
       "      <td>[(일단, Noun), (포장, Noun), (꼼꼼하게, Adjective), (예...</td>\n",
       "      <td>[일단, 포장, 봉투, 뽁뽁, 샘플, 에센스, 한번, 트러블, 보고]</td>\n",
       "    </tr>\n",
       "    <tr>\n",
       "      <th>8303</th>\n",
       "      <td>배송 배송빨라요 ㅎㅎ\\r\\n첫날 사용감은,, 아직 모르겠고 예민피부인데 아무이상없으...</td>\n",
       "      <td>4</td>\n",
       "      <td>갈락토미세스</td>\n",
       "      <td>[배송, 배송, 빨라요, ㅎㅎ, \\r\\n, 첫날, 사, 용감, 은, ,,, 아직, ...</td>\n",
       "      <td>[(배송, Noun), (배송, Noun), (빨라요, Adjective), (ㅎㅎ...</td>\n",
       "      <td>[배송, 배송, 첫날, 용감, 예민, 피부, 이상, 사용]</td>\n",
       "    </tr>\n",
       "    <tr>\n",
       "      <th>8304</th>\n",
       "      <td>제가 사용량이 많다보니 대용량을 구매해서 사용하던중 착한가격에 230mm를 오랜만에...</td>\n",
       "      <td>4</td>\n",
       "      <td>갈락토미세스</td>\n",
       "      <td>[제, 가, 사, 용량, 이, 많다, 보니, 대, 용량, 을, 구매, 해서, 사용,...</td>\n",
       "      <td>[(제, Noun), (가, Josa), (사, Modifier), (용량, Nou...</td>\n",
       "      <td>[제, 용량, 용량, 구매, 사용, 중, 가격, 를, 만, 구매, 제, 기억, 화장...</td>\n",
       "    </tr>\n",
       "    <tr>\n",
       "      <th>8305</th>\n",
       "      <td>좋아요 미스트보다는 끈적하니...그래요\\r\\n촉촉해서 괜찮은것 같아요.\\r\\n\\r\\...</td>\n",
       "      <td>4</td>\n",
       "      <td>갈락토미세스</td>\n",
       "      <td>[좋아요, 미스트, 보다는, 끈, 적, 하니, ..., 그래요, \\r\\n, 촉촉해서...</td>\n",
       "      <td>[(좋아요, Adjective), (미스트, Noun), (보다는, Josa), (...</td>\n",
       "      <td>[미스트, 끈, 하니, 것, 너]</td>\n",
       "    </tr>\n",
       "  </tbody>\n",
       "</table>\n",
       "<p>8306 rows × 6 columns</p>\n",
       "</div>"
      ],
      "text/plain": [
       "                                                 review  point   ingre  \\\n",
       "0     #사전체험단 일단 새롭게 바뀐 씨드세럼 너무 좋습니다!! 기존 씨드세럼하고 확실히 ...      5  갈락토미세스   \n",
       "1     배송을 이틀정도 걸렸는데 결제되고 배송되기까지 다 알려주고 메일로 결제 확인에서부터...      5  갈락토미세스   \n",
       "2                                               많이 파세요.      5  갈락토미세스   \n",
       "3                                       피부에 잘 맞았으면 좋겠어요      5  갈락토미세스   \n",
       "4                                           빠른배송 고맙습니다.      5  갈락토미세스   \n",
       "...                                                 ...    ...     ...   \n",
       "8301  좋아요 가격이 저렴해서 반신반의 하며 구매 했는데 생각보다 괜찮네요 가격 생각하면 ...      4  갈락토미세스   \n",
       "8302  일단포장꼼꼼하게예쁜봉투에뽁뽁이까지감사합니다 샘플도감사하구여 에센스는한번썼는데트러블없...      4  갈락토미세스   \n",
       "8303  배송 배송빨라요 ㅎㅎ\\r\\n첫날 사용감은,, 아직 모르겠고 예민피부인데 아무이상없으...      4  갈락토미세스   \n",
       "8304  제가 사용량이 많다보니 대용량을 구매해서 사용하던중 착한가격에 230mm를 오랜만에...      4  갈락토미세스   \n",
       "8305  좋아요 미스트보다는 끈적하니...그래요\\r\\n촉촉해서 괜찮은것 같아요.\\r\\n\\r\\...      4  갈락토미세스   \n",
       "\n",
       "                                           token_review  \\\n",
       "0     [#사전체험단, 일단, 새롭게, 바뀐, 씨드, 세럼, 너무, 좋습니다, !!, 기존...   \n",
       "1     [배송, 을, 이틀, 정도, 걸렸는데, 결제, 되고, 배송, 되기까지, 다, 알려주...   \n",
       "2                                          [많이, 파세요, .]   \n",
       "3                                [피부, 에, 잘, 맞았으면, 좋겠어요]   \n",
       "4                                    [빠른, 배송, 고맙습니다, .]   \n",
       "...                                                 ...   \n",
       "8301  [좋아요, 가격, 이, 저렴해서, 반신반의, 하며, 구매, 했는데, 생각, 보다, ...   \n",
       "8302  [일단, 포장, 꼼꼼하게, 예쁜, 봉투, 에, 뽁뽁, 이, 까지, 감사합니다, 샘플...   \n",
       "8303  [배송, 배송, 빨라요, ㅎㅎ, \\r\\n, 첫날, 사, 용감, 은, ,,, 아직, ...   \n",
       "8304  [제, 가, 사, 용량, 이, 많다, 보니, 대, 용량, 을, 구매, 해서, 사용,...   \n",
       "8305  [좋아요, 미스트, 보다는, 끈, 적, 하니, ..., 그래요, \\r\\n, 촉촉해서...   \n",
       "\n",
       "                                                tagging  \\\n",
       "0     [(#사전체험단, Hashtag), (일단, Noun), (새롭게, Adjectiv...   \n",
       "1     [(배송, Noun), (을, Josa), (이틀, Noun), (정도, Noun)...   \n",
       "2         [(많이, Adverb), (파세요, Verb), (., Punctuation)]   \n",
       "3     [(피부, Noun), (에, Josa), (잘, Verb), (맞았으면, Verb...   \n",
       "4     [(빠른, Adjective), (배송, Noun), (고맙습니다, Adjectiv...   \n",
       "...                                                 ...   \n",
       "8301  [(좋아요, Adjective), (가격, Noun), (이, Josa), (저렴해...   \n",
       "8302  [(일단, Noun), (포장, Noun), (꼼꼼하게, Adjective), (예...   \n",
       "8303  [(배송, Noun), (배송, Noun), (빨라요, Adjective), (ㅎㅎ...   \n",
       "8304  [(제, Noun), (가, Josa), (사, Modifier), (용량, Nou...   \n",
       "8305  [(좋아요, Adjective), (미스트, Noun), (보다는, Josa), (...   \n",
       "\n",
       "                                                   noun  \n",
       "0     [일단, 씨드, 세럼, 기존, 씨드, 세럼, 차이, 기존, 씨드, 세럼, 조금, 더...  \n",
       "1     [배송, 이틀, 정도, 결제, 배송, 메일, 결제, 확인, 배송, 조회, 성분, 표...  \n",
       "2                                                    []  \n",
       "3                                                  [피부]  \n",
       "4                                                  [배송]  \n",
       "...                                                 ...  \n",
       "8301                   [가격, 반신반의, 구매, 생각, 가격, 생각, 꽤, 거]  \n",
       "8302             [일단, 포장, 봉투, 뽁뽁, 샘플, 에센스, 한번, 트러블, 보고]  \n",
       "8303                   [배송, 배송, 첫날, 용감, 예민, 피부, 이상, 사용]  \n",
       "8304  [제, 용량, 용량, 구매, 사용, 중, 가격, 를, 만, 구매, 제, 기억, 화장...  \n",
       "8305                                 [미스트, 끈, 하니, 것, 너]  \n",
       "\n",
       "[8306 rows x 6 columns]"
      ]
     },
     "execution_count": 256,
     "metadata": {},
     "output_type": "execute_result"
    }
   ],
   "source": [
    "del_galac_sort_by_point.reset_index(drop=True)"
   ]
  },
  {
   "cell_type": "code",
   "execution_count": 241,
   "metadata": {
    "collapsed": true
   },
   "outputs": [
    {
     "name": "stdout",
     "output_type": "stream",
     "text": [
      "[('피부', 3141), ('사용', 3013), ('럼', 2894), ('제품', 2854), ('그린티', 2255), ('더', 1591), ('수분', 1510), ('느낌', 1458), ('씨드', 1452), ('것', 1416), ('향', 1390), ('구매', 1329), ('흡수', 1195), ('체험', 1175), ('배송', 894), ('후', 823), ('때', 807), ('기존', 777), ('이니스프리', 758), ('용량', 756), ('거', 731), ('에센스', 713), ('감', 713), ('가격', 702), ('끈', 680), ('바로', 616), ('이번', 594), ('수', 563), ('샘플', 556), ('스킨', 545), ('세안', 544), ('정말', 542), ('품', 533), ('저', 515), ('리뉴얼', 515), ('트러블', 499), ('효과', 493), ('발림', 485), ('보습', 484), ('세럼', 466), ('발라', 466), ('얼굴', 460), ('형', 452), ('전', 445), ('크림', 435), ('좀', 433), ('생각', 425), ('항상', 411), ('제', 400), ('이', 393), ('신청', 391), ('구입', 384), ('계속', 379), ('건조', 364), ('보고', 362), ('처음', 350), ('번', 344), ('라인', 343), ('마음', 333), ('성분', 324), ('건성', 321), ('이벤트', 318), ('역시', 314), ('적임', 312), ('요', 311), ('추천', 301), ('상품', 300), ('아주', 294), ('맘', 294), ('늘', 292), ('화장품', 291), ('정도', 289), ('일단', 287), ('또', 287), ('조금', 282), ('하나', 281), ('앰플', 265), ('쓰기', 262), ('기분', 260), ('다음', 258), ('아침', 256), ('진정', 255), ('한번', 251), ('요즘', 247), ('주문', 245), ('진짜', 245), ('용', 242), ('예전', 236), ('용기', 234), ('뚜껑', 229), ('자극', 223), ('기초', 221), ('기대', 212), ('화장', 209), ('원래', 209), ('겨울', 209), ('부담', 201), ('완전', 201), ('유', 201), ('포장', 198), ('약간', 189), ('듯', 188), ('단', 187), ('케어', 181), ('다시', 181), ('기회', 181), ('유지', 180), ('마스크', 179), ('업그레이드', 178), ('최고', 177), ('앞', 177), ('쫀쫀', 176), ('템', 175), ('여름', 174), ('다른', 171), ('해', 170), ('성도', 170), ('용감', 169), ('지금', 168), ('자주', 163), ('타입', 162), ('김', 162), ('날', 161), ('저녁', 161), ('의사', 160), ('결', 159), ('점', 159), ('만족', 158), ('로션', 157), ('볼', 154), ('속', 152), ('선물', 150), ('버전', 149), ('평소', 146), ('중', 146), ('안', 145), ('닉', 145), ('금방', 142), ('도', 139), ('병', 138), ('매우', 138), ('대비', 136), ('출시', 135), ('싸이', 134), ('걸', 132), ('우선', 132), ('나', 132), ('미리', 132), ('개', 131), ('때문', 131), ('그냥', 130), ('행사', 129), ('퍼스트', 129), ('고민', 128), ('거리', 127), ('이전', 127), ('사서', 125), ('살짝', 125), ('단계', 124), ('좀더', 123), ('마무리', 123), ('그', 121), ('워낙', 120), ('뉴', 119), ('부지', 117), ('분', 116), ('사은', 116), ('말', 116), ('펌프', 116), ('쿠폰', 116), ('무난', 111), ('가장', 111), ('꼭', 111), ('지성', 110), ('민감', 108), ('물', 108), ('녹차', 108), ('비교', 107), ('미스트', 107), ('부분', 107), ('이건', 106), ('더욱', 106), ('사이즈', 106), ('걱정', 105), ('토너', 105), ('할인', 104), ('시간', 103), ('제일', 102), ('듭니', 102), ('편이', 102), ('비', 100), ('매장', 100), ('통', 99), ('양', 99), ('년', 98), ('이제', 98), ('복합', 98), ('가성', 97), ('개선', 97), ('손', 95)]\n",
      "[('물탄', 1), ('출고', 1), ('멍', 1), ('속지', 1), ('점주', 1), ('세븐일레븐', 1), ('석관', 1), ('요다음', 1), ('조치', 1), ('형사', 1), ('차원', 1), ('방송사', 1), ('위원회', 1), ('정거', 1), ('도시락', 1), ('밀리리터', 1), ('가조', 1), ('억지', 1), ('과장', 1)]\n"
     ]
    }
   ],
   "source": [
    "tokens_galac = [take2 for take1 in del_galac_sort_by_point[\"noun\"] for take2 in take1]\n",
    "text = nltk.Text(tokens_galac, name=\"NMSC\")\n",
    "print(text.vocab().most_common()[:200])\n",
    "print(text.vocab().most_common()[:-20:-1])"
   ]
  },
  {
   "cell_type": "code",
   "execution_count": 257,
   "metadata": {},
   "outputs": [],
   "source": [
    "tokens_galac = [take2 for take1 in del_galac_sort_by_point[\"tagging\"] for take2 in take1]\n",
    "galac_filtering = [x for x, y in tokens_galac if y in ['Noun', 'Adjective']]"
   ]
  },
  {
   "cell_type": "code",
   "execution_count": 286,
   "metadata": {
    "collapsed": true
   },
   "outputs": [
    {
     "name": "stdout",
     "output_type": "stream",
     "text": [
      "[('피부', 3103), ('사용', 2957), ('럼', 2880), ('제품', 2825), ('좋아요', 2523), ('그린티', 2244), ('더', 1567), ('같아요', 1510), ('수분', 1499), ('씨드', 1447), ('느낌', 1433), ('것', 1393), ('향', 1370), ('구매', 1287), ('흡수', 1189), ('체험', 1167), ('좋은', 1047), ('입니다', 980), ('배송', 858), ('후', 816), ('때', 789), ('기존', 775), ('좋네요', 762), ('이니스프리', 755), ('용량', 741), ('촉촉하고', 717), ('감', 709), ('거', 704), ('에센스', 676), ('가격', 672), ('끈', 672), ('바로', 610), ('이번', 589), ('수', 558), ('샘플', 539), ('세안', 538), ('정말', 535), ('좋고', 528), ('품', 522), ('스킨', 519), ('리뉴얼', 511), ('저', 503), ('트러블', 484), ('발림', 483), ('보습', 476), ('효과', 472), ('세럼', 466), ('발라', 459), ('형', 451), ('얼굴', 449), ('크림', 430), ('전', 429), ('좋습니다', 424), ('생각', 415), ('좀', 411), ('좋았어요', 408), ('항상', 406), ('있어서', 397), ('제', 396), ('이', 389), ('신청', 389), ('있어요', 380), ('계속', 374), ('구입', 365), ('건조', 364), ('있는', 355), ('보고', 353), ('꾸준히', 341), ('라인', 340), ('처음', 338), ('번', 338), ('마음', 330), ('빠르고', 323), ('만족합니다', 323), ('성분', 320), ('이벤트', 315), ('건성', 314), ('좋아서', 314), ('역시', 313), ('적임', 306), ('요', 297), ('추천', 296), ('아주', 292), ('늘', 290), ('맘', 288), ('일단', 285), ('화장품', 285), ('상품', 284), ('또', 282), ('정도', 281), ('조금', 276), ('하나', 269), ('기분', 258), ('앰플', 255), ('진정', 254), ('아침', 254), ('다음', 254), ('촉촉하게', 252), ('저렴하게', 250), ('쓰기', 250), ('없고', 249), ('촉촉함이', 249), ('촉촉한', 245), ('요즘', 243), ('진짜', 242), ('한번', 239), ('용', 237), ('주문', 230), ('용기', 230), ('예전', 226), ('뚜껑', 223), ('자극', 221), ('같은', 221), ('기초', 221), ('건조한', 221), ('원래', 208), ('겨울', 207), ('확실히', 205), ('기대', 205), ('화장', 204), ('새로', 203), ('완전', 197), ('부담', 196), ('유', 194), ('단', 186), ('약간', 185), ('포장', 183), ('있습니다', 182), ('케어', 181), ('유지', 180), ('좋았습니다', 180), ('듯', 179), ('기회', 179), ('마스크', 178), ('업그레이드', 178), ('같습니다', 176), ('다시', 176), ('최고', 175), ('앞', 175), ('촉촉해서', 175), ('쫀쫀', 174), ('템', 172), ('성도', 170), ('여름', 168), ('용감', 168), ('지금', 166), ('있는데', 165), ('해', 165), ('다른', 164), ('자주', 162), ('빠른', 160), ('저녁', 160), ('날', 159), ('타입', 159), ('김', 159), ('의사', 156), ('점', 156), ('만족', 155), ('결', 155), ('볼', 153), ('촉촉해요', 152), ('속', 152), ('로션', 151), ('선물', 146), ('평소', 146), ('버전', 146), ('순하고', 144), ('중', 143), ('닉', 143), ('없어서', 142), ('안', 140), ('같아서', 138), ('매우', 137), ('촉촉하니', 136), ('금방', 136), ('출시', 134), ('도', 134), ('병', 132), ('싸이', 132), ('대비', 131), ('미리', 131), ('걸', 128), ('나', 128), ('퍼스트', 128), ('때문', 128), ('우선', 127), ('같네요', 127), ('이전', 127), ('거리', 126), ('행사', 125), ('고민', 125), ('단계', 124), ('개', 123), ('사서', 123), ('살짝', 122), ('마무리', 122), ('좀더', 121), ('있어', 121), ('그', 119), ('뉴', 119)]\n"
     ]
    }
   ],
   "source": [
    "galac_filter = nltk.Text(galac_filtering, name=\"NMSC\")\n",
    "print(galac_filter.vocab().most_common()[:200])"
   ]
  },
  {
   "cell_type": "code",
   "execution_count": 469,
   "metadata": {},
   "outputs": [],
   "source": [
    "stop_words = ['제품', '구매', '사용', '것', '때', '거', '더', '용량', '일', '진짜', '저', '배송', '통째', '좀', '또',\n",
    "              '임', '이', '항상', '보고', '아주', '정말', '정도', '구입', '통', '생각', '용', '형', '주문', '제', '템',\n",
    "              '번', '전', '때문', '바로', '후', '요즘', '다음', '벌써', '날', '일단', '늘', '걸', '상품', '다른', '쟁',\n",
    "              '끈', '감', '금방', '안', '중', '사서', '요', '있습니다', \"같습니다\", '점', '속', '병', '버전', '있는데', '다시',\n",
    "             '가장', '워낙', '쿠폰', '더욱', '편이', '이건', '제일', '그냥', '듭니', '시간', '매장', '년', '없어요', '이번',\n",
    "             '이니스프리', '있어서', '없고', '한번', '용기', '매우', '같아서', '닉', '대비', '미리', '의사', '럼', '같아요',\n",
    "             '입니다', \"있는\", '발라', '계속', '쓰기', '화장품', '맘', '듯', '기회', '수', '단', '역시', '예전', '단', '평소',\n",
    "             '적임','기존', '이번', '바로', '피부', '좋아요', '씨드', \"그린티\", \"체험\", \"느낌\"]\n",
    "\n",
    "stopword_galac = [each_word for each_word in galac_filtering  if each_word not in stop_words]\n",
    "text1 = nltk.Text(stopword_galac, name=\"NMSC\")"
   ]
  },
  {
   "cell_type": "code",
   "execution_count": 470,
   "metadata": {},
   "outputs": [
    {
     "name": "stdout",
     "output_type": "stream",
     "text": [
      "[('수분', 1499), ('향', 1370), ('흡수', 1189), ('좋은', 1047), ('좋네요', 762), ('촉촉하고', 717), ('에센스', 676), ('가격', 672), ('샘플', 539), ('세안', 538), ('좋고', 528), ('품', 522), ('스킨', 519), ('리뉴얼', 511), ('트러블', 484), ('발림', 483), ('보습', 476), ('효과', 472), ('세럼', 466), ('얼굴', 449), ('크림', 430), ('좋습니다', 424), ('좋았어요', 408), ('신청', 389), ('있어요', 380), ('건조', 364), ('꾸준히', 341), ('라인', 340), ('처음', 338), ('마음', 330)]\n"
     ]
    }
   ],
   "source": [
    "print(text1.vocab().most_common()[:30])"
   ]
  },
  {
   "cell_type": "code",
   "execution_count": 471,
   "metadata": {},
   "outputs": [],
   "source": [
    "def showGraph(wordInfo):\n",
    "    \n",
    "    font_location = \"c:/Windows/Fonts/malgun.ttf\"\n",
    "    font_name = font_manager.FontProperties(fname=font_location).get_name()\n",
    "    rc('font', family=font_name)\n",
    "    plt.figure(figsize=(15, 6))\n",
    "    plt.xticks(fontsize=16)\n",
    "    plt.rc('axes', labelsize=16)\n",
    "    plt.xlabel('주요 단어')\n",
    "    plt.ylabel('빈도수')\n",
    "    plt.grid(True)\n",
    "    \n",
    "    Sorted_Dict_Values = sorted(wordInfo.values(), reverse=True)\n",
    "    Sorted_Dict_Keys = sorted(wordInfo, key=wordInfo.get, reverse=True)\n",
    "\n",
    "    plt.bar(range(len(wordInfo)), Sorted_Dict_Values, align='center')\n",
    "    plt.xticks(range(len(wordInfo)), list(Sorted_Dict_Keys), rotation='70')\n",
    "\n",
    "    plt.show()"
   ]
  },
  {
   "cell_type": "code",
   "execution_count": 472,
   "metadata": {
    "scrolled": false
   },
   "outputs": [
    {
     "name": "stdout",
     "output_type": "stream",
     "text": [
      "수분:1499\n",
      "흡수:1189\n",
      "좋은:1047\n",
      "좋네요:762\n",
      "촉촉하고:717\n",
      "에센스:676\n",
      "가격:672\n",
      "샘플:539\n",
      "세안:538\n",
      "좋고:528\n",
      "스킨:519\n",
      "리뉴얼:511\n",
      "트러블:484\n",
      "발림:483\n",
      "보습:476\n",
      "효과:472\n",
      "세럼:466\n",
      "얼굴:449\n",
      "크림:430\n",
      "좋습니다:424\n",
      "좋았어요:408\n",
      "신청:389\n",
      "있어요:380\n",
      "건조:364\n",
      "꾸준히:341\n",
      "라인:340\n",
      "처음:338\n",
      "마음:330\n"
     ]
    },
    {
     "data": {
      "image/png": "[encoded data removed]",
      "text/plain": [
       "<Figure size 1080x432 with 1 Axes>"
      ]
     },
     "metadata": {
      "needs_background": "light"
     },
     "output_type": "display_data"
    }
   ],
   "source": [
    "text1 = nltk.Text(stopword_galac, name=\"NMSC\")\n",
    "count = Counter(text1.vocab())\n",
    "galac_info = dict()\n",
    "for tags, counts in text1.vocab().most_common(30):\n",
    "    if (len(str(tags)) > 1): \n",
    "        galac_info[tags] = counts\n",
    "        print(\"%s:%d\" %(tags, counts))\n",
    "\n",
    "showGraph(galac_info)"
   ]
  },
  {
   "cell_type": "code",
   "execution_count": 473,
   "metadata": {},
   "outputs": [],
   "source": [
    "def wordcloud(Text):\n",
    "    data = Text.vocab().most_common(100)\n",
    "    mpl.rcParams['font.size']=10               \n",
    "    mpl.rcParams['savefig.dpi']=300             \n",
    "    mpl.rcParams['figure.subplot.bottom']=.1 \n",
    "\n",
    "    wordcloud = WordCloud(font_path=\"C:/Windows/Fonts/malgun.ttf\",\n",
    "                          relative_scaling = 0.2,\n",
    "                          background_color='white',\n",
    "                          ).generate_from_frequencies(dict(data))\n",
    "    plt.figure(figsize=(12, 8))\n",
    "    plt.imshow(wordcloud)\n",
    "    plt.axis(\"off\")\n",
    "    plt.show()"
   ]
  },
  {
   "cell_type": "code",
   "execution_count": 474,
   "metadata": {},
   "outputs": [
    {
     "data": {
      "image/png": "[encoded data removed]",
      "text/plain": [
       "<Figure size 864x576 with 1 Axes>"
      ]
     },
     "metadata": {
      "needs_background": "light"
     },
     "output_type": "display_data"
    }
   ],
   "source": [
    "wordcloud(text1)"
   ]
  },
  {
   "cell_type": "markdown",
   "metadata": {},
   "source": [
    "#### 히알루론산"
   ]
  },
  {
   "cell_type": "code",
   "execution_count": 272,
   "metadata": {},
   "outputs": [],
   "source": [
    "del_hyalu = pd.read_csv(\"del_hyalu.csv\", index_col=0)"
   ]
  },
  {
   "cell_type": "code",
   "execution_count": 273,
   "metadata": {},
   "outputs": [],
   "source": [
    "del_hyalu_sort_by_point = del_hyalu.sort_values(by=\"point\", ascending=False)"
   ]
  },
  {
   "cell_type": "code",
   "execution_count": 274,
   "metadata": {},
   "outputs": [],
   "source": [
    "del_hyalu_sort_by_point.reset_index(drop=True, inplace=True)"
   ]
  },
  {
   "cell_type": "code",
   "execution_count": 277,
   "metadata": {},
   "outputs": [],
   "source": [
    "filter_point_hyalu = del_hyalu_sort_by_point[ (del_hyalu_sort_by_point['point'] <= 3)].index\n",
    "del_hyalu_sort_by_point.drop(filter_point_hyalu , inplace=True)"
   ]
  },
  {
   "cell_type": "code",
   "execution_count": 278,
   "metadata": {
    "scrolled": false
   },
   "outputs": [],
   "source": [
    "del_hyalu_sort_by_point.reset_index(drop=True, inplace=True)"
   ]
  },
  {
   "cell_type": "code",
   "execution_count": 280,
   "metadata": {},
   "outputs": [],
   "source": [
    "del_hyalu_sort_by_point[\"noun\"] = del_hyalu_sort_by_point[\"review\"].apply(Okt.nouns)\n",
    "del_hyalu_sort_by_point[\"tagging\"] =  del_hyalu_sort_by_point[\"review\"].apply(Okt.pos)"
   ]
  },
  {
   "cell_type": "code",
   "execution_count": 281,
   "metadata": {},
   "outputs": [],
   "source": [
    "del_hyalu_sort_by_point = del_hyalu_sort_by_point.drop(\"date\", axis=1)"
   ]
  },
  {
   "cell_type": "code",
   "execution_count": 282,
   "metadata": {
    "collapsed": true
   },
   "outputs": [
    {
     "data": {
      "text/html": [
       "<div>\n",
       "<style scoped>\n",
       "    .dataframe tbody tr th:only-of-type {\n",
       "        vertical-align: middle;\n",
       "    }\n",
       "\n",
       "    .dataframe tbody tr th {\n",
       "        vertical-align: top;\n",
       "    }\n",
       "\n",
       "    .dataframe thead th {\n",
       "        text-align: right;\n",
       "    }\n",
       "</style>\n",
       "<table border=\"1\" class=\"dataframe\">\n",
       "  <thead>\n",
       "    <tr style=\"text-align: right;\">\n",
       "      <th></th>\n",
       "      <th>review</th>\n",
       "      <th>point</th>\n",
       "      <th>ingre</th>\n",
       "      <th>token_review</th>\n",
       "      <th>noun</th>\n",
       "      <th>tagging</th>\n",
       "    </tr>\n",
       "  </thead>\n",
       "  <tbody>\n",
       "    <tr>\n",
       "      <th>0</th>\n",
       "      <td>촉촉하고 좋아용 ㅎㅎ</td>\n",
       "      <td>5</td>\n",
       "      <td>히알루론산</td>\n",
       "      <td>['촉촉하고', '좋아용']</td>\n",
       "      <td>[]</td>\n",
       "      <td>[(촉촉하고, Adjective), (좋아용, Adjective), (ㅎㅎ, Kor...</td>\n",
       "    </tr>\n",
       "    <tr>\n",
       "      <th>1</th>\n",
       "      <td>잘쓰도록 할께요 아직 사용전 이에요</td>\n",
       "      <td>5</td>\n",
       "      <td>히알루론산</td>\n",
       "      <td>['잘쓰도록', '할께요', '아직', '사용', '전이', '에요']</td>\n",
       "      <td>[사용, 전]</td>\n",
       "      <td>[(잘쓰도록, Verb), (할께요, Verb), (아직, Adverb), (사용,...</td>\n",
       "    </tr>\n",
       "    <tr>\n",
       "      <th>2</th>\n",
       "      <td>다른 스킨들보단 흡수가 잘되요</td>\n",
       "      <td>5</td>\n",
       "      <td>히알루론산</td>\n",
       "      <td>['다른', '스킨', '들보', '흡수', '가', '잘', '되요']</td>\n",
       "      <td>[다른, 스킨, 흡수]</td>\n",
       "      <td>[(다른, Noun), (스킨, Noun), (들, Suffix), (보단, Jos...</td>\n",
       "    </tr>\n",
       "    <tr>\n",
       "      <th>3</th>\n",
       "      <td>엄청 촉촉합니다\\r\\n스킨이랑 크림 다 같이 샀었는데 다른건 원래 쓰던 제품 써도 ...</td>\n",
       "      <td>5</td>\n",
       "      <td>히알루론산</td>\n",
       "      <td>['엄청', '촉촉합니다', '\\n', '스킨', '이랑', '크림', '다', '...</td>\n",
       "      <td>[스킨, 크림, 원래, 제품, 앰플, 정말, 쫀쫀, 것, 엄마, 개, 한번, 구입]</td>\n",
       "      <td>[(엄청, Adverb), (촉촉합니다, Adjective), (\\r\\n, Fore...</td>\n",
       "    </tr>\n",
       "    <tr>\n",
       "      <th>4</th>\n",
       "      <td>오래쓰는중인데여전히좋아요</td>\n",
       "      <td>5</td>\n",
       "      <td>히알루론산</td>\n",
       "      <td>['오래', '쓰는', '중', '인데', '여히', '좋아요']</td>\n",
       "      <td>[중]</td>\n",
       "      <td>[(오래, Adverb), (쓰는, Verb), (중, Noun), (인데, Jos...</td>\n",
       "    </tr>\n",
       "    <tr>\n",
       "      <th>...</th>\n",
       "      <td>...</td>\n",
       "      <td>...</td>\n",
       "      <td>...</td>\n",
       "      <td>...</td>\n",
       "      <td>...</td>\n",
       "      <td>...</td>\n",
       "    </tr>\n",
       "    <tr>\n",
       "      <th>15435</th>\n",
       "      <td>아직 효과가 있는지 모르겠지만 배송이 빨라서 좋았습니다</td>\n",
       "      <td>4</td>\n",
       "      <td>히알루론산</td>\n",
       "      <td>['아직', '효과', '가', '있는지', '모르겠지만', '배송', '이', '...</td>\n",
       "      <td>[효과, 배송, 빨]</td>\n",
       "      <td>[(아직, Adverb), (효과, Noun), (가, Josa), (있는지, Ad...</td>\n",
       "    </tr>\n",
       "    <tr>\n",
       "      <th>15436</th>\n",
       "      <td>배송이,,, 정말느리네요 12월1일에 시켰는데 주말빼도 5일걸렸어요. 이거보다 늦게...</td>\n",
       "      <td>4</td>\n",
       "      <td>히알루론산</td>\n",
       "      <td>['배송', '이', '정말', '느리네요', '월일', '에', '시켰는데', '...</td>\n",
       "      <td>[배송, 정말, 주말, 거, 아이, 먼저, 별하나, 디렉터, 파이, 구매]</td>\n",
       "      <td>[(배송, Noun), (이, Josa), (,,,, Punctuation), (정...</td>\n",
       "    </tr>\n",
       "    <tr>\n",
       "      <th>15437</th>\n",
       "      <td>앰플+스킨세트를 샀어요. 스킨은 쓰던게 있어서 지금 앰플만 사용중인데 쭉~ 흡수가 ...</td>\n",
       "      <td>4</td>\n",
       "      <td>히알루론산</td>\n",
       "      <td>['앰', '플', '스킨', '세트', '를', '샀어요', '스킨', '은', ...</td>\n",
       "      <td>[앰플, 스킨, 세트, 스킨, 지금, 앰플, 사용, 쭉, 흡수, 여부, 앰플, 통]</td>\n",
       "      <td>[(앰플, Noun), (+, Punctuation), (스킨, Noun), (세트...</td>\n",
       "    </tr>\n",
       "    <tr>\n",
       "      <th>15438</th>\n",
       "      <td>속건조한것이 조금 나아졌어요</td>\n",
       "      <td>4</td>\n",
       "      <td>히알루론산</td>\n",
       "      <td>['속', '건조한것이', '조금', '나아졌어요']</td>\n",
       "      <td>[속, 조금]</td>\n",
       "      <td>[(속, Noun), (건조한것이, Adjective), (조금, Noun), (나...</td>\n",
       "    </tr>\n",
       "    <tr>\n",
       "      <th>15439</th>\n",
       "      <td>소문듣고 샀는데 진짜 괜찮아요</td>\n",
       "      <td>4</td>\n",
       "      <td>히알루론산</td>\n",
       "      <td>['소문', '듣고', '샀는데', '진짜', '괜찮아요']</td>\n",
       "      <td>[소문, 진짜]</td>\n",
       "      <td>[(소문, Noun), (듣고, Verb), (샀는데, Verb), (진짜, Nou...</td>\n",
       "    </tr>\n",
       "  </tbody>\n",
       "</table>\n",
       "<p>15440 rows × 6 columns</p>\n",
       "</div>"
      ],
      "text/plain": [
       "                                                  review  point  ingre  \\\n",
       "0                                            촉촉하고 좋아용 ㅎㅎ      5  히알루론산   \n",
       "1                                    잘쓰도록 할께요 아직 사용전 이에요      5  히알루론산   \n",
       "2                                       다른 스킨들보단 흡수가 잘되요      5  히알루론산   \n",
       "3      엄청 촉촉합니다\\r\\n스킨이랑 크림 다 같이 샀었는데 다른건 원래 쓰던 제품 써도 ...      5  히알루론산   \n",
       "4                                          오래쓰는중인데여전히좋아요      5  히알루론산   \n",
       "...                                                  ...    ...    ...   \n",
       "15435                     아직 효과가 있는지 모르겠지만 배송이 빨라서 좋았습니다      4  히알루론산   \n",
       "15436  배송이,,, 정말느리네요 12월1일에 시켰는데 주말빼도 5일걸렸어요. 이거보다 늦게...      4  히알루론산   \n",
       "15437  앰플+스킨세트를 샀어요. 스킨은 쓰던게 있어서 지금 앰플만 사용중인데 쭉~ 흡수가 ...      4  히알루론산   \n",
       "15438                                    속건조한것이 조금 나아졌어요      4  히알루론산   \n",
       "15439                                   소문듣고 샀는데 진짜 괜찮아요      4  히알루론산   \n",
       "\n",
       "                                            token_review  \\\n",
       "0                                        ['촉촉하고', '좋아용']   \n",
       "1                ['잘쓰도록', '할께요', '아직', '사용', '전이', '에요']   \n",
       "2               ['다른', '스킨', '들보', '흡수', '가', '잘', '되요']   \n",
       "3      ['엄청', '촉촉합니다', '\\n', '스킨', '이랑', '크림', '다', '...   \n",
       "4                   ['오래', '쓰는', '중', '인데', '여히', '좋아요']   \n",
       "...                                                  ...   \n",
       "15435  ['아직', '효과', '가', '있는지', '모르겠지만', '배송', '이', '...   \n",
       "15436  ['배송', '이', '정말', '느리네요', '월일', '에', '시켰는데', '...   \n",
       "15437  ['앰', '플', '스킨', '세트', '를', '샀어요', '스킨', '은', ...   \n",
       "15438                      ['속', '건조한것이', '조금', '나아졌어요']   \n",
       "15439                  ['소문', '듣고', '샀는데', '진짜', '괜찮아요']   \n",
       "\n",
       "                                                 noun  \\\n",
       "0                                                  []   \n",
       "1                                             [사용, 전]   \n",
       "2                                        [다른, 스킨, 흡수]   \n",
       "3      [스킨, 크림, 원래, 제품, 앰플, 정말, 쫀쫀, 것, 엄마, 개, 한번, 구입]   \n",
       "4                                                 [중]   \n",
       "...                                               ...   \n",
       "15435                                     [효과, 배송, 빨]   \n",
       "15436       [배송, 정말, 주말, 거, 아이, 먼저, 별하나, 디렉터, 파이, 구매]   \n",
       "15437  [앰플, 스킨, 세트, 스킨, 지금, 앰플, 사용, 쭉, 흡수, 여부, 앰플, 통]   \n",
       "15438                                         [속, 조금]   \n",
       "15439                                        [소문, 진짜]   \n",
       "\n",
       "                                                 tagging  \n",
       "0      [(촉촉하고, Adjective), (좋아용, Adjective), (ㅎㅎ, Kor...  \n",
       "1      [(잘쓰도록, Verb), (할께요, Verb), (아직, Adverb), (사용,...  \n",
       "2      [(다른, Noun), (스킨, Noun), (들, Suffix), (보단, Jos...  \n",
       "3      [(엄청, Adverb), (촉촉합니다, Adjective), (\\r\\n, Fore...  \n",
       "4      [(오래, Adverb), (쓰는, Verb), (중, Noun), (인데, Jos...  \n",
       "...                                                  ...  \n",
       "15435  [(아직, Adverb), (효과, Noun), (가, Josa), (있는지, Ad...  \n",
       "15436  [(배송, Noun), (이, Josa), (,,,, Punctuation), (정...  \n",
       "15437  [(앰플, Noun), (+, Punctuation), (스킨, Noun), (세트...  \n",
       "15438  [(속, Noun), (건조한것이, Adjective), (조금, Noun), (나...  \n",
       "15439  [(소문, Noun), (듣고, Verb), (샀는데, Verb), (진짜, Nou...  \n",
       "\n",
       "[15440 rows x 6 columns]"
      ]
     },
     "execution_count": 282,
     "metadata": {},
     "output_type": "execute_result"
    }
   ],
   "source": [
    "del_hyalu_sort_by_point"
   ]
  },
  {
   "cell_type": "code",
   "execution_count": 290,
   "metadata": {},
   "outputs": [],
   "source": [
    "tokens_hyalu = [take2 for take1 in del_hyalu_sort_by_point[\"tagging\"] for take2 in take1]\n",
    "hyalu_filtering = [x for x, y in tokens_hyalu if y in ['Noun', 'Adjective']]"
   ]
  },
  {
   "cell_type": "code",
   "execution_count": 291,
   "metadata": {
    "collapsed": true
   },
   "outputs": [
    {
     "name": "stdout",
     "output_type": "stream",
     "text": [
      "[('좋아요', 3952), ('피부', 3225), ('사용', 2871), ('구매', 2195), ('제품', 1955), ('같아요', 1833), ('흡수', 1641), ('앰플', 1594), ('때', 1419), ('수분', 1411), ('것', 1360), ('느낌', 1327), ('거', 1187), ('촉촉하고', 1181), ('입니다', 1017), ('더', 1009), ('좋은', 973), ('트러블', 967), ('배송', 950), ('가격', 922), ('끈', 863), ('효과', 860), ('날', 822), ('추천', 749), ('보고', 700), ('좀', 667), ('다음', 644), ('보습', 640), ('크림', 635), ('건조', 633), ('진짜', 619), ('화장', 603), ('좋아서', 597), ('있어요', 586), ('좋네요', 575), ('쫀쫀', 554), ('정말', 552), ('토너', 549), ('감', 549), ('아주', 546), ('저', 541), ('얼굴', 521), ('건성', 508), ('처음', 506), ('한번', 502), ('계속', 502), ('또', 489), ('촉촉해요', 473), ('스킨', 470), ('생각', 469), ('전', 463), ('진정', 463), ('용량', 463), ('항상', 462), ('좋고', 458), ('좋습니다', 457), ('이', 455), ('구입', 429), ('꾸준히', 422), ('빠르고', 419), ('일', 416), ('주문', 390), ('만족합니다', 383), ('조금', 375), ('아침', 372), ('자극', 369), ('쓰기', 361), ('케어', 357), ('팩', 354), ('성분', 353), ('바로', 352), ('확실히', 347), ('제', 345), ('발라', 345), ('정도', 334), ('번', 326), ('후', 324), ('형', 323), ('순하고', 322), ('하나', 318), ('요', 304), ('히알루론산', 295), ('겨울', 286), ('양', 281), ('통째', 278), ('완전', 272), ('샘플', 267), ('개', 264), ('좋다고', 262), ('용', 262), ('약간', 258), ('없고', 256), ('저녁', 255), ('해', 255), ('금방', 251), ('에센스', 251), ('무난', 251), ('적임', 250), ('있는', 247), ('발림', 246), ('웰라쥬', 241), ('있습니다', 239), ('쟁', 239), ('템', 238), ('요즘', 234), ('수', 234), ('촉촉해서', 233), ('안', 231), ('있어서', 230), ('저렴하게', 230), ('부지', 229), ('일단', 229), ('같은', 222), ('만족', 221), ('파이', 220), ('상품', 220), ('최고', 217), ('디렉터', 215), ('이번', 214), ('마스크', 212), ('좋', 211), ('그냥', 208), ('맘', 204), ('다른', 201), ('통', 201), ('중', 200), ('사서', 196), ('늘', 195), ('좋았어요', 193), ('행사', 193), ('촉촉하니', 192), ('걸', 192), ('중요한', 192), ('촉촉한', 189), ('화장품', 188), ('있는데', 187), ('듯', 187), ('후기', 186), ('꼭', 185), ('건조한', 182), ('라인', 182), ('의사', 181), ('다시', 180), ('여름', 179), ('기대', 176), ('할인', 175), ('병', 171), ('선물', 171), ('지금', 169), ('자주', 168), ('좋겠어요', 167), ('두번째', 167), ('민감', 166), ('촉촉', 165), ('빠른', 164), ('대비', 163), ('역시', 163), ('쫀쫀해', 162), ('좁쌀', 161), ('마무리', 159), ('없어요', 159), ('같아서', 157), ('속', 157), ('괜찮은', 157), ('때문', 156), ('결', 155), ('향', 150), ('더랩', 149), ('물', 149), ('마음', 148), ('없어서', 148), ('비', 148), ('만족해요', 148), ('촉촉하게', 147), ('좋아', 146), ('좋은데', 146), ('가성', 144), ('조아요', 144), ('알', 144), ('전날', 143), ('달', 141), ('매우', 140), ('습', 138), ('촉촉함이', 137), ('굿', 135), ('수분크림', 135), ('밤', 135), ('로션', 134), ('거리', 134), ('살짝', 134), ('원래', 133), ('같네요', 133), ('유', 133), ('지성', 132), ('기분', 132), ('앞', 131), ('분', 131), ('편이', 130), ('예정', 129), ('타입', 128)]\n"
     ]
    }
   ],
   "source": [
    "filtering = nltk.Text(hyalu_filtering, name=\"NMSC\")\n",
    "print(filtering.vocab().most_common()[:200])"
   ]
  },
  {
   "cell_type": "code",
   "execution_count": 475,
   "metadata": {},
   "outputs": [],
   "source": [
    "stop_words = ['제품', '구매', '사용', '것', '때', '거', '더', '용량', '일', '진짜', '저', '배송', '통째', '좀', '또',\n",
    "              '임', '이', '항상', '보고', '아주', '정말', '정도', '구입', '통', '생각', '용', '형', '주문', '제', '템',\n",
    "              '번', '전', '때문', '바로', '후', '요즘', '다음', '벌써', '날', '일단', '늘', '걸', '상품', '다른', '쟁',\n",
    "              '끈', '감', '금방', '안', '중', '사서', '요', '있습니다', \"같습니다\", '점', '속', '병', '버전', '있는데', '다시',\n",
    "             '가장', '워낙', '쿠폰', '더욱', '편이', '이건', '제일', '그냥', '듭니', '시간', '매장', '년', '없어요', '이번',\n",
    "             '이니스프리', '있어서', '없고', '한번', '용기', '매우', '같아서', '닉', '대비', '미리', '의사', '럼', '같아요',\n",
    "             '입니다', \"있는\", '발라', '계속', '쓰기', '화장품', '맘', '듯', '기회', '수', '단', '역시', '예전', '평소',\n",
    "             '적임','기존', '이번', '바로', '있어요', '좋아요', '피부', '앰플', \"느낌\"]\n",
    "\n",
    "stopword_hyalu = [each_word for each_word in hyalu_filtering  if each_word not in stop_words]\n",
    "text2 = nltk.Text(stopword_hyalu, name=\"NMSC\")"
   ]
  },
  {
   "cell_type": "code",
   "execution_count": 476,
   "metadata": {},
   "outputs": [
    {
     "name": "stdout",
     "output_type": "stream",
     "text": [
      "[('흡수', 1641), ('수분', 1411), ('촉촉하고', 1181), ('좋은', 973), ('트러블', 967), ('가격', 922), ('효과', 860), ('추천', 749), ('보습', 640), ('크림', 635), ('건조', 633), ('화장', 603), ('좋아서', 597), ('좋네요', 575), ('쫀쫀', 554), ('토너', 549), ('얼굴', 521), ('건성', 508), ('처음', 506), ('촉촉해요', 473), ('스킨', 470), ('진정', 463), ('좋고', 458), ('좋습니다', 457), ('꾸준히', 422), ('빠르고', 419), ('만족합니다', 383), ('조금', 375), ('아침', 372), ('자극', 369), ('케어', 357), ('팩', 354), ('성분', 353), ('확실히', 347), ('순하고', 322), ('하나', 318), ('히알루론산', 295), ('겨울', 286), ('양', 281), ('완전', 272), ('샘플', 267), ('개', 264), ('좋다고', 262), ('약간', 258), ('저녁', 255), ('해', 255), ('에센스', 251), ('무난', 251), ('발림', 246), ('웰라쥬', 241), ('촉촉해서', 233), ('저렴하게', 230), ('부지', 229), ('같은', 222), ('만족', 221), ('파이', 220), ('최고', 217), ('디렉터', 215), ('마스크', 212), ('좋', 211), ('좋았어요', 193), ('행사', 193), ('촉촉하니', 192), ('중요한', 192), ('촉촉한', 189), ('후기', 186), ('꼭', 185), ('건조한', 182), ('라인', 182), ('여름', 179), ('기대', 176), ('할인', 175), ('선물', 171), ('지금', 169), ('자주', 168), ('좋겠어요', 167), ('두번째', 167), ('민감', 166), ('촉촉', 165), ('빠른', 164), ('쫀쫀해', 162), ('좁쌀', 161), ('마무리', 159), ('괜찮은', 157), ('결', 155), ('향', 150), ('더랩', 149), ('물', 149), ('마음', 148), ('없어서', 148), ('비', 148), ('만족해요', 148), ('촉촉하게', 147), ('좋아', 146), ('좋은데', 146), ('가성', 144), ('조아요', 144), ('알', 144), ('전날', 143), ('달', 141)]\n"
     ]
    }
   ],
   "source": [
    "print(text2.vocab().most_common()[:100])"
   ]
  },
  {
   "cell_type": "code",
   "execution_count": 477,
   "metadata": {
    "scrolled": false
   },
   "outputs": [
    {
     "name": "stdout",
     "output_type": "stream",
     "text": [
      "흡수:1641\n",
      "수분:1411\n",
      "촉촉하고:1181\n",
      "좋은:973\n",
      "트러블:967\n",
      "가격:922\n",
      "효과:860\n",
      "추천:749\n",
      "보습:640\n",
      "크림:635\n",
      "건조:633\n",
      "화장:603\n",
      "좋아서:597\n",
      "좋네요:575\n",
      "쫀쫀:554\n",
      "토너:549\n",
      "얼굴:521\n",
      "건성:508\n",
      "처음:506\n",
      "촉촉해요:473\n",
      "스킨:470\n",
      "진정:463\n",
      "좋고:458\n",
      "좋습니다:457\n",
      "꾸준히:422\n",
      "빠르고:419\n",
      "만족합니다:383\n",
      "조금:375\n",
      "아침:372\n",
      "자극:369\n"
     ]
    },
    {
     "data": {
      "image/png": "[encoded data removed]",
      "text/plain": [
       "<Figure size 1080x432 with 1 Axes>"
      ]
     },
     "metadata": {
      "needs_background": "light"
     },
     "output_type": "display_data"
    }
   ],
   "source": [
    "text2 = nltk.Text(stopword_hyalu, name=\"NMSC\")\n",
    "count2 = Counter(text2.vocab())\n",
    "hyal_info = dict()\n",
    "for tags, counts in text2.vocab().most_common(30):\n",
    "    if (len(str(tags)) > 1):\n",
    "        hyal_info[tags] = counts\n",
    "        print(\"%s:%d\" %(tags, counts))\n",
    "\n",
    "showGraph(hyal_info)"
   ]
  },
  {
   "cell_type": "code",
   "execution_count": 478,
   "metadata": {},
   "outputs": [
    {
     "data": {
      "image/png": "[encoded data removed]",
      "text/plain": [
       "<Figure size 864x576 with 1 Axes>"
      ]
     },
     "metadata": {
      "needs_background": "light"
     },
     "output_type": "display_data"
    }
   ],
   "source": [
    "wordcloud(text2)"
   ]
  },
  {
   "cell_type": "code",
   "execution_count": null,
   "metadata": {},
   "outputs": [],
   "source": []
  },
  {
   "cell_type": "code",
   "execution_count": null,
   "metadata": {},
   "outputs": [],
   "source": []
  },
  {
   "cell_type": "code",
   "execution_count": null,
   "metadata": {},
   "outputs": [],
   "source": []
  },
  {
   "cell_type": "code",
   "execution_count": null,
   "metadata": {},
   "outputs": [],
   "source": []
  },
  {
   "cell_type": "code",
   "execution_count": null,
   "metadata": {},
   "outputs": [],
   "source": []
  },
  {
   "cell_type": "code",
   "execution_count": null,
   "metadata": {},
   "outputs": [],
   "source": []
  },
  {
   "cell_type": "code",
   "execution_count": null,
   "metadata": {},
   "outputs": [],
   "source": []
  },
  {
   "cell_type": "code",
   "execution_count": null,
   "metadata": {},
   "outputs": [],
   "source": []
  },
  {
   "cell_type": "code",
   "execution_count": null,
   "metadata": {},
   "outputs": [],
   "source": []
  },
  {
   "cell_type": "code",
   "execution_count": null,
   "metadata": {},
   "outputs": [],
   "source": []
  },
  {
   "cell_type": "code",
   "execution_count": null,
   "metadata": {},
   "outputs": [],
   "source": []
  },
  {
   "cell_type": "code",
   "execution_count": null,
   "metadata": {},
   "outputs": [],
   "source": []
  },
  {
   "cell_type": "code",
   "execution_count": null,
   "metadata": {},
   "outputs": [],
   "source": []
  },
  {
   "cell_type": "code",
   "execution_count": null,
   "metadata": {},
   "outputs": [],
   "source": []
  },
  {
   "cell_type": "code",
   "execution_count": null,
   "metadata": {},
   "outputs": [],
   "source": []
  },
  {
   "cell_type": "code",
   "execution_count": null,
   "metadata": {},
   "outputs": [],
   "source": []
  },
  {
   "cell_type": "code",
   "execution_count": null,
   "metadata": {},
   "outputs": [],
   "source": []
  },
  {
   "cell_type": "code",
   "execution_count": null,
   "metadata": {},
   "outputs": [],
   "source": []
  },
  {
   "cell_type": "code",
   "execution_count": null,
   "metadata": {},
   "outputs": [],
   "source": []
  },
  {
   "cell_type": "code",
   "execution_count": null,
   "metadata": {},
   "outputs": [],
   "source": []
  },
  {
   "cell_type": "code",
   "execution_count": null,
   "metadata": {},
   "outputs": [],
   "source": []
  },
  {
   "cell_type": "code",
   "execution_count": null,
   "metadata": {},
   "outputs": [],
   "source": []
  },
  {
   "cell_type": "code",
   "execution_count": null,
   "metadata": {},
   "outputs": [],
   "source": []
  },
  {
   "cell_type": "code",
   "execution_count": null,
   "metadata": {},
   "outputs": [],
   "source": []
  },
  {
   "cell_type": "code",
   "execution_count": null,
   "metadata": {},
   "outputs": [],
   "source": []
  },
  {
   "cell_type": "code",
   "execution_count": null,
   "metadata": {},
   "outputs": [],
   "source": []
  },
  {
   "cell_type": "code",
   "execution_count": null,
   "metadata": {},
   "outputs": [],
   "source": []
  },
  {
   "cell_type": "code",
   "execution_count": null,
   "metadata": {},
   "outputs": [],
   "source": []
  },
  {
   "cell_type": "code",
   "execution_count": null,
   "metadata": {},
   "outputs": [],
   "source": []
  },
  {
   "cell_type": "code",
   "execution_count": null,
   "metadata": {},
   "outputs": [],
   "source": []
  },
  {
   "cell_type": "code",
   "execution_count": null,
   "metadata": {},
   "outputs": [],
   "source": []
  },
  {
   "cell_type": "code",
   "execution_count": null,
   "metadata": {},
   "outputs": [],
   "source": []
  },
  {
   "cell_type": "code",
   "execution_count": null,
   "metadata": {},
   "outputs": [],
   "source": []
  },
  {
   "cell_type": "code",
   "execution_count": null,
   "metadata": {},
   "outputs": [],
   "source": []
  },
  {
   "cell_type": "code",
   "execution_count": null,
   "metadata": {},
   "outputs": [],
   "source": []
  },
  {
   "cell_type": "code",
   "execution_count": null,
   "metadata": {},
   "outputs": [],
   "source": []
  },
  {
   "cell_type": "code",
   "execution_count": null,
   "metadata": {},
   "outputs": [],
   "source": []
  },
  {
   "cell_type": "code",
   "execution_count": null,
   "metadata": {},
   "outputs": [],
   "source": []
  },
  {
   "cell_type": "code",
   "execution_count": null,
   "metadata": {},
   "outputs": [],
   "source": []
  }
 ],
 "metadata": {
  "kernelspec": {
   "display_name": "Python 3",
   "language": "python",
   "name": "python3"
  },
  "language_info": {
   "codemirror_mode": {
    "name": "ipython",
    "version": 3
   },
   "file_extension": ".py",
   "mimetype": "text/x-python",
   "name": "python",
   "nbconvert_exporter": "python",
   "pygments_lexer": "ipython3",
   "version": "3.8.5"
  }
 },
 "nbformat": 4,
 "nbformat_minor": 4
}

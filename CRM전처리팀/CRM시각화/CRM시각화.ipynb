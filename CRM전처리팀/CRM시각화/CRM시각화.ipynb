{
 "cells": [
  {
   "cell_type": "code",
   "execution_count": 245,
   "metadata": {},
   "outputs": [],
   "source": [
    "import numpy as np\n",
    "import pandas as pd\n",
    "import matplotlib as mpl\n",
    "import matplotlib.pyplot as plt\n",
    "import matplotlib.font_manager as fm\n",
    "import seaborn as sns"
   ]
  },
  {
   "cell_type": "code",
   "execution_count": 91,
   "metadata": {},
   "outputs": [
    {
     "name": "stdout",
     "output_type": "stream",
     "text": [
      "버전:  3.3.2\n",
      "설치 위치:  C:\\Users\\museh\\anaconda3\\lib\\site-packages\\matplotlib\\__init__.py\n",
      "설정 위치:  C:\\Users\\museh\\.matplotlib\n",
      "캐시 위치:  C:\\Users\\museh\\.matplotlib\n"
     ]
    }
   ],
   "source": [
    "print ('버전: ', mpl.__version__)\n",
    "print ('설치 위치: ', mpl.__file__)\n",
    "print ('설정 위치: ', mpl.get_configdir())\n",
    "print ('캐시 위치: ', mpl.get_cachedir())"
   ]
  },
  {
   "cell_type": "code",
   "execution_count": 108,
   "metadata": {},
   "outputs": [],
   "source": [
    "# jupyter notebook 내 그래프를 바로 그리기 위한 설정\n",
    "%matplotlib inline\n",
    "\n",
    "# unicode minus를 사용하지 않기 위한 설정 (minus 깨짐현상 방지)\n",
    "plt.rcParams['axes.unicode_minus'] = False"
   ]
  },
  {
   "cell_type": "code",
   "execution_count": 92,
   "metadata": {},
   "outputs": [
    {
     "name": "stdout",
     "output_type": "stream",
     "text": [
      "설정파일 위치:  C:\\Users\\museh\\anaconda3\\lib\\site-packages\\matplotlib\\mpl-data\\matplotlibrc\n"
     ]
    }
   ],
   "source": [
    "print ('설정파일 위치: ', mpl.matplotlib_fname())"
   ]
  },
  {
   "cell_type": "code",
   "execution_count": 2,
   "metadata": {},
   "outputs": [],
   "source": [
    "crm = pd.read_csv(\"C:/L1K4\\모델링/data/crm3_final.csv\", index_col=0)"
   ]
  },
  {
   "cell_type": "code",
   "execution_count": 3,
   "metadata": {
    "collapsed": true
   },
   "outputs": [
    {
     "data": {
      "text/html": [
       "<div>\n",
       "<style scoped>\n",
       "    .dataframe tbody tr th:only-of-type {\n",
       "        vertical-align: middle;\n",
       "    }\n",
       "\n",
       "    .dataframe tbody tr th {\n",
       "        vertical-align: top;\n",
       "    }\n",
       "\n",
       "    .dataframe thead th {\n",
       "        text-align: right;\n",
       "    }\n",
       "</style>\n",
       "<table border=\"1\" class=\"dataframe\">\n",
       "  <thead>\n",
       "    <tr style=\"text-align: right;\">\n",
       "      <th></th>\n",
       "      <th>나이</th>\n",
       "      <th>성별</th>\n",
       "      <th>건성</th>\n",
       "      <th>지성</th>\n",
       "      <th>모름</th>\n",
       "      <th>건조함</th>\n",
       "      <th>과잉피지</th>\n",
       "      <th>여드름</th>\n",
       "      <th>좁쌀</th>\n",
       "      <th>홍조&amp;예민</th>\n",
       "      <th>복합성</th>\n",
       "      <th>기미&amp;잡티</th>\n",
       "      <th>미백앰플</th>\n",
       "      <th>수분라이트</th>\n",
       "      <th>수분앰플</th>\n",
       "      <th>쑥앰플</th>\n",
       "      <th>진정앰플</th>\n",
       "    </tr>\n",
       "  </thead>\n",
       "  <tbody>\n",
       "    <tr>\n",
       "      <th>0</th>\n",
       "      <td>3.0</td>\n",
       "      <td>0</td>\n",
       "      <td>1</td>\n",
       "      <td>0</td>\n",
       "      <td>0</td>\n",
       "      <td>1</td>\n",
       "      <td>0</td>\n",
       "      <td>0</td>\n",
       "      <td>1</td>\n",
       "      <td>0</td>\n",
       "      <td>0</td>\n",
       "      <td>0</td>\n",
       "      <td>0</td>\n",
       "      <td>0</td>\n",
       "      <td>1</td>\n",
       "      <td>0</td>\n",
       "      <td>0</td>\n",
       "    </tr>\n",
       "    <tr>\n",
       "      <th>1</th>\n",
       "      <td>3.0</td>\n",
       "      <td>0</td>\n",
       "      <td>0</td>\n",
       "      <td>0</td>\n",
       "      <td>0</td>\n",
       "      <td>0</td>\n",
       "      <td>1</td>\n",
       "      <td>0</td>\n",
       "      <td>1</td>\n",
       "      <td>0</td>\n",
       "      <td>1</td>\n",
       "      <td>0</td>\n",
       "      <td>0</td>\n",
       "      <td>0</td>\n",
       "      <td>0</td>\n",
       "      <td>0</td>\n",
       "      <td>1</td>\n",
       "    </tr>\n",
       "    <tr>\n",
       "      <th>2</th>\n",
       "      <td>4.0</td>\n",
       "      <td>0</td>\n",
       "      <td>0</td>\n",
       "      <td>0</td>\n",
       "      <td>0</td>\n",
       "      <td>0</td>\n",
       "      <td>0</td>\n",
       "      <td>0</td>\n",
       "      <td>1</td>\n",
       "      <td>0</td>\n",
       "      <td>1</td>\n",
       "      <td>1</td>\n",
       "      <td>0</td>\n",
       "      <td>0</td>\n",
       "      <td>0</td>\n",
       "      <td>0</td>\n",
       "      <td>1</td>\n",
       "    </tr>\n",
       "    <tr>\n",
       "      <th>3</th>\n",
       "      <td>1.0</td>\n",
       "      <td>0</td>\n",
       "      <td>0</td>\n",
       "      <td>0</td>\n",
       "      <td>0</td>\n",
       "      <td>1</td>\n",
       "      <td>0</td>\n",
       "      <td>1</td>\n",
       "      <td>1</td>\n",
       "      <td>1</td>\n",
       "      <td>1</td>\n",
       "      <td>1</td>\n",
       "      <td>0</td>\n",
       "      <td>0</td>\n",
       "      <td>0</td>\n",
       "      <td>0</td>\n",
       "      <td>1</td>\n",
       "    </tr>\n",
       "    <tr>\n",
       "      <th>4</th>\n",
       "      <td>1.0</td>\n",
       "      <td>0</td>\n",
       "      <td>0</td>\n",
       "      <td>1</td>\n",
       "      <td>0</td>\n",
       "      <td>0</td>\n",
       "      <td>1</td>\n",
       "      <td>0</td>\n",
       "      <td>1</td>\n",
       "      <td>0</td>\n",
       "      <td>0</td>\n",
       "      <td>0</td>\n",
       "      <td>0</td>\n",
       "      <td>0</td>\n",
       "      <td>0</td>\n",
       "      <td>0</td>\n",
       "      <td>1</td>\n",
       "    </tr>\n",
       "    <tr>\n",
       "      <th>...</th>\n",
       "      <td>...</td>\n",
       "      <td>...</td>\n",
       "      <td>...</td>\n",
       "      <td>...</td>\n",
       "      <td>...</td>\n",
       "      <td>...</td>\n",
       "      <td>...</td>\n",
       "      <td>...</td>\n",
       "      <td>...</td>\n",
       "      <td>...</td>\n",
       "      <td>...</td>\n",
       "      <td>...</td>\n",
       "      <td>...</td>\n",
       "      <td>...</td>\n",
       "      <td>...</td>\n",
       "      <td>...</td>\n",
       "      <td>...</td>\n",
       "    </tr>\n",
       "    <tr>\n",
       "      <th>3967</th>\n",
       "      <td>3.0</td>\n",
       "      <td>1</td>\n",
       "      <td>0</td>\n",
       "      <td>0</td>\n",
       "      <td>0</td>\n",
       "      <td>0</td>\n",
       "      <td>0</td>\n",
       "      <td>1</td>\n",
       "      <td>0</td>\n",
       "      <td>0</td>\n",
       "      <td>1</td>\n",
       "      <td>0</td>\n",
       "      <td>0</td>\n",
       "      <td>0</td>\n",
       "      <td>1</td>\n",
       "      <td>0</td>\n",
       "      <td>0</td>\n",
       "    </tr>\n",
       "    <tr>\n",
       "      <th>3968</th>\n",
       "      <td>8.0</td>\n",
       "      <td>0</td>\n",
       "      <td>0</td>\n",
       "      <td>0</td>\n",
       "      <td>0</td>\n",
       "      <td>0</td>\n",
       "      <td>1</td>\n",
       "      <td>1</td>\n",
       "      <td>0</td>\n",
       "      <td>0</td>\n",
       "      <td>1</td>\n",
       "      <td>1</td>\n",
       "      <td>0</td>\n",
       "      <td>0</td>\n",
       "      <td>0</td>\n",
       "      <td>0</td>\n",
       "      <td>1</td>\n",
       "    </tr>\n",
       "    <tr>\n",
       "      <th>3969</th>\n",
       "      <td>3.0</td>\n",
       "      <td>0</td>\n",
       "      <td>0</td>\n",
       "      <td>1</td>\n",
       "      <td>0</td>\n",
       "      <td>0</td>\n",
       "      <td>0</td>\n",
       "      <td>1</td>\n",
       "      <td>1</td>\n",
       "      <td>1</td>\n",
       "      <td>0</td>\n",
       "      <td>0</td>\n",
       "      <td>0</td>\n",
       "      <td>0</td>\n",
       "      <td>0</td>\n",
       "      <td>0</td>\n",
       "      <td>1</td>\n",
       "    </tr>\n",
       "    <tr>\n",
       "      <th>3970</th>\n",
       "      <td>2.0</td>\n",
       "      <td>0</td>\n",
       "      <td>1</td>\n",
       "      <td>0</td>\n",
       "      <td>0</td>\n",
       "      <td>0</td>\n",
       "      <td>0</td>\n",
       "      <td>0</td>\n",
       "      <td>1</td>\n",
       "      <td>1</td>\n",
       "      <td>0</td>\n",
       "      <td>0</td>\n",
       "      <td>0</td>\n",
       "      <td>0</td>\n",
       "      <td>0</td>\n",
       "      <td>0</td>\n",
       "      <td>1</td>\n",
       "    </tr>\n",
       "    <tr>\n",
       "      <th>3971</th>\n",
       "      <td>2.0</td>\n",
       "      <td>0</td>\n",
       "      <td>0</td>\n",
       "      <td>0</td>\n",
       "      <td>0</td>\n",
       "      <td>1</td>\n",
       "      <td>0</td>\n",
       "      <td>0</td>\n",
       "      <td>0</td>\n",
       "      <td>1</td>\n",
       "      <td>1</td>\n",
       "      <td>1</td>\n",
       "      <td>0</td>\n",
       "      <td>0</td>\n",
       "      <td>0</td>\n",
       "      <td>0</td>\n",
       "      <td>1</td>\n",
       "    </tr>\n",
       "  </tbody>\n",
       "</table>\n",
       "<p>3972 rows × 17 columns</p>\n",
       "</div>"
      ],
      "text/plain": [
       "       나이  성별  건성  지성  모름  건조함  과잉피지  여드름  좁쌀  홍조&예민  복합성  기미&잡티  미백앰플  수분라이트  \\\n",
       "0     3.0   0   1   0   0    1     0    0   1      0    0      0     0      0   \n",
       "1     3.0   0   0   0   0    0     1    0   1      0    1      0     0      0   \n",
       "2     4.0   0   0   0   0    0     0    0   1      0    1      1     0      0   \n",
       "3     1.0   0   0   0   0    1     0    1   1      1    1      1     0      0   \n",
       "4     1.0   0   0   1   0    0     1    0   1      0    0      0     0      0   \n",
       "...   ...  ..  ..  ..  ..  ...   ...  ...  ..    ...  ...    ...   ...    ...   \n",
       "3967  3.0   1   0   0   0    0     0    1   0      0    1      0     0      0   \n",
       "3968  8.0   0   0   0   0    0     1    1   0      0    1      1     0      0   \n",
       "3969  3.0   0   0   1   0    0     0    1   1      1    0      0     0      0   \n",
       "3970  2.0   0   1   0   0    0     0    0   1      1    0      0     0      0   \n",
       "3971  2.0   0   0   0   0    1     0    0   0      1    1      1     0      0   \n",
       "\n",
       "      수분앰플  쑥앰플  진정앰플  \n",
       "0        1    0     0  \n",
       "1        0    0     1  \n",
       "2        0    0     1  \n",
       "3        0    0     1  \n",
       "4        0    0     1  \n",
       "...    ...  ...   ...  \n",
       "3967     1    0     0  \n",
       "3968     0    0     1  \n",
       "3969     0    0     1  \n",
       "3970     0    0     1  \n",
       "3971     0    0     1  \n",
       "\n",
       "[3972 rows x 17 columns]"
      ]
     },
     "execution_count": 3,
     "metadata": {},
     "output_type": "execute_result"
    }
   ],
   "source": [
    "crm"
   ]
  },
  {
   "cell_type": "markdown",
   "metadata": {},
   "source": [
    "### 나이별 특성정리"
   ]
  },
  {
   "cell_type": "code",
   "execution_count": 232,
   "metadata": {},
   "outputs": [],
   "source": [
    "crm_age = crm.groupby(\"나이\",as_index=False).sum()"
   ]
  },
  {
   "cell_type": "code",
   "execution_count": 233,
   "metadata": {},
   "outputs": [],
   "source": [
    "crm_age = crm_age.drop(\"성별\", axis=1)"
   ]
  },
  {
   "cell_type": "code",
   "execution_count": 234,
   "metadata": {
    "collapsed": true
   },
   "outputs": [
    {
     "name": "stdout",
     "output_type": "stream",
     "text": [
      "<class 'pandas.core.frame.DataFrame'>\n",
      "Int64Index: 9 entries, 0 to 8\n",
      "Data columns (total 16 columns):\n",
      " #   Column  Non-Null Count  Dtype  \n",
      "---  ------  --------------  -----  \n",
      " 0   나이      9 non-null      float64\n",
      " 1   건성      9 non-null      int64  \n",
      " 2   지성      9 non-null      int64  \n",
      " 3   모름      9 non-null      int64  \n",
      " 4   건조함     9 non-null      int64  \n",
      " 5   과잉피지    9 non-null      int64  \n",
      " 6   여드름     9 non-null      int64  \n",
      " 7   좁쌀      9 non-null      int64  \n",
      " 8   홍조&예민   9 non-null      int64  \n",
      " 9   복합성     9 non-null      int64  \n",
      " 10  기미&잡티   9 non-null      int64  \n",
      " 11  미백앰플    9 non-null      int64  \n",
      " 12  수분라이트   9 non-null      int64  \n",
      " 13  수분앰플    9 non-null      int64  \n",
      " 14  쑥앰플     9 non-null      int64  \n",
      " 15  진정앰플    9 non-null      int64  \n",
      "dtypes: float64(1), int64(15)\n",
      "memory usage: 1.2 KB\n"
     ]
    }
   ],
   "source": [
    "crm_age.info()"
   ]
  },
  {
   "cell_type": "code",
   "execution_count": 235,
   "metadata": {
    "collapsed": true
   },
   "outputs": [
    {
     "data": {
      "text/html": [
       "<div>\n",
       "<style scoped>\n",
       "    .dataframe tbody tr th:only-of-type {\n",
       "        vertical-align: middle;\n",
       "    }\n",
       "\n",
       "    .dataframe tbody tr th {\n",
       "        vertical-align: top;\n",
       "    }\n",
       "\n",
       "    .dataframe thead th {\n",
       "        text-align: right;\n",
       "    }\n",
       "</style>\n",
       "<table border=\"1\" class=\"dataframe\">\n",
       "  <thead>\n",
       "    <tr style=\"text-align: right;\">\n",
       "      <th></th>\n",
       "      <th>나이</th>\n",
       "      <th>건성</th>\n",
       "      <th>지성</th>\n",
       "      <th>모름</th>\n",
       "      <th>건조함</th>\n",
       "      <th>과잉피지</th>\n",
       "      <th>여드름</th>\n",
       "      <th>좁쌀</th>\n",
       "      <th>홍조&amp;예민</th>\n",
       "      <th>복합성</th>\n",
       "      <th>기미&amp;잡티</th>\n",
       "      <th>미백앰플</th>\n",
       "      <th>수분라이트</th>\n",
       "      <th>수분앰플</th>\n",
       "      <th>쑥앰플</th>\n",
       "      <th>진정앰플</th>\n",
       "    </tr>\n",
       "  </thead>\n",
       "  <tbody>\n",
       "    <tr>\n",
       "      <th>0</th>\n",
       "      <td>0.0</td>\n",
       "      <td>3</td>\n",
       "      <td>3</td>\n",
       "      <td>2</td>\n",
       "      <td>6</td>\n",
       "      <td>3</td>\n",
       "      <td>7</td>\n",
       "      <td>4</td>\n",
       "      <td>2</td>\n",
       "      <td>6</td>\n",
       "      <td>2</td>\n",
       "      <td>1</td>\n",
       "      <td>0</td>\n",
       "      <td>1</td>\n",
       "      <td>0</td>\n",
       "      <td>12</td>\n",
       "    </tr>\n",
       "    <tr>\n",
       "      <th>1</th>\n",
       "      <td>1.0</td>\n",
       "      <td>29</td>\n",
       "      <td>19</td>\n",
       "      <td>13</td>\n",
       "      <td>57</td>\n",
       "      <td>43</td>\n",
       "      <td>79</td>\n",
       "      <td>80</td>\n",
       "      <td>51</td>\n",
       "      <td>68</td>\n",
       "      <td>26</td>\n",
       "      <td>4</td>\n",
       "      <td>0</td>\n",
       "      <td>18</td>\n",
       "      <td>1</td>\n",
       "      <td>106</td>\n",
       "    </tr>\n",
       "    <tr>\n",
       "      <th>2</th>\n",
       "      <td>2.0</td>\n",
       "      <td>163</td>\n",
       "      <td>88</td>\n",
       "      <td>42</td>\n",
       "      <td>344</td>\n",
       "      <td>249</td>\n",
       "      <td>339</td>\n",
       "      <td>397</td>\n",
       "      <td>299</td>\n",
       "      <td>386</td>\n",
       "      <td>197</td>\n",
       "      <td>11</td>\n",
       "      <td>1</td>\n",
       "      <td>115</td>\n",
       "      <td>15</td>\n",
       "      <td>537</td>\n",
       "    </tr>\n",
       "    <tr>\n",
       "      <th>3</th>\n",
       "      <td>3.0</td>\n",
       "      <td>258</td>\n",
       "      <td>99</td>\n",
       "      <td>69</td>\n",
       "      <td>592</td>\n",
       "      <td>382</td>\n",
       "      <td>362</td>\n",
       "      <td>487</td>\n",
       "      <td>445</td>\n",
       "      <td>623</td>\n",
       "      <td>390</td>\n",
       "      <td>35</td>\n",
       "      <td>4</td>\n",
       "      <td>158</td>\n",
       "      <td>36</td>\n",
       "      <td>816</td>\n",
       "    </tr>\n",
       "    <tr>\n",
       "      <th>4</th>\n",
       "      <td>4.0</td>\n",
       "      <td>276</td>\n",
       "      <td>74</td>\n",
       "      <td>41</td>\n",
       "      <td>566</td>\n",
       "      <td>298</td>\n",
       "      <td>206</td>\n",
       "      <td>377</td>\n",
       "      <td>372</td>\n",
       "      <td>601</td>\n",
       "      <td>471</td>\n",
       "      <td>53</td>\n",
       "      <td>3</td>\n",
       "      <td>198</td>\n",
       "      <td>26</td>\n",
       "      <td>712</td>\n",
       "    </tr>\n",
       "    <tr>\n",
       "      <th>5</th>\n",
       "      <td>5.0</td>\n",
       "      <td>218</td>\n",
       "      <td>36</td>\n",
       "      <td>21</td>\n",
       "      <td>409</td>\n",
       "      <td>143</td>\n",
       "      <td>107</td>\n",
       "      <td>158</td>\n",
       "      <td>220</td>\n",
       "      <td>399</td>\n",
       "      <td>381</td>\n",
       "      <td>62</td>\n",
       "      <td>8</td>\n",
       "      <td>141</td>\n",
       "      <td>18</td>\n",
       "      <td>445</td>\n",
       "    </tr>\n",
       "    <tr>\n",
       "      <th>6</th>\n",
       "      <td>6.0</td>\n",
       "      <td>72</td>\n",
       "      <td>14</td>\n",
       "      <td>6</td>\n",
       "      <td>121</td>\n",
       "      <td>31</td>\n",
       "      <td>28</td>\n",
       "      <td>38</td>\n",
       "      <td>70</td>\n",
       "      <td>114</td>\n",
       "      <td>118</td>\n",
       "      <td>29</td>\n",
       "      <td>0</td>\n",
       "      <td>48</td>\n",
       "      <td>5</td>\n",
       "      <td>124</td>\n",
       "    </tr>\n",
       "    <tr>\n",
       "      <th>7</th>\n",
       "      <td>7.0</td>\n",
       "      <td>25</td>\n",
       "      <td>8</td>\n",
       "      <td>5</td>\n",
       "      <td>41</td>\n",
       "      <td>10</td>\n",
       "      <td>15</td>\n",
       "      <td>20</td>\n",
       "      <td>27</td>\n",
       "      <td>41</td>\n",
       "      <td>47</td>\n",
       "      <td>9</td>\n",
       "      <td>0</td>\n",
       "      <td>7</td>\n",
       "      <td>4</td>\n",
       "      <td>59</td>\n",
       "    </tr>\n",
       "    <tr>\n",
       "      <th>8</th>\n",
       "      <td>8.0</td>\n",
       "      <td>71</td>\n",
       "      <td>8</td>\n",
       "      <td>6</td>\n",
       "      <td>92</td>\n",
       "      <td>28</td>\n",
       "      <td>23</td>\n",
       "      <td>36</td>\n",
       "      <td>36</td>\n",
       "      <td>65</td>\n",
       "      <td>71</td>\n",
       "      <td>9</td>\n",
       "      <td>0</td>\n",
       "      <td>29</td>\n",
       "      <td>4</td>\n",
       "      <td>108</td>\n",
       "    </tr>\n",
       "  </tbody>\n",
       "</table>\n",
       "</div>"
      ],
      "text/plain": [
       "    나이   건성  지성  모름  건조함  과잉피지  여드름   좁쌀  홍조&예민  복합성  기미&잡티  미백앰플  수분라이트  \\\n",
       "0  0.0    3   3   2    6     3    7    4      2    6      2     1      0   \n",
       "1  1.0   29  19  13   57    43   79   80     51   68     26     4      0   \n",
       "2  2.0  163  88  42  344   249  339  397    299  386    197    11      1   \n",
       "3  3.0  258  99  69  592   382  362  487    445  623    390    35      4   \n",
       "4  4.0  276  74  41  566   298  206  377    372  601    471    53      3   \n",
       "5  5.0  218  36  21  409   143  107  158    220  399    381    62      8   \n",
       "6  6.0   72  14   6  121    31   28   38     70  114    118    29      0   \n",
       "7  7.0   25   8   5   41    10   15   20     27   41     47     9      0   \n",
       "8  8.0   71   8   6   92    28   23   36     36   65     71     9      0   \n",
       "\n",
       "   수분앰플  쑥앰플  진정앰플  \n",
       "0     1    0    12  \n",
       "1    18    1   106  \n",
       "2   115   15   537  \n",
       "3   158   36   816  \n",
       "4   198   26   712  \n",
       "5   141   18   445  \n",
       "6    48    5   124  \n",
       "7     7    4    59  \n",
       "8    29    4   108  "
      ]
     },
     "execution_count": 235,
     "metadata": {},
     "output_type": "execute_result"
    }
   ],
   "source": [
    "crm_age"
   ]
  },
  {
   "cell_type": "code",
   "execution_count": 236,
   "metadata": {},
   "outputs": [],
   "source": [
    "crm_age[\"앰플구매\"] = crm_age[\"미백앰플\"] + crm_age[\"수분앰플\"] + crm_age[\"쑥앰플\"] + crm_age[\"진정앰플\"]"
   ]
  },
  {
   "cell_type": "code",
   "execution_count": 237,
   "metadata": {
    "collapsed": true
   },
   "outputs": [
    {
     "data": {
      "text/html": [
       "<div>\n",
       "<style scoped>\n",
       "    .dataframe tbody tr th:only-of-type {\n",
       "        vertical-align: middle;\n",
       "    }\n",
       "\n",
       "    .dataframe tbody tr th {\n",
       "        vertical-align: top;\n",
       "    }\n",
       "\n",
       "    .dataframe thead th {\n",
       "        text-align: right;\n",
       "    }\n",
       "</style>\n",
       "<table border=\"1\" class=\"dataframe\">\n",
       "  <thead>\n",
       "    <tr style=\"text-align: right;\">\n",
       "      <th></th>\n",
       "      <th>나이</th>\n",
       "      <th>건성</th>\n",
       "      <th>지성</th>\n",
       "      <th>모름</th>\n",
       "      <th>건조함</th>\n",
       "      <th>과잉피지</th>\n",
       "      <th>여드름</th>\n",
       "      <th>좁쌀</th>\n",
       "      <th>홍조&amp;예민</th>\n",
       "      <th>복합성</th>\n",
       "      <th>기미&amp;잡티</th>\n",
       "      <th>미백앰플</th>\n",
       "      <th>수분라이트</th>\n",
       "      <th>수분앰플</th>\n",
       "      <th>쑥앰플</th>\n",
       "      <th>진정앰플</th>\n",
       "      <th>앰플구매</th>\n",
       "    </tr>\n",
       "  </thead>\n",
       "  <tbody>\n",
       "    <tr>\n",
       "      <th>0</th>\n",
       "      <td>0.0</td>\n",
       "      <td>3</td>\n",
       "      <td>3</td>\n",
       "      <td>2</td>\n",
       "      <td>6</td>\n",
       "      <td>3</td>\n",
       "      <td>7</td>\n",
       "      <td>4</td>\n",
       "      <td>2</td>\n",
       "      <td>6</td>\n",
       "      <td>2</td>\n",
       "      <td>1</td>\n",
       "      <td>0</td>\n",
       "      <td>1</td>\n",
       "      <td>0</td>\n",
       "      <td>12</td>\n",
       "      <td>14</td>\n",
       "    </tr>\n",
       "    <tr>\n",
       "      <th>1</th>\n",
       "      <td>1.0</td>\n",
       "      <td>29</td>\n",
       "      <td>19</td>\n",
       "      <td>13</td>\n",
       "      <td>57</td>\n",
       "      <td>43</td>\n",
       "      <td>79</td>\n",
       "      <td>80</td>\n",
       "      <td>51</td>\n",
       "      <td>68</td>\n",
       "      <td>26</td>\n",
       "      <td>4</td>\n",
       "      <td>0</td>\n",
       "      <td>18</td>\n",
       "      <td>1</td>\n",
       "      <td>106</td>\n",
       "      <td>129</td>\n",
       "    </tr>\n",
       "    <tr>\n",
       "      <th>2</th>\n",
       "      <td>2.0</td>\n",
       "      <td>163</td>\n",
       "      <td>88</td>\n",
       "      <td>42</td>\n",
       "      <td>344</td>\n",
       "      <td>249</td>\n",
       "      <td>339</td>\n",
       "      <td>397</td>\n",
       "      <td>299</td>\n",
       "      <td>386</td>\n",
       "      <td>197</td>\n",
       "      <td>11</td>\n",
       "      <td>1</td>\n",
       "      <td>115</td>\n",
       "      <td>15</td>\n",
       "      <td>537</td>\n",
       "      <td>678</td>\n",
       "    </tr>\n",
       "    <tr>\n",
       "      <th>3</th>\n",
       "      <td>3.0</td>\n",
       "      <td>258</td>\n",
       "      <td>99</td>\n",
       "      <td>69</td>\n",
       "      <td>592</td>\n",
       "      <td>382</td>\n",
       "      <td>362</td>\n",
       "      <td>487</td>\n",
       "      <td>445</td>\n",
       "      <td>623</td>\n",
       "      <td>390</td>\n",
       "      <td>35</td>\n",
       "      <td>4</td>\n",
       "      <td>158</td>\n",
       "      <td>36</td>\n",
       "      <td>816</td>\n",
       "      <td>1045</td>\n",
       "    </tr>\n",
       "    <tr>\n",
       "      <th>4</th>\n",
       "      <td>4.0</td>\n",
       "      <td>276</td>\n",
       "      <td>74</td>\n",
       "      <td>41</td>\n",
       "      <td>566</td>\n",
       "      <td>298</td>\n",
       "      <td>206</td>\n",
       "      <td>377</td>\n",
       "      <td>372</td>\n",
       "      <td>601</td>\n",
       "      <td>471</td>\n",
       "      <td>53</td>\n",
       "      <td>3</td>\n",
       "      <td>198</td>\n",
       "      <td>26</td>\n",
       "      <td>712</td>\n",
       "      <td>989</td>\n",
       "    </tr>\n",
       "    <tr>\n",
       "      <th>5</th>\n",
       "      <td>5.0</td>\n",
       "      <td>218</td>\n",
       "      <td>36</td>\n",
       "      <td>21</td>\n",
       "      <td>409</td>\n",
       "      <td>143</td>\n",
       "      <td>107</td>\n",
       "      <td>158</td>\n",
       "      <td>220</td>\n",
       "      <td>399</td>\n",
       "      <td>381</td>\n",
       "      <td>62</td>\n",
       "      <td>8</td>\n",
       "      <td>141</td>\n",
       "      <td>18</td>\n",
       "      <td>445</td>\n",
       "      <td>666</td>\n",
       "    </tr>\n",
       "    <tr>\n",
       "      <th>6</th>\n",
       "      <td>6.0</td>\n",
       "      <td>72</td>\n",
       "      <td>14</td>\n",
       "      <td>6</td>\n",
       "      <td>121</td>\n",
       "      <td>31</td>\n",
       "      <td>28</td>\n",
       "      <td>38</td>\n",
       "      <td>70</td>\n",
       "      <td>114</td>\n",
       "      <td>118</td>\n",
       "      <td>29</td>\n",
       "      <td>0</td>\n",
       "      <td>48</td>\n",
       "      <td>5</td>\n",
       "      <td>124</td>\n",
       "      <td>206</td>\n",
       "    </tr>\n",
       "    <tr>\n",
       "      <th>7</th>\n",
       "      <td>7.0</td>\n",
       "      <td>25</td>\n",
       "      <td>8</td>\n",
       "      <td>5</td>\n",
       "      <td>41</td>\n",
       "      <td>10</td>\n",
       "      <td>15</td>\n",
       "      <td>20</td>\n",
       "      <td>27</td>\n",
       "      <td>41</td>\n",
       "      <td>47</td>\n",
       "      <td>9</td>\n",
       "      <td>0</td>\n",
       "      <td>7</td>\n",
       "      <td>4</td>\n",
       "      <td>59</td>\n",
       "      <td>79</td>\n",
       "    </tr>\n",
       "    <tr>\n",
       "      <th>8</th>\n",
       "      <td>8.0</td>\n",
       "      <td>71</td>\n",
       "      <td>8</td>\n",
       "      <td>6</td>\n",
       "      <td>92</td>\n",
       "      <td>28</td>\n",
       "      <td>23</td>\n",
       "      <td>36</td>\n",
       "      <td>36</td>\n",
       "      <td>65</td>\n",
       "      <td>71</td>\n",
       "      <td>9</td>\n",
       "      <td>0</td>\n",
       "      <td>29</td>\n",
       "      <td>4</td>\n",
       "      <td>108</td>\n",
       "      <td>150</td>\n",
       "    </tr>\n",
       "  </tbody>\n",
       "</table>\n",
       "</div>"
      ],
      "text/plain": [
       "    나이   건성  지성  모름  건조함  과잉피지  여드름   좁쌀  홍조&예민  복합성  기미&잡티  미백앰플  수분라이트  \\\n",
       "0  0.0    3   3   2    6     3    7    4      2    6      2     1      0   \n",
       "1  1.0   29  19  13   57    43   79   80     51   68     26     4      0   \n",
       "2  2.0  163  88  42  344   249  339  397    299  386    197    11      1   \n",
       "3  3.0  258  99  69  592   382  362  487    445  623    390    35      4   \n",
       "4  4.0  276  74  41  566   298  206  377    372  601    471    53      3   \n",
       "5  5.0  218  36  21  409   143  107  158    220  399    381    62      8   \n",
       "6  6.0   72  14   6  121    31   28   38     70  114    118    29      0   \n",
       "7  7.0   25   8   5   41    10   15   20     27   41     47     9      0   \n",
       "8  8.0   71   8   6   92    28   23   36     36   65     71     9      0   \n",
       "\n",
       "   수분앰플  쑥앰플  진정앰플  앰플구매  \n",
       "0     1    0    12    14  \n",
       "1    18    1   106   129  \n",
       "2   115   15   537   678  \n",
       "3   158   36   816  1045  \n",
       "4   198   26   712   989  \n",
       "5   141   18   445   666  \n",
       "6    48    5   124   206  \n",
       "7     7    4    59    79  \n",
       "8    29    4   108   150  "
      ]
     },
     "execution_count": 237,
     "metadata": {},
     "output_type": "execute_result"
    }
   ],
   "source": [
    "crm_age"
   ]
  },
  {
   "cell_type": "code",
   "execution_count": 238,
   "metadata": {},
   "outputs": [],
   "source": [
    "crm_age = crm_age.astype(\"int64\")"
   ]
  },
  {
   "cell_type": "code",
   "execution_count": 243,
   "metadata": {},
   "outputs": [],
   "source": [
    "# 10대이하는 삭제\n",
    "crm_age = crm_age.drop(index=0)"
   ]
  },
  {
   "cell_type": "code",
   "execution_count": 244,
   "metadata": {},
   "outputs": [
    {
     "data": {
      "text/plain": [
       "Text(0.5, 1.0, '나이별 앰플 구입수')"
      ]
     },
     "execution_count": 244,
     "metadata": {},
     "output_type": "execute_result"
    },
    {
     "data": {
      "image/png": "[encoded data removed]",
      "text/plain": [
       "<Figure size 720x288 with 1 Axes>"
      ]
     },
     "metadata": {
      "needs_background": "light"
     },
     "output_type": "display_data"
    }
   ],
   "source": [
    "plt.figure(figsize=(10, 4))\n",
    "ax = sns.barplot(x=crm_age.index, y=\"앰플구매\", data=crm_age, palette=\"tab10\")\n",
    "plt.rcParams['font.family'] = 'Malgun Gothic'\n",
    "plt.title(\"나이별 앰플 구입수\")"
   ]
  },
  {
   "cell_type": "markdown",
   "metadata": {},
   "source": [
    "### 피부고민 별 앰플 구매 수"
   ]
  },
  {
   "cell_type": "code",
   "execution_count": 133,
   "metadata": {},
   "outputs": [],
   "source": [
    "crm_problem1 = crm.groupby(\"건조함\").sum()"
   ]
  },
  {
   "cell_type": "code",
   "execution_count": 134,
   "metadata": {
    "collapsed": true
   },
   "outputs": [
    {
     "data": {
      "text/html": [
       "<div>\n",
       "<style scoped>\n",
       "    .dataframe tbody tr th:only-of-type {\n",
       "        vertical-align: middle;\n",
       "    }\n",
       "\n",
       "    .dataframe tbody tr th {\n",
       "        vertical-align: top;\n",
       "    }\n",
       "\n",
       "    .dataframe thead th {\n",
       "        text-align: right;\n",
       "    }\n",
       "</style>\n",
       "<table border=\"1\" class=\"dataframe\">\n",
       "  <thead>\n",
       "    <tr style=\"text-align: right;\">\n",
       "      <th></th>\n",
       "      <th>나이</th>\n",
       "      <th>성별</th>\n",
       "      <th>건성</th>\n",
       "      <th>지성</th>\n",
       "      <th>모름</th>\n",
       "      <th>과잉피지</th>\n",
       "      <th>여드름</th>\n",
       "      <th>좁쌀</th>\n",
       "      <th>홍조&amp;예민</th>\n",
       "      <th>복합성</th>\n",
       "      <th>기미&amp;잡티</th>\n",
       "      <th>미백앰플</th>\n",
       "      <th>수분라이트</th>\n",
       "      <th>수분앰플</th>\n",
       "      <th>쑥앰플</th>\n",
       "      <th>진정앰플</th>\n",
       "    </tr>\n",
       "    <tr>\n",
       "      <th>건조함</th>\n",
       "      <th></th>\n",
       "      <th></th>\n",
       "      <th></th>\n",
       "      <th></th>\n",
       "      <th></th>\n",
       "      <th></th>\n",
       "      <th></th>\n",
       "      <th></th>\n",
       "      <th></th>\n",
       "      <th></th>\n",
       "      <th></th>\n",
       "      <th></th>\n",
       "      <th></th>\n",
       "      <th></th>\n",
       "      <th></th>\n",
       "      <th></th>\n",
       "    </tr>\n",
       "  </thead>\n",
       "  <tbody>\n",
       "    <tr>\n",
       "      <th>0</th>\n",
       "      <td>6382.0</td>\n",
       "      <td>159</td>\n",
       "      <td>165</td>\n",
       "      <td>283</td>\n",
       "      <td>97</td>\n",
       "      <td>635</td>\n",
       "      <td>628</td>\n",
       "      <td>752</td>\n",
       "      <td>650</td>\n",
       "      <td>1199</td>\n",
       "      <td>706</td>\n",
       "      <td>86</td>\n",
       "      <td>5</td>\n",
       "      <td>270</td>\n",
       "      <td>56</td>\n",
       "      <td>1327</td>\n",
       "    </tr>\n",
       "    <tr>\n",
       "      <th>1</th>\n",
       "      <td>8579.0</td>\n",
       "      <td>129</td>\n",
       "      <td>950</td>\n",
       "      <td>66</td>\n",
       "      <td>108</td>\n",
       "      <td>552</td>\n",
       "      <td>538</td>\n",
       "      <td>845</td>\n",
       "      <td>872</td>\n",
       "      <td>1104</td>\n",
       "      <td>997</td>\n",
       "      <td>127</td>\n",
       "      <td>11</td>\n",
       "      <td>445</td>\n",
       "      <td>53</td>\n",
       "      <td>1592</td>\n",
       "    </tr>\n",
       "  </tbody>\n",
       "</table>\n",
       "</div>"
      ],
      "text/plain": [
       "         나이   성별   건성   지성   모름  과잉피지  여드름   좁쌀  홍조&예민   복합성  기미&잡티  미백앰플  \\\n",
       "건조함                                                                         \n",
       "0    6382.0  159  165  283   97   635  628  752    650  1199    706    86   \n",
       "1    8579.0  129  950   66  108   552  538  845    872  1104    997   127   \n",
       "\n",
       "     수분라이트  수분앰플  쑥앰플  진정앰플  \n",
       "건조함                          \n",
       "0        5   270   56  1327  \n",
       "1       11   445   53  1592  "
      ]
     },
     "execution_count": 134,
     "metadata": {},
     "output_type": "execute_result"
    }
   ],
   "source": [
    "crm_problem1"
   ]
  },
  {
   "cell_type": "code",
   "execution_count": 145,
   "metadata": {},
   "outputs": [],
   "source": [
    "crm_problem1 = crm_problem1.rename(index={0:\"없음\", 1:\"있음\"})"
   ]
  },
  {
   "cell_type": "code",
   "execution_count": 151,
   "metadata": {
    "collapsed": true
   },
   "outputs": [
    {
     "data": {
      "text/plain": [
       "Text(0.5, 1.0, '건조함 여부에따른 미백앰플 구입수')"
      ]
     },
     "execution_count": 151,
     "metadata": {},
     "output_type": "execute_result"
    },
    {
     "data": {
      "image/png": "[encoded data removed]",
      "text/plain": [
       "<Figure size 576x432 with 1 Axes>"
      ]
     },
     "metadata": {
      "needs_background": "light"
     },
     "output_type": "display_data"
    }
   ],
   "source": [
    "plt.figure(figsize=(8, 6))\n",
    "ax = sns.barplot(x=crm_problem1.index, y=\"미백앰플\", data=crm_problem1, palette=\"tab10\")\n",
    "plt.rcParams['font.family'] = 'Malgun Gothic'\n",
    "plt.title(\"건조함 여부에따른 미백앰플 구입수\")"
   ]
  },
  {
   "cell_type": "code",
   "execution_count": 159,
   "metadata": {},
   "outputs": [],
   "source": [
    "def problem_graph(xlabel, ylabel, title):\n",
    "    plt.figure(figsize=(8, 6))\n",
    "    ax = sns.barplot(x=xlabel.index, y=ylabel, data=xlabel, palette=\"tab10\")\n",
    "    plt.rcParams['font.family'] = 'Malgun Gothic'\n",
    "    plt.title(title)"
   ]
  },
  {
   "cell_type": "code",
   "execution_count": 160,
   "metadata": {
    "collapsed": true
   },
   "outputs": [
    {
     "data": {
      "image/png": "[encoded data removed]",
      "text/plain": [
       "<Figure size 576x432 with 1 Axes>"
      ]
     },
     "metadata": {
      "needs_background": "light"
     },
     "output_type": "display_data"
    }
   ],
   "source": [
    "problem_graph(crm_problem1, \"수분앰플\", \"건조함 여부에 따른 수분앰플 구매수\")"
   ]
  },
  {
   "cell_type": "code",
   "execution_count": 161,
   "metadata": {
    "collapsed": true
   },
   "outputs": [
    {
     "data": {
      "image/png": "[encoded data removed]",
      "text/plain": [
       "<Figure size 576x432 with 1 Axes>"
      ]
     },
     "metadata": {
      "needs_background": "light"
     },
     "output_type": "display_data"
    }
   ],
   "source": [
    "problem_graph(crm_problem1, \"쑥앰플\", \"건조함 여부에 따른 쑥앰플 구매수\")"
   ]
  },
  {
   "cell_type": "code",
   "execution_count": 162,
   "metadata": {
    "collapsed": true
   },
   "outputs": [
    {
     "data": {
      "image/png": "[encoded data removed]",
      "text/plain": [
       "<Figure size 576x432 with 1 Axes>"
      ]
     },
     "metadata": {
      "needs_background": "light"
     },
     "output_type": "display_data"
    }
   ],
   "source": [
    "problem_graph(crm_problem1, \"진정앰플\", \"건조함 여부에 따른 진정앰플 구매수\")"
   ]
  },
  {
   "cell_type": "code",
   "execution_count": 157,
   "metadata": {},
   "outputs": [],
   "source": [
    "crm_problem2 = crm.groupby(\"과잉피지\").sum()"
   ]
  },
  {
   "cell_type": "code",
   "execution_count": 158,
   "metadata": {},
   "outputs": [],
   "source": [
    "crm_problem2 = crm_problem2.rename(index={0:\"없음\", 1:\"있음\"})"
   ]
  },
  {
   "cell_type": "code",
   "execution_count": 165,
   "metadata": {
    "collapsed": true
   },
   "outputs": [
    {
     "data": {
      "text/html": [
       "<div>\n",
       "<style scoped>\n",
       "    .dataframe tbody tr th:only-of-type {\n",
       "        vertical-align: middle;\n",
       "    }\n",
       "\n",
       "    .dataframe tbody tr th {\n",
       "        vertical-align: top;\n",
       "    }\n",
       "\n",
       "    .dataframe thead th {\n",
       "        text-align: right;\n",
       "    }\n",
       "</style>\n",
       "<table border=\"1\" class=\"dataframe\">\n",
       "  <thead>\n",
       "    <tr style=\"text-align: right;\">\n",
       "      <th></th>\n",
       "      <th>나이</th>\n",
       "      <th>성별</th>\n",
       "      <th>건성</th>\n",
       "      <th>지성</th>\n",
       "      <th>모름</th>\n",
       "      <th>건조함</th>\n",
       "      <th>여드름</th>\n",
       "      <th>좁쌀</th>\n",
       "      <th>홍조&amp;예민</th>\n",
       "      <th>복합성</th>\n",
       "      <th>기미&amp;잡티</th>\n",
       "      <th>미백앰플</th>\n",
       "      <th>수분라이트</th>\n",
       "      <th>수분앰플</th>\n",
       "      <th>쑥앰플</th>\n",
       "      <th>진정앰플</th>\n",
       "    </tr>\n",
       "    <tr>\n",
       "      <th>과잉피지</th>\n",
       "      <th></th>\n",
       "      <th></th>\n",
       "      <th></th>\n",
       "      <th></th>\n",
       "      <th></th>\n",
       "      <th></th>\n",
       "      <th></th>\n",
       "      <th></th>\n",
       "      <th></th>\n",
       "      <th></th>\n",
       "      <th></th>\n",
       "      <th></th>\n",
       "      <th></th>\n",
       "      <th></th>\n",
       "      <th></th>\n",
       "      <th></th>\n",
       "    </tr>\n",
       "  </thead>\n",
       "  <tbody>\n",
       "    <tr>\n",
       "      <th>없음</th>\n",
       "      <td>10887.0</td>\n",
       "      <td>187</td>\n",
       "      <td>1018</td>\n",
       "      <td>114</td>\n",
       "      <td>152</td>\n",
       "      <td>1676</td>\n",
       "      <td>595</td>\n",
       "      <td>960</td>\n",
       "      <td>1028</td>\n",
       "      <td>1501</td>\n",
       "      <td>1232</td>\n",
       "      <td>185</td>\n",
       "      <td>13</td>\n",
       "      <td>553</td>\n",
       "      <td>70</td>\n",
       "      <td>1964</td>\n",
       "    </tr>\n",
       "    <tr>\n",
       "      <th>있음</th>\n",
       "      <td>4074.0</td>\n",
       "      <td>101</td>\n",
       "      <td>97</td>\n",
       "      <td>235</td>\n",
       "      <td>53</td>\n",
       "      <td>552</td>\n",
       "      <td>571</td>\n",
       "      <td>637</td>\n",
       "      <td>494</td>\n",
       "      <td>802</td>\n",
       "      <td>471</td>\n",
       "      <td>28</td>\n",
       "      <td>3</td>\n",
       "      <td>162</td>\n",
       "      <td>39</td>\n",
       "      <td>955</td>\n",
       "    </tr>\n",
       "  </tbody>\n",
       "</table>\n",
       "</div>"
      ],
      "text/plain": [
       "           나이   성별    건성   지성   모름   건조함  여드름   좁쌀  홍조&예민   복합성  기미&잡티  미백앰플  \\\n",
       "과잉피지                                                                           \n",
       "없음    10887.0  187  1018  114  152  1676  595  960   1028  1501   1232   185   \n",
       "있음     4074.0  101    97  235   53   552  571  637    494   802    471    28   \n",
       "\n",
       "      수분라이트  수분앰플  쑥앰플  진정앰플  \n",
       "과잉피지                          \n",
       "없음       13   553   70  1964  \n",
       "있음        3   162   39   955  "
      ]
     },
     "execution_count": 165,
     "metadata": {},
     "output_type": "execute_result"
    }
   ],
   "source": [
    "crm_problem2"
   ]
  },
  {
   "cell_type": "code",
   "execution_count": 187,
   "metadata": {
    "collapsed": true
   },
   "outputs": [
    {
     "data": {
      "image/png": "[encoded data removed]",
      "text/plain": [
       "<Figure size 576x432 with 1 Axes>"
      ]
     },
     "metadata": {
      "needs_background": "light"
     },
     "output_type": "display_data"
    }
   ],
   "source": [
    "problem_graph(crm_problem2, \"미백앰플\", \"과잉피지여부에 따른 미백앰플 구매수\")"
   ]
  },
  {
   "cell_type": "markdown",
   "metadata": {},
   "source": [
    "problem_graph(crm_problem2, \"수분앰플\", \"과잉피지여부에 따른 수분앰플 구매수\")"
   ]
  },
  {
   "cell_type": "code",
   "execution_count": 189,
   "metadata": {
    "collapsed": true
   },
   "outputs": [
    {
     "data": {
      "image/png": "[encoded data removed]",
      "text/plain": [
       "<Figure size 576x432 with 1 Axes>"
      ]
     },
     "metadata": {
      "needs_background": "light"
     },
     "output_type": "display_data"
    }
   ],
   "source": [
    "problem_graph(crm_problem2, \"쑥앰플\", \"과잉피지여부에 따른 쑥앰플 구매수\")"
   ]
  },
  {
   "cell_type": "code",
   "execution_count": 190,
   "metadata": {
    "collapsed": true
   },
   "outputs": [
    {
     "data": {
      "image/png": "[encoded data removed]",
      "text/plain": [
       "<Figure size 576x432 with 1 Axes>"
      ]
     },
     "metadata": {
      "needs_background": "light"
     },
     "output_type": "display_data"
    }
   ],
   "source": [
    "problem_graph(crm_problem2, \"진정앰플\", \"과잉피지여부에 따른 진정앰플 구매수\")"
   ]
  },
  {
   "cell_type": "markdown",
   "metadata": {},
   "source": [
    "#### 여드름"
   ]
  },
  {
   "cell_type": "code",
   "execution_count": 192,
   "metadata": {},
   "outputs": [],
   "source": [
    "crm_problem4 = crm.groupby(\"여드름\").sum()"
   ]
  },
  {
   "cell_type": "code",
   "execution_count": 194,
   "metadata": {
    "collapsed": true
   },
   "outputs": [
    {
     "data": {
      "image/png": "[encoded data removed]",
      "text/plain": [
       "<Figure size 576x432 with 1 Axes>"
      ]
     },
     "metadata": {
      "needs_background": "light"
     },
     "output_type": "display_data"
    }
   ],
   "source": [
    "problem_graph(crm_problem4, \"미백앰플\", \"여드름여부에 따른 미백앰플 구매수\")"
   ]
  },
  {
   "cell_type": "code",
   "execution_count": 195,
   "metadata": {
    "collapsed": true
   },
   "outputs": [
    {
     "data": {
      "image/png": "[encoded data removed]",
      "text/plain": [
       "<Figure size 576x432 with 1 Axes>"
      ]
     },
     "metadata": {
      "needs_background": "light"
     },
     "output_type": "display_data"
    }
   ],
   "source": [
    "problem_graph(crm_problem4, \"수분앰플\", \"여드름여부에 따른 수분앰플 구매수\")"
   ]
  },
  {
   "cell_type": "code",
   "execution_count": 196,
   "metadata": {
    "collapsed": true
   },
   "outputs": [
    {
     "data": {
      "image/png": "[encoded data removed]",
      "text/plain": [
       "<Figure size 576x432 with 1 Axes>"
      ]
     },
     "metadata": {
      "needs_background": "light"
     },
     "output_type": "display_data"
    }
   ],
   "source": [
    "problem_graph(crm_problem2, \"쑥앰플\", \"여드름여부에 따른 쑥앰플 구매수\")"
   ]
  },
  {
   "cell_type": "code",
   "execution_count": 197,
   "metadata": {
    "collapsed": true
   },
   "outputs": [
    {
     "data": {
      "image/png": "[encoded data removed]",
      "text/plain": [
       "<Figure size 576x432 with 1 Axes>"
      ]
     },
     "metadata": {
      "needs_background": "light"
     },
     "output_type": "display_data"
    }
   ],
   "source": [
    "problem_graph(crm_problem2, \"진정앰플\", \"여드름여부에 따른 진정앰플 구매수\")"
   ]
  },
  {
   "cell_type": "markdown",
   "metadata": {},
   "source": [
    "#### 좁쌀여드름\n"
   ]
  },
  {
   "cell_type": "code",
   "execution_count": 193,
   "metadata": {},
   "outputs": [],
   "source": [
    "crm_problem5 = crm.groupby(\"좁쌀\").sum()"
   ]
  },
  {
   "cell_type": "code",
   "execution_count": 202,
   "metadata": {
    "collapsed": true
   },
   "outputs": [
    {
     "data": {
      "image/png": "[encoded data removed]",
      "text/plain": [
       "<Figure size 576x432 with 1 Axes>"
      ]
     },
     "metadata": {
      "needs_background": "light"
     },
     "output_type": "display_data"
    }
   ],
   "source": [
    "problem_graph(crm_problem5, \"미백앰플\", \"좁쌀여드름 여부에 따른 미백앰플 구매수\")"
   ]
  },
  {
   "cell_type": "code",
   "execution_count": 203,
   "metadata": {
    "collapsed": true
   },
   "outputs": [
    {
     "data": {
      "image/png": "[encoded data removed]",
      "text/plain": [
       "<Figure size 576x432 with 1 Axes>"
      ]
     },
     "metadata": {
      "needs_background": "light"
     },
     "output_type": "display_data"
    }
   ],
   "source": [
    "problem_graph(crm_problem5, \"수분앰플\", \"좁쌀여드름 여부에 따른 수분앰플 구매수\")"
   ]
  },
  {
   "cell_type": "code",
   "execution_count": 204,
   "metadata": {
    "collapsed": true
   },
   "outputs": [
    {
     "data": {
      "image/png": "[encoded data removed]",
      "text/plain": [
       "<Figure size 576x432 with 1 Axes>"
      ]
     },
     "metadata": {
      "needs_background": "light"
     },
     "output_type": "display_data"
    }
   ],
   "source": [
    "problem_graph(crm_problem5, \"쑥앰플\", \"좁쌀여드름 여부에 따른 쑥앰플 구매수\")"
   ]
  },
  {
   "cell_type": "code",
   "execution_count": 205,
   "metadata": {
    "collapsed": true
   },
   "outputs": [
    {
     "data": {
      "image/png": "[encoded data removed]",
      "text/plain": [
       "<Figure size 576x432 with 1 Axes>"
      ]
     },
     "metadata": {
      "needs_background": "light"
     },
     "output_type": "display_data"
    }
   ],
   "source": [
    "problem_graph(crm_problem5, \"진정앰플\", \"좁쌀여드름 여부에 따른 진정앰플 구매수\")"
   ]
  },
  {
   "cell_type": "code",
   "execution_count": null,
   "metadata": {},
   "outputs": [],
   "source": []
  },
  {
   "cell_type": "markdown",
   "metadata": {},
   "source": [
    "#### 홍조, 예민"
   ]
  },
  {
   "cell_type": "code",
   "execution_count": 210,
   "metadata": {},
   "outputs": [],
   "source": [
    "crm_problem6 = crm.groupby(\"홍조&예민\").sum()"
   ]
  },
  {
   "cell_type": "code",
   "execution_count": 211,
   "metadata": {
    "collapsed": true
   },
   "outputs": [
    {
     "data": {
      "image/png": "[encoded data removed]",
      "text/plain": [
       "<Figure size 576x432 with 1 Axes>"
      ]
     },
     "metadata": {
      "needs_background": "light"
     },
     "output_type": "display_data"
    }
   ],
   "source": [
    "problem_graph(crm_problem6, \"미백앰플\", \"홍조&예민 여부에 따른 미백앰플 구매수\")"
   ]
  },
  {
   "cell_type": "code",
   "execution_count": 212,
   "metadata": {
    "collapsed": true
   },
   "outputs": [
    {
     "data": {
      "image/png": "[encoded data removed]",
      "text/plain": [
       "<Figure size 576x432 with 1 Axes>"
      ]
     },
     "metadata": {
      "needs_background": "light"
     },
     "output_type": "display_data"
    }
   ],
   "source": [
    "problem_graph(crm_problem6, \"수분앰플\", \"홍조&예민 여부에 따른 수분앰플 구매수\")"
   ]
  },
  {
   "cell_type": "code",
   "execution_count": 213,
   "metadata": {
    "collapsed": true
   },
   "outputs": [
    {
     "data": {
      "image/png": "[encoded data removed]",
      "text/plain": [
       "<Figure size 576x432 with 1 Axes>"
      ]
     },
     "metadata": {
      "needs_background": "light"
     },
     "output_type": "display_data"
    }
   ],
   "source": [
    "problem_graph(crm_problem6, \"쑥앰플\", \"홍조&예민 여부에 따른 쑥앰플 구매수\")"
   ]
  },
  {
   "cell_type": "code",
   "execution_count": 214,
   "metadata": {
    "collapsed": true
   },
   "outputs": [
    {
     "data": {
      "image/png": "[encoded data removed]",
      "text/plain": [
       "<Figure size 576x432 with 1 Axes>"
      ]
     },
     "metadata": {
      "needs_background": "light"
     },
     "output_type": "display_data"
    }
   ],
   "source": [
    "problem_graph(crm_problem6, \"진정앰플\", \"홍조&예민 여부에 따른 진정앰플 구매수\")"
   ]
  },
  {
   "cell_type": "markdown",
   "metadata": {},
   "source": [
    "#### 기미, 잡티"
   ]
  },
  {
   "cell_type": "code",
   "execution_count": 215,
   "metadata": {},
   "outputs": [],
   "source": [
    "crm_problem7 = crm.groupby(\"기미&잡티\").sum()"
   ]
  },
  {
   "cell_type": "code",
   "execution_count": 216,
   "metadata": {
    "collapsed": true
   },
   "outputs": [
    {
     "data": {
      "image/png": "[encoded data removed]",
      "text/plain": [
       "<Figure size 576x432 with 1 Axes>"
      ]
     },
     "metadata": {
      "needs_background": "light"
     },
     "output_type": "display_data"
    }
   ],
   "source": [
    "problem_graph(crm_problem7, \"미백앰플\", \"기미&잡티 여부에 따른 미백앰플 구매수\")"
   ]
  },
  {
   "cell_type": "code",
   "execution_count": 217,
   "metadata": {
    "collapsed": true
   },
   "outputs": [
    {
     "data": {
      "image/png": "[encoded data removed]",
      "text/plain": [
       "<Figure size 576x432 with 1 Axes>"
      ]
     },
     "metadata": {
      "needs_background": "light"
     },
     "output_type": "display_data"
    }
   ],
   "source": [
    "problem_graph(crm_problem7, \"수분앰플\", \"기미&잡티 여부에 따른 수분앰플 구매수\")"
   ]
  },
  {
   "cell_type": "code",
   "execution_count": 218,
   "metadata": {
    "collapsed": true
   },
   "outputs": [
    {
     "data": {
      "image/png": "[encoded data removed]",
      "text/plain": [
       "<Figure size 576x432 with 1 Axes>"
      ]
     },
     "metadata": {
      "needs_background": "light"
     },
     "output_type": "display_data"
    }
   ],
   "source": [
    "problem_graph(crm_problem7, \"쑥앰플\", \"기미&잡티 여부에 따른 쑥앰플 구매수\")"
   ]
  },
  {
   "cell_type": "code",
   "execution_count": 219,
   "metadata": {
    "collapsed": true
   },
   "outputs": [
    {
     "data": {
      "image/png": "[encoded data removed]",
      "text/plain": [
       "<Figure size 576x432 with 1 Axes>"
      ]
     },
     "metadata": {
      "needs_background": "light"
     },
     "output_type": "display_data"
    }
   ],
   "source": [
    "problem_graph(crm_problem7, \"진정앰플\", \"기미&잡티 여부에 따른 진정앰플 구매수\")"
   ]
  },
  {
   "cell_type": "code",
   "execution_count": null,
   "metadata": {},
   "outputs": [],
   "source": []
  },
  {
   "cell_type": "code",
   "execution_count": null,
   "metadata": {},
   "outputs": [],
   "source": []
  },
  {
   "cell_type": "code",
   "execution_count": null,
   "metadata": {},
   "outputs": [],
   "source": []
  },
  {
   "cell_type": "code",
   "execution_count": null,
   "metadata": {},
   "outputs": [],
   "source": []
  },
  {
   "cell_type": "code",
   "execution_count": null,
   "metadata": {},
   "outputs": [],
   "source": []
  },
  {
   "cell_type": "code",
   "execution_count": null,
   "metadata": {},
   "outputs": [],
   "source": []
  },
  {
   "cell_type": "code",
   "execution_count": null,
   "metadata": {},
   "outputs": [],
   "source": []
  },
  {
   "cell_type": "code",
   "execution_count": null,
   "metadata": {},
   "outputs": [],
   "source": []
  },
  {
   "cell_type": "code",
   "execution_count": null,
   "metadata": {},
   "outputs": [],
   "source": []
  },
  {
   "cell_type": "code",
   "execution_count": null,
   "metadata": {},
   "outputs": [],
   "source": []
  },
  {
   "cell_type": "code",
   "execution_count": null,
   "metadata": {},
   "outputs": [],
   "source": []
  },
  {
   "cell_type": "code",
   "execution_count": null,
   "metadata": {},
   "outputs": [],
   "source": []
  },
  {
   "cell_type": "code",
   "execution_count": null,
   "metadata": {},
   "outputs": [],
   "source": []
  },
  {
   "cell_type": "code",
   "execution_count": null,
   "metadata": {},
   "outputs": [],
   "source": []
  },
  {
   "cell_type": "code",
   "execution_count": null,
   "metadata": {},
   "outputs": [],
   "source": []
  },
  {
   "cell_type": "code",
   "execution_count": null,
   "metadata": {},
   "outputs": [],
   "source": []
  },
  {
   "cell_type": "code",
   "execution_count": null,
   "metadata": {},
   "outputs": [],
   "source": []
  },
  {
   "cell_type": "code",
   "execution_count": null,
   "metadata": {},
   "outputs": [],
   "source": []
  },
  {
   "cell_type": "code",
   "execution_count": null,
   "metadata": {},
   "outputs": [],
   "source": []
  },
  {
   "cell_type": "code",
   "execution_count": null,
   "metadata": {},
   "outputs": [],
   "source": []
  },
  {
   "cell_type": "code",
   "execution_count": null,
   "metadata": {},
   "outputs": [],
   "source": []
  },
  {
   "cell_type": "code",
   "execution_count": null,
   "metadata": {},
   "outputs": [],
   "source": []
  },
  {
   "cell_type": "code",
   "execution_count": null,
   "metadata": {},
   "outputs": [],
   "source": []
  },
  {
   "cell_type": "code",
   "execution_count": null,
   "metadata": {},
   "outputs": [],
   "source": []
  },
  {
   "cell_type": "code",
   "execution_count": null,
   "metadata": {},
   "outputs": [],
   "source": []
  },
  {
   "cell_type": "code",
   "execution_count": null,
   "metadata": {},
   "outputs": [],
   "source": []
  },
  {
   "cell_type": "code",
   "execution_count": null,
   "metadata": {},
   "outputs": [],
   "source": []
  },
  {
   "cell_type": "code",
   "execution_count": null,
   "metadata": {},
   "outputs": [],
   "source": []
  },
  {
   "cell_type": "code",
   "execution_count": null,
   "metadata": {},
   "outputs": [],
   "source": []
  },
  {
   "cell_type": "code",
   "execution_count": null,
   "metadata": {},
   "outputs": [],
   "source": []
  },
  {
   "cell_type": "code",
   "execution_count": null,
   "metadata": {},
   "outputs": [],
   "source": []
  },
  {
   "cell_type": "code",
   "execution_count": null,
   "metadata": {},
   "outputs": [],
   "source": []
  },
  {
   "cell_type": "code",
   "execution_count": null,
   "metadata": {},
   "outputs": [],
   "source": []
  },
  {
   "cell_type": "code",
   "execution_count": null,
   "metadata": {},
   "outputs": [],
   "source": []
  },
  {
   "cell_type": "code",
   "execution_count": null,
   "metadata": {},
   "outputs": [],
   "source": []
  },
  {
   "cell_type": "code",
   "execution_count": null,
   "metadata": {},
   "outputs": [],
   "source": []
  },
  {
   "cell_type": "code",
   "execution_count": null,
   "metadata": {},
   "outputs": [],
   "source": []
  },
  {
   "cell_type": "code",
   "execution_count": null,
   "metadata": {},
   "outputs": [],
   "source": []
  },
  {
   "cell_type": "code",
   "execution_count": null,
   "metadata": {},
   "outputs": [],
   "source": []
  },
  {
   "cell_type": "code",
   "execution_count": null,
   "metadata": {},
   "outputs": [],
   "source": []
  },
  {
   "cell_type": "code",
   "execution_count": null,
   "metadata": {},
   "outputs": [],
   "source": []
  },
  {
   "cell_type": "code",
   "execution_count": null,
   "metadata": {},
   "outputs": [],
   "source": []
  },
  {
   "cell_type": "code",
   "execution_count": null,
   "metadata": {},
   "outputs": [],
   "source": []
  },
  {
   "cell_type": "code",
   "execution_count": null,
   "metadata": {},
   "outputs": [],
   "source": []
  },
  {
   "cell_type": "code",
   "execution_count": null,
   "metadata": {},
   "outputs": [],
   "source": []
  },
  {
   "cell_type": "code",
   "execution_count": null,
   "metadata": {},
   "outputs": [],
   "source": []
  },
  {
   "cell_type": "code",
   "execution_count": null,
   "metadata": {},
   "outputs": [],
   "source": []
  },
  {
   "cell_type": "code",
   "execution_count": null,
   "metadata": {},
   "outputs": [],
   "source": []
  },
  {
   "cell_type": "code",
   "execution_count": null,
   "metadata": {},
   "outputs": [],
   "source": []
  },
  {
   "cell_type": "code",
   "execution_count": null,
   "metadata": {},
   "outputs": [],
   "source": []
  },
  {
   "cell_type": "code",
   "execution_count": null,
   "metadata": {},
   "outputs": [],
   "source": []
  },
  {
   "cell_type": "code",
   "execution_count": null,
   "metadata": {},
   "outputs": [],
   "source": []
  },
  {
   "cell_type": "code",
   "execution_count": null,
   "metadata": {},
   "outputs": [],
   "source": []
  },
  {
   "cell_type": "code",
   "execution_count": null,
   "metadata": {},
   "outputs": [],
   "source": []
  },
  {
   "cell_type": "code",
   "execution_count": null,
   "metadata": {},
   "outputs": [],
   "source": []
  },
  {
   "cell_type": "code",
   "execution_count": null,
   "metadata": {},
   "outputs": [],
   "source": []
  },
  {
   "cell_type": "code",
   "execution_count": null,
   "metadata": {},
   "outputs": [],
   "source": []
  },
  {
   "cell_type": "code",
   "execution_count": null,
   "metadata": {},
   "outputs": [],
   "source": []
  },
  {
   "cell_type": "code",
   "execution_count": null,
   "metadata": {},
   "outputs": [],
   "source": []
  },
  {
   "cell_type": "code",
   "execution_count": null,
   "metadata": {},
   "outputs": [],
   "source": []
  },
  {
   "cell_type": "code",
   "execution_count": null,
   "metadata": {},
   "outputs": [],
   "source": []
  },
  {
   "cell_type": "code",
   "execution_count": null,
   "metadata": {},
   "outputs": [],
   "source": []
  },
  {
   "cell_type": "code",
   "execution_count": null,
   "metadata": {},
   "outputs": [],
   "source": []
  },
  {
   "cell_type": "code",
   "execution_count": null,
   "metadata": {},
   "outputs": [],
   "source": []
  },
  {
   "cell_type": "code",
   "execution_count": null,
   "metadata": {},
   "outputs": [],
   "source": []
  },
  {
   "cell_type": "code",
   "execution_count": null,
   "metadata": {},
   "outputs": [],
   "source": []
  },
  {
   "cell_type": "code",
   "execution_count": null,
   "metadata": {},
   "outputs": [],
   "source": []
  }
 ],
 "metadata": {
  "kernelspec": {
   "display_name": "Python 3",
   "language": "python",
   "name": "python3"
  },
  "language_info": {
   "codemirror_mode": {
    "name": "ipython",
    "version": 3
   },
   "file_extension": ".py",
   "mimetype": "text/x-python",
   "name": "python",
   "nbconvert_exporter": "python",
   "pygments_lexer": "ipython3",
   "version": "3.8.5"
  }
 },
 "nbformat": 4,
 "nbformat_minor": 4
}

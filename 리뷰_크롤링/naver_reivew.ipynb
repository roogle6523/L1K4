{
 "cells": [
  {
   "cell_type": "code",
   "execution_count": 1,
   "metadata": {},
   "outputs": [],
   "source": [
    "from bs4 import BeautifulSoup\n",
    "\n",
    "from selenium import webdriver\n",
    "from selenium.webdriver.common.desired_capabilities import DesiredCapabilities\n",
    "from selenium.webdriver.common.keys import Keys\n",
    "from urllib.request import urlopen\n",
    "import urllib.request as req\n",
    "\n",
    "import re\n",
    "import csv\n",
    "import time\n",
    "import pandas as pd\n",
    "import numpy\n",
    "from tqdm import tqdm\n",
    "from tqdm import trange"
   ]
  },
  {
   "cell_type": "code",
   "execution_count": 64,
   "metadata": {},
   "outputs": [],
   "source": [
    "def naver_crawling(url, loop, pagenum, rw_ele, pt_ele, dt_ele, pagexpath, name):\n",
    "    # 드라이버\n",
    "    driver = webdriver.Chrome('C:/myPyCode/analysis/chromedriver')\n",
    "    driver.get(url)\n",
    "    driver.implicitly_wait(20)\n",
    "    \n",
    "\n",
    "#     rw_box = driver.find_element_by_xpath(rwbox)\n",
    "#     driver.execute_script(\"arguments[0].click();\", rw_box)\n",
    "#     driver.implicitly_wait(20)\n",
    "#     rw_box.click()\n",
    "\n",
    "    # 리뷰, 평점, 날짜 추가\n",
    "    review = []\n",
    "    point = []\n",
    "    date = []\n",
    "    for num in tqdm(range(loop)):\n",
    "        for num in range(pagenum):\n",
    "            # 리뷰, 평점, 날짜 선택\n",
    "            rw = driver.find_elements_by_css_selector(rw_ele)\n",
    "            pt = driver.find_elements_by_css_selector(pt_ele)\n",
    "            dt = driver.find_elements_by_css_selector(dt_ele)\n",
    "            \n",
    "            # 리스트에 추가\n",
    "            for x, i in enumerate(rw,1):\n",
    "                review.append(i.text)\n",
    "\n",
    "            for x, i in enumerate(pt,1):\n",
    "                point.append(i.text)\n",
    "\n",
    "            for x, i in enumerate(dt,1):\n",
    "                date.append(i.text)\n",
    "                \n",
    "            # 페이지넘기기\n",
    "            page_num = pagexpath.format(num+3)\n",
    "            driver.find_element_by_xpath(page_num).click()\n",
    "            print(page_num)\n",
    "            time.sleep(3)\n",
    "\n",
    "\n",
    "    print(len(review))\n",
    "    print(len(point))\n",
    "    print(len(date))\n",
    "    \n",
    "    # CSV 파일 저장\n",
    "    pd.DataFrame(review[:]).to_csv(\"naver_{}_review.csv\".format(name), encoding=\"utf-8-sig\")\n",
    "    pd.DataFrame(point[:]).to_csv(\"naver_{}_point.csv\".format(name), encoding=\"utf-8-sig\")\n",
    "    pd.DataFrame(date[:]).to_csv(\"naver_{}_date.csv\".format(name), encoding=\"utf-8-sig\")"
   ]
  },
  {
   "cell_type": "code",
   "execution_count": 73,
   "metadata": {
    "collapsed": true
   },
   "outputs": [
    {
     "name": "stderr",
     "output_type": "stream",
     "text": [
      "\r",
      "  0%|                                                                                            | 0/2 [00:00<?, ?it/s]"
     ]
    },
    {
     "name": "stdout",
     "output_type": "stream",
     "text": [
      "//*[@id=\"section_review\"]/div[3]/a[3]\n",
      "//*[@id=\"section_review\"]/div[3]/a[4]\n",
      "//*[@id=\"section_review\"]/div[3]/a[5]\n",
      "//*[@id=\"section_review\"]/div[3]/a[6]\n",
      "//*[@id=\"section_review\"]/div[3]/a[7]\n",
      "//*[@id=\"section_review\"]/div[3]/a[8]\n",
      "//*[@id=\"section_review\"]/div[3]/a[9]\n",
      "//*[@id=\"section_review\"]/div[3]/a[10]\n",
      "//*[@id=\"section_review\"]/div[3]/a[11]\n",
      "//*[@id=\"section_review\"]/div[3]/a[12]\n",
      "//*[@id=\"section_review\"]/div[3]/a[13]\n"
     ]
    },
    {
     "name": "stderr",
     "output_type": "stream",
     "text": [
      "\r",
      " 50%|██████████████████████████████████████████                                          | 1/2 [00:43<00:43, 43.13s/it]"
     ]
    },
    {
     "name": "stdout",
     "output_type": "stream",
     "text": [
      "//*[@id=\"section_review\"]/div[3]/a[3]\n",
      "//*[@id=\"section_review\"]/div[3]/a[4]\n",
      "//*[@id=\"section_review\"]/div[3]/a[5]\n",
      "//*[@id=\"section_review\"]/div[3]/a[6]\n",
      "//*[@id=\"section_review\"]/div[3]/a[7]\n",
      "//*[@id=\"section_review\"]/div[3]/a[8]\n",
      "//*[@id=\"section_review\"]/div[3]/a[9]\n",
      "//*[@id=\"section_review\"]/div[3]/a[10]\n",
      "//*[@id=\"section_review\"]/div[3]/a[11]\n",
      "//*[@id=\"section_review\"]/div[3]/a[12]\n",
      "//*[@id=\"section_review\"]/div[3]/a[13]\n"
     ]
    },
    {
     "name": "stderr",
     "output_type": "stream",
     "text": [
      "100%|████████████████████████████████████████████████████████████████████████████████████| 2/2 [01:25<00:00, 42.60s/it]"
     ]
    },
    {
     "name": "stdout",
     "output_type": "stream",
     "text": [
      "440\n",
      "440\n",
      "440\n"
     ]
    },
    {
     "name": "stderr",
     "output_type": "stream",
     "text": [
      "\n"
     ]
    }
   ],
   "source": [
    "naver_crawling(url=\"https://search.shopping.naver.com/catalog/22962597490\",\n",
    "               loop=2,\n",
    "               pagenum=11,\n",
    "               rw_ele=\"div.reviewItems_review_text__2Bwpa > p\",\n",
    "               pt_ele=\"span.reviewItems_average__16Ya-\",\n",
    "               dt_ele=\"div.reviewItems_etc_area__2P8i3 > span:nth-child(4)\",\n",
    "               pagexpath=\"\"\"//*[@id=\"section_review\"]/div[3]/a[{}]\"\"\",\n",
    "               name=\"niasin2\")"
   ]
  },
  {
   "cell_type": "code",
   "execution_count": 74,
   "metadata": {
    "collapsed": true
   },
   "outputs": [
    {
     "data": {
      "text/html": [
       "<div>\n",
       "<style scoped>\n",
       "    .dataframe tbody tr th:only-of-type {\n",
       "        vertical-align: middle;\n",
       "    }\n",
       "\n",
       "    .dataframe tbody tr th {\n",
       "        vertical-align: top;\n",
       "    }\n",
       "\n",
       "    .dataframe thead th {\n",
       "        text-align: right;\n",
       "    }\n",
       "</style>\n",
       "<table border=\"1\" class=\"dataframe\">\n",
       "  <thead>\n",
       "    <tr style=\"text-align: right;\">\n",
       "      <th></th>\n",
       "      <th>0</th>\n",
       "    </tr>\n",
       "  </thead>\n",
       "  <tbody>\n",
       "    <tr>\n",
       "      <th>0</th>\n",
       "      <td>20.04.03.</td>\n",
       "    </tr>\n",
       "    <tr>\n",
       "      <th>1</th>\n",
       "      <td>21.01.08.</td>\n",
       "    </tr>\n",
       "    <tr>\n",
       "      <th>2</th>\n",
       "      <td>21.01.09.</td>\n",
       "    </tr>\n",
       "    <tr>\n",
       "      <th>3</th>\n",
       "      <td>20.05.16.</td>\n",
       "    </tr>\n",
       "    <tr>\n",
       "      <th>4</th>\n",
       "      <td>20.05.16.</td>\n",
       "    </tr>\n",
       "    <tr>\n",
       "      <th>...</th>\n",
       "      <td>...</td>\n",
       "    </tr>\n",
       "    <tr>\n",
       "      <th>435</th>\n",
       "      <td>20.02.15.</td>\n",
       "    </tr>\n",
       "    <tr>\n",
       "      <th>436</th>\n",
       "      <td>20.05.20.</td>\n",
       "    </tr>\n",
       "    <tr>\n",
       "      <th>437</th>\n",
       "      <td>20.02.01.</td>\n",
       "    </tr>\n",
       "    <tr>\n",
       "      <th>438</th>\n",
       "      <td>20.05.27.</td>\n",
       "    </tr>\n",
       "    <tr>\n",
       "      <th>439</th>\n",
       "      <td>20.02.03.</td>\n",
       "    </tr>\n",
       "  </tbody>\n",
       "</table>\n",
       "<p>440 rows × 1 columns</p>\n",
       "</div>"
      ],
      "text/plain": [
       "             0\n",
       "0    20.04.03.\n",
       "1    21.01.08.\n",
       "2    21.01.09.\n",
       "3    20.05.16.\n",
       "4    20.05.16.\n",
       "..         ...\n",
       "435  20.02.15.\n",
       "436  20.05.20.\n",
       "437  20.02.01.\n",
       "438  20.05.27.\n",
       "439  20.02.03.\n",
       "\n",
       "[440 rows x 1 columns]"
      ]
     },
     "execution_count": 74,
     "metadata": {},
     "output_type": "execute_result"
    }
   ],
   "source": [
    "pd.read_csv(\"naver_niasin2_date.csv\", index_col=0)"
   ]
  },
  {
   "cell_type": "code",
   "execution_count": 75,
   "metadata": {
    "collapsed": true
   },
   "outputs": [
    {
     "data": {
      "text/html": [
       "<div>\n",
       "<style scoped>\n",
       "    .dataframe tbody tr th:only-of-type {\n",
       "        vertical-align: middle;\n",
       "    }\n",
       "\n",
       "    .dataframe tbody tr th {\n",
       "        vertical-align: top;\n",
       "    }\n",
       "\n",
       "    .dataframe thead th {\n",
       "        text-align: right;\n",
       "    }\n",
       "</style>\n",
       "<table border=\"1\" class=\"dataframe\">\n",
       "  <thead>\n",
       "    <tr style=\"text-align: right;\">\n",
       "      <th></th>\n",
       "      <th>0</th>\n",
       "    </tr>\n",
       "  </thead>\n",
       "  <tbody>\n",
       "    <tr>\n",
       "      <th>0</th>\n",
       "      <td>평점5</td>\n",
       "    </tr>\n",
       "    <tr>\n",
       "      <th>1</th>\n",
       "      <td>평점5</td>\n",
       "    </tr>\n",
       "    <tr>\n",
       "      <th>2</th>\n",
       "      <td>평점4</td>\n",
       "    </tr>\n",
       "    <tr>\n",
       "      <th>3</th>\n",
       "      <td>평점5</td>\n",
       "    </tr>\n",
       "    <tr>\n",
       "      <th>4</th>\n",
       "      <td>평점5</td>\n",
       "    </tr>\n",
       "    <tr>\n",
       "      <th>...</th>\n",
       "      <td>...</td>\n",
       "    </tr>\n",
       "    <tr>\n",
       "      <th>435</th>\n",
       "      <td>평점5</td>\n",
       "    </tr>\n",
       "    <tr>\n",
       "      <th>436</th>\n",
       "      <td>평점4</td>\n",
       "    </tr>\n",
       "    <tr>\n",
       "      <th>437</th>\n",
       "      <td>평점4</td>\n",
       "    </tr>\n",
       "    <tr>\n",
       "      <th>438</th>\n",
       "      <td>평점5</td>\n",
       "    </tr>\n",
       "    <tr>\n",
       "      <th>439</th>\n",
       "      <td>평점5</td>\n",
       "    </tr>\n",
       "  </tbody>\n",
       "</table>\n",
       "<p>440 rows × 1 columns</p>\n",
       "</div>"
      ],
      "text/plain": [
       "       0\n",
       "0    평점5\n",
       "1    평점5\n",
       "2    평점4\n",
       "3    평점5\n",
       "4    평점5\n",
       "..   ...\n",
       "435  평점5\n",
       "436  평점4\n",
       "437  평점4\n",
       "438  평점5\n",
       "439  평점5\n",
       "\n",
       "[440 rows x 1 columns]"
      ]
     },
     "execution_count": 75,
     "metadata": {},
     "output_type": "execute_result"
    }
   ],
   "source": [
    "pd.read_csv(\"naver_niasin2_point.csv\", index_col=0)"
   ]
  },
  {
   "cell_type": "code",
   "execution_count": 76,
   "metadata": {
    "collapsed": true
   },
   "outputs": [
    {
     "data": {
      "text/html": [
       "<div>\n",
       "<style scoped>\n",
       "    .dataframe tbody tr th:only-of-type {\n",
       "        vertical-align: middle;\n",
       "    }\n",
       "\n",
       "    .dataframe tbody tr th {\n",
       "        vertical-align: top;\n",
       "    }\n",
       "\n",
       "    .dataframe thead th {\n",
       "        text-align: right;\n",
       "    }\n",
       "</style>\n",
       "<table border=\"1\" class=\"dataframe\">\n",
       "  <thead>\n",
       "    <tr style=\"text-align: right;\">\n",
       "      <th></th>\n",
       "      <th>0</th>\n",
       "    </tr>\n",
       "  </thead>\n",
       "  <tbody>\n",
       "    <tr>\n",
       "      <th>0</th>\n",
       "      <td>1. 배송: 2일 오후 12시에 결재 후 3일 오후5시에 받앗으니 하루만에 총알 배...</td>\n",
       "    </tr>\n",
       "    <tr>\n",
       "      <th>1</th>\n",
       "      <td>제가 무딘편이라 향은 잘 모르겠고 색깔이 너무 이뻐요\\n흡수 진짜 잘되고 첫사용이라...</td>\n",
       "    </tr>\n",
       "    <tr>\n",
       "      <th>2</th>\n",
       "      <td>각질제거제랑 같이 구매했습니다. 무엇보다 가격이 괜찮아서 같이사도 부담이 안된다는 ...</td>\n",
       "    </tr>\n",
       "    <tr>\n",
       "      <th>3</th>\n",
       "      <td>나이아신 아마이드 효과가 만능연고인줄은 알고 있었지만 10퍼센트짜리로 직접 써보니까...</td>\n",
       "    </tr>\n",
       "    <tr>\n",
       "      <th>4</th>\n",
       "      <td>포장 상품 모두 만족해요~\\n발림성 좋구요\\n촉촉해요\\n발랐을땐 끈적거림이있는데\\n...</td>\n",
       "    </tr>\n",
       "    <tr>\n",
       "      <th>...</th>\n",
       "      <td>...</td>\n",
       "    </tr>\n",
       "    <tr>\n",
       "      <th>435</th>\n",
       "      <td>빠른 배송 감사합니다</td>\n",
       "    </tr>\n",
       "    <tr>\n",
       "      <th>436</th>\n",
       "      <td>다른 화장품에 섞어 쓰고 있어요 저렴해서 좋네요</td>\n",
       "    </tr>\n",
       "    <tr>\n",
       "      <th>437</th>\n",
       "      <td>재구매해요~잘쓸게요 많이파세요!</td>\n",
       "    </tr>\n",
       "    <tr>\n",
       "      <th>438</th>\n",
       "      <td>항상 쓰는제품라 믿고 씁니다\\n바른 직후 찐뜩거리는거 빼고 모두 만족입니다</td>\n",
       "    </tr>\n",
       "    <tr>\n",
       "      <th>439</th>\n",
       "      <td>사용하고 있는데 괜찮습니다</td>\n",
       "    </tr>\n",
       "  </tbody>\n",
       "</table>\n",
       "<p>440 rows × 1 columns</p>\n",
       "</div>"
      ],
      "text/plain": [
       "                                                     0\n",
       "0    1. 배송: 2일 오후 12시에 결재 후 3일 오후5시에 받앗으니 하루만에 총알 배...\n",
       "1    제가 무딘편이라 향은 잘 모르겠고 색깔이 너무 이뻐요\\n흡수 진짜 잘되고 첫사용이라...\n",
       "2    각질제거제랑 같이 구매했습니다. 무엇보다 가격이 괜찮아서 같이사도 부담이 안된다는 ...\n",
       "3    나이아신 아마이드 효과가 만능연고인줄은 알고 있었지만 10퍼센트짜리로 직접 써보니까...\n",
       "4    포장 상품 모두 만족해요~\\n발림성 좋구요\\n촉촉해요\\n발랐을땐 끈적거림이있는데\\n...\n",
       "..                                                 ...\n",
       "435                                        빠른 배송 감사합니다\n",
       "436                         다른 화장품에 섞어 쓰고 있어요 저렴해서 좋네요\n",
       "437                                  재구매해요~잘쓸게요 많이파세요!\n",
       "438          항상 쓰는제품라 믿고 씁니다\\n바른 직후 찐뜩거리는거 빼고 모두 만족입니다\n",
       "439                                     사용하고 있는데 괜찮습니다\n",
       "\n",
       "[440 rows x 1 columns]"
      ]
     },
     "execution_count": 76,
     "metadata": {},
     "output_type": "execute_result"
    }
   ],
   "source": [
    "pd.read_csv(\"naver_niasin2_review.csv\", index_col=0)"
   ]
  },
  {
   "cell_type": "code",
   "execution_count": null,
   "metadata": {},
   "outputs": [],
   "source": []
  },
  {
   "cell_type": "code",
   "execution_count": null,
   "metadata": {},
   "outputs": [],
   "source": []
  },
  {
   "cell_type": "code",
   "execution_count": null,
   "metadata": {},
   "outputs": [],
   "source": []
  },
  {
   "cell_type": "code",
   "execution_count": null,
   "metadata": {},
   "outputs": [],
   "source": []
  }
 ],
 "metadata": {
  "kernelspec": {
   "display_name": "Python 3",
   "language": "python",
   "name": "python3"
  },
  "language_info": {
   "codemirror_mode": {
    "name": "ipython",
    "version": 3
   },
   "file_extension": ".py",
   "mimetype": "text/x-python",
   "name": "python",
   "nbconvert_exporter": "python",
   "pygments_lexer": "ipython3",
   "version": "3.8.5"
  }
 },
 "nbformat": 4,
 "nbformat_minor": 4
}
